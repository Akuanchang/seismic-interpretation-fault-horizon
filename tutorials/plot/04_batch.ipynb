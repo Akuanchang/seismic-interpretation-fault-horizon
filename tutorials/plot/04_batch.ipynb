{
 "cells": [
  {
   "cell_type": "code",
   "execution_count": null,
   "metadata": {
    "tags": []
   },
   "outputs": [],
   "source": [
    "%load_ext autoreload\n",
    "%autoreload 2"
   ]
  },
  {
   "cell_type": "code",
   "execution_count": null,
   "metadata": {
    "tags": []
   },
   "outputs": [],
   "source": [
    "import sys\n",
    "import numpy as np\n",
    "\n",
    "sys.path.insert(0, '../../../batchflow')\n",
    "sys.path.insert(0, '../../')\n",
    "\n",
    "from seismiqb import SeismicDataset, HorizonMetrics, SeismicSampler\n",
    "from batchflow import Pipeline"
   ]
  },
  {
   "cell_type": "code",
   "execution_count": null,
   "metadata": {
    "tags": []
   },
   "outputs": [],
   "source": [
    "GEOMETRY_PATH = ''\n",
    "HORIZONS_PATH = ''\n",
    "\n",
    "dataset = SeismicDataset({GEOMETRY_PATH: {'horizons': HORIZONS_PATH}})\n",
    "print(dataset)"
   ]
  },
  {
   "cell_type": "code",
   "execution_count": null,
   "metadata": {
    "tags": []
   },
   "outputs": [],
   "source": [
    "field = dataset[0]\n",
    "horizon = field.horizons[0]"
   ]
  },
  {
   "cell_type": "code",
   "execution_count": null,
   "metadata": {
    "tags": []
   },
   "outputs": [],
   "source": [
    "CROP_SHAPE = (1, 128, 256)\n",
    "\n",
    "sampler = SeismicSampler(labels=dataset.labels, crop_shape=CROP_SHAPE)\n",
    "\n",
    "sampler.show_sampled()"
   ]
  },
  {
   "cell_type": "code",
   "execution_count": null,
   "metadata": {},
   "outputs": [],
   "source": [
    "BATCH_SIZE = 32\n",
    "\n",
    "template = (\n",
    "    Pipeline()\n",
    "    .make_locations(generator=sampler, batch_size=BATCH_SIZE)\n",
    "    .load_cubes(dst='images')\n",
    "    .create_masks(dst='masks')\n",
    ")\n",
    "pipeline = template << dataset"
   ]
  },
  {
   "cell_type": "code",
   "execution_count": null,
   "metadata": {},
   "outputs": [],
   "source": [
    "%%time\n",
    "batch = pipeline.next_batch()\n",
    "plotter = batch.plot(dilate=[None, 1, [None, 1]])"
   ]
  },
  {
   "cell_type": "code",
   "execution_count": null,
   "metadata": {},
   "outputs": [],
   "source": [
    "CROP_SHAPE = (512, 512, 1)\n",
    "\n",
    "sampler = SeismicSampler(labels=dataset.labels, crop_shape=CROP_SHAPE, threshold=0., mode='horizon', shift_height=False)\n",
    "\n",
    "sampler.show_sampled()"
   ]
  },
  {
   "cell_type": "code",
   "execution_count": null,
   "metadata": {
    "tags": []
   },
   "outputs": [],
   "source": [
    "BATCH_SIZE = 32\n",
    "\n",
    "template = (\n",
    "    Pipeline()\n",
    "    .make_locations(generator=sampler, batch_size=BATCH_SIZE)\n",
    "    .compute_label_attribute(src='horizons:*/amplitudes', dst='images', fill_value=0)\n",
    "    .compute_label_attribute(src='horizons:*/mask', dst='masks', fill_value=0)\n",
    ")\n",
    "pipeline = template << dataset"
   ]
  },
  {
   "cell_type": "code",
   "execution_count": null,
   "metadata": {
    "tags": []
   },
   "outputs": [],
   "source": [
    "%%time\n",
    "batch = pipeline.next_batch()\n",
    "plotter = batch.plot(alpha=[1.0, 1.0, [1.0, 0.5]], dilate=[None, 10, None], mask=['<0', None, None])"
   ]
  },
  {
   "cell_type": "code",
   "execution_count": null,
   "metadata": {
    "scrolled": false,
    "tags": []
   },
   "outputs": [],
   "source": [
    "n = 5\n",
    "batch.plot_roll(n=n, components=[['images'], ['images', 'masks']], alpha=[1.0, [1.0, 0.5]] * n)"
   ]
  }
 ],
 "metadata": {
  "kernelspec": {
   "display_name": "Python 3 (ipykernel)",
   "language": "python",
   "name": "python3"
  },
  "language_info": {
   "codemirror_mode": {
    "name": "ipython",
    "version": 3
   },
   "file_extension": ".py",
   "mimetype": "text/x-python",
   "name": "python",
   "nbconvert_exporter": "python",
   "pygments_lexer": "ipython3",
   "version": "3.9.10"
  },
  "widgets": {
   "application/vnd.jupyter.widget-state+json": {
    "state": {
     "5705f4ea08ab4e2b9672387f3db22226": {
      "model_module": "@jupyter-widgets/base",
      "model_module_version": "1.2.0",
      "model_name": "LayoutModel",
      "state": {}
     },
     "bf8427636dc54235882bb1de4ea89adc": {
      "model_module": "@jupyter-widgets/output",
      "model_module_version": "1.0.0",
      "model_name": "OutputModel",
      "state": {
       "layout": "IPY_MODEL_5705f4ea08ab4e2b9672387f3db22226"
      }
     }
    },
    "version_major": 2,
    "version_minor": 0
   }
  }
 },
 "nbformat": 4,
 "nbformat_minor": 4
}
