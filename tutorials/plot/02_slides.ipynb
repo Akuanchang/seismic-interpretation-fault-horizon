{
 "cells": [
  {
   "cell_type": "code",
   "execution_count": null,
   "metadata": {
    "tags": []
   },
   "outputs": [],
   "source": [
    "%load_ext autoreload\n",
    "%autoreload 2"
   ]
  },
  {
   "cell_type": "code",
   "execution_count": null,
   "metadata": {},
   "outputs": [],
   "source": [
    "%env SEISMIQB_ANONYMIZE 1\n",
    "\n",
    "import sys\n",
    "import numpy as np\n",
    "from copy import copy\n",
    "\n",
    "PROJECT_PATH = '../' * 3\n",
    "sys.path.insert(0, f'{PROJECT_PATH}seismiqb')\n",
    "sys.path.insert(0, f'{PROJECT_PATH}src')\n",
    "\n",
    "from seismiqb import SeismicDataset, HorizonMetrics, SeismicSampler"
   ]
  },
  {
   "cell_type": "code",
   "execution_count": null,
   "metadata": {
    "tags": []
   },
   "outputs": [],
   "source": [
    "from glob import glob\n",
    "GEOMETRY_PATH = '/data/seismic_data/seismic_interpretation/001_YETYPUR/001_YETYPUR.blosc'\n",
    "HORIZONS_PATH = glob('/data/seismic_data/seismic_interpretation/001_YETYPUR/INPUTS/HORIZONS/RAW/*')[1:4]\n",
    "\n",
    "dataset = SeismicDataset({GEOMETRY_PATH: {'horizons': HORIZONS_PATH}})\n",
    "print(dataset)"
   ]
  },
  {
   "cell_type": "markdown",
   "metadata": {},
   "source": [
    "# Slides"
   ]
  },
  {
   "cell_type": "code",
   "execution_count": null,
   "metadata": {
    "tags": []
   },
   "outputs": [],
   "source": [
    "dataset.show_slide(\n",
    "    loc = dataset[0].shape[1] // 2,\n",
    "    width=20,\n",
    "    axis=1\n",
    ")"
   ]
  },
  {
   "cell_type": "markdown",
   "metadata": {},
   "source": [
    "One can request same slide directly from field."
   ]
  },
  {
   "cell_type": "code",
   "execution_count": null,
   "metadata": {
    "tags": []
   },
   "outputs": [],
   "source": [
    "field = dataset[0]"
   ]
  },
  {
   "cell_type": "markdown",
   "metadata": {},
   "source": [
    "Use `scale` parameter to enlarge/reduce figure size keeping its aspect ratio."
   ]
  },
  {
   "cell_type": "code",
   "execution_count": null,
   "metadata": {
    "tags": []
   },
   "outputs": [],
   "source": [
    "field.show_slide(\n",
    "    loc=field.shape[1] // 2,\n",
    "    width=10,\n",
    "    axis=1,\n",
    "    scale=2.5\n",
    ")"
   ]
  },
  {
   "cell_type": "markdown",
   "metadata": {},
   "source": [
    "Use `zoom_slice` to focus on specific slide region."
   ]
  },
  {
   "cell_type": "code",
   "execution_count": null,
   "metadata": {
    "tags": []
   },
   "outputs": [],
   "source": [
    "zoom_slice = (slice(0, 500), slice(400, 550))\n",
    "\n",
    "field.show_slide(\n",
    "    field.shape[1] // 2,\n",
    "    width=5,\n",
    "    axis=1,\n",
    "    scale=2.5,\n",
    "    zoom_slice=zoom_slice,\n",
    "    alpha=[1., .5],\n",
    "    cmap=['Greys_r', 'forestgreen']\n",
    ")"
   ]
  },
  {
   "cell_type": "markdown",
   "metadata": {},
   "source": [
    "To display seismic data and horizon mask on separate plots, use `combine='separate'`."
   ]
  },
  {
   "cell_type": "code",
   "execution_count": null,
   "metadata": {
    "tags": []
   },
   "outputs": [],
   "source": [
    "zoom_slice = (slice(0, 500), slice(400, 550))\n",
    "\n",
    "field.show_slide(\n",
    "    field.shape[1] // 2,\n",
    "    width=5,\n",
    "    axis=1,\n",
    "    scale=2.5,\n",
    "    zoom_slice=zoom_slice,\n",
    "    alpha=[1., .5],\n",
    "    cmap=['Greys_r', 'forestgreen'],\n",
    "    combine='separate',\n",
    "    nrows=2,\n",
    ")"
   ]
  },
  {
   "cell_type": "code",
   "execution_count": null,
   "metadata": {},
   "outputs": [],
   "source": []
  }
 ],
 "metadata": {
  "kernelspec": {
   "display_name": "Python 3 (ipykernel)",
   "language": "python",
   "name": "python3"
  },
  "language_info": {
   "codemirror_mode": {
    "name": "ipython",
    "version": 3
   },
   "file_extension": ".py",
   "mimetype": "text/x-python",
   "name": "python",
   "nbconvert_exporter": "python",
   "pygments_lexer": "ipython3",
   "version": "3.8.10"
  },
  "widgets": {
   "application/vnd.jupyter.widget-state+json": {
    "state": {
     "53d386b3bcd74afea7c36e53559dafe2": {
      "model_module": "@jupyter-widgets/output",
      "model_module_version": "1.0.0",
      "model_name": "OutputModel",
      "state": {
       "layout": "IPY_MODEL_f93b678ea46643f4856ed298ead9c76d"
      }
     },
     "f93b678ea46643f4856ed298ead9c76d": {
      "model_module": "@jupyter-widgets/base",
      "model_module_version": "1.2.0",
      "model_name": "LayoutModel",
      "state": {}
     }
    },
    "version_major": 2,
    "version_minor": 0
   }
  }
 },
 "nbformat": 4,
 "nbformat_minor": 4
}
