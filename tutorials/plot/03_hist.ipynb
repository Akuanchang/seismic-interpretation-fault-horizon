{
 "cells": [
  {
   "cell_type": "code",
   "execution_count": null,
   "metadata": {
    "tags": []
   },
   "outputs": [],
   "source": [
    "%load_ext autoreload\n",
    "%autoreload 2"
   ]
  },
  {
   "cell_type": "code",
   "execution_count": null,
   "metadata": {
    "tags": []
   },
   "outputs": [],
   "source": [
    "%env SEISMIQB_ANONYMIZE 1\n",
    "\n",
    "import sys\n",
    "import numpy as np\n",
    "from copy import copy\n",
    "\n",
    "PROJECT_PATH = '../' * 3\n",
    "sys.path.insert(0, f'{PROJECT_PATH}seismiqb')\n",
    "sys.path.insert(0, f'{PROJECT_PATH}src')\n",
    "\n",
    "from seismiqb import SeismicDataset, HorizonMetrics, SeismicSampler"
   ]
  },
  {
   "cell_type": "code",
   "execution_count": null,
   "metadata": {
    "tags": []
   },
   "outputs": [],
   "source": [
    "from glob import glob\n",
    "GEOMETRY_PATH = '/data/seismic_data/seismic_interpretation/001_YETYPUR/001_YETYPUR.blosc'\n",
    "HORIZONS_PATH = glob('/data/seismic_data/seismic_interpretation/001_YETYPUR/INPUTS/HORIZONS/RAW/*')[1:4]\n",
    "\n",
    "dataset = SeismicDataset({GEOMETRY_PATH: {'horizons': HORIZONS_PATH}})\n",
    "print(dataset)"
   ]
  },
  {
   "cell_type": "code",
   "execution_count": null,
   "metadata": {
    "tags": []
   },
   "outputs": [],
   "source": [
    "field = dataset[0]\n",
    "horizon = field.horizons[0]"
   ]
  },
  {
   "cell_type": "markdown",
   "metadata": {},
   "source": [
    "## Field attributes"
   ]
  },
  {
   "cell_type": "markdown",
   "metadata": {},
   "source": [
    "Use `mode='hist'` to plot histograms for desired field attributes."
   ]
  },
  {
   "cell_type": "code",
   "execution_count": null,
   "metadata": {
    "tags": []
   },
   "outputs": [],
   "source": [
    "_ = field.show(\n",
    "    attributes=[\n",
    "        'snr',\n",
    "        'horizons:*/depths',\n",
    "        'horizons:*/amplitudes',\n",
    "        'horizons:*/instant_amplitudes'\n",
    "    ],\n",
    "    mode='hist',\n",
    "    combine='separate'\n",
    ")"
   ]
  },
  {
   "cell_type": "code",
   "execution_count": null,
   "metadata": {
    "tags": []
   },
   "outputs": [],
   "source": [
    "field.show(\n",
    "    attributes=[f'horizons:{i}/depths' for i in range(len(field.horizons))],\n",
    "    mode='hist',\n",
    "    ratio=.5,\n",
    "    title_pattern='Depths distribution of {label_name}',\n",
    ")"
   ]
  },
  {
   "cell_type": "markdown",
   "metadata": {},
   "source": [
    "## Metrics"
   ]
  },
  {
   "cell_type": "markdown",
   "metadata": {},
   "source": [
    "Some functions, like `horizon.compare` already use `mode='hist'` under the hood."
   ]
  },
  {
   "cell_type": "code",
   "execution_count": null,
   "metadata": {
    "tags": []
   },
   "outputs": [],
   "source": [
    "def gkern(size, sigma):\n",
    "    x = np.linspace(-(size - 1) / 2., (size - 1) / 2., size)\n",
    "    gauss = np.exp(-0.5 * np.square(x) / np.square(sigma))\n",
    "    kernel = np.outer(gauss, gauss)\n",
    "    return kernel / np.sum(kernel)\n",
    "\n",
    "def add_horizon_anomalies(horizon):\n",
    "    shifts = np.zeros(horizon.matrix.shape, dtype=np.int32)\n",
    "\n",
    "    for _ in range(np.random.randint(10, 20)):\n",
    "        size = np.random.randint(10, 50)\n",
    "        kernel = gkern(size, size *.3)\n",
    "        kernel = kernel / kernel.max() * np.random.randint(5, 10)\n",
    "        kernel = np.repeat(kernel, np.random.randint(1,4), axis=np.random.randint(2))\n",
    "\n",
    "        i, x, h = horizon.points[np.random.choice(len(horizon))]\n",
    "        i_start = i - kernel.shape[0] // 2\n",
    "        i_stop = i_start + kernel.shape[0]\n",
    "        x_start = x - kernel.shape[1] // 2\n",
    "        x_stop = x_start + kernel.shape[1]\n",
    "\n",
    "        if (i_start < 0) or (x_start < 0) or (i_stop > shifts.shape[0]) or (x_stop > shifts.shape[1]):\n",
    "            continue\n",
    "\n",
    "        shifts[i_start : i_stop, x_start : x_stop] += kernel.astype(np.int32)\n",
    "\n",
    "    shifts[horizon.matrix < 0] = horizon.FILL_VALUE\n",
    "    shifter = lambda matrix: matrix + shifts\n",
    "\n",
    "    shifted = copy(horizon)\n",
    "    shifted.name = f\"shifted {horizon.name}\"\n",
    "    shifted.apply_to_matrix(shifter)\n",
    "    \n",
    "    return shifted"
   ]
  },
  {
   "cell_type": "markdown",
   "metadata": {},
   "source": [
    "Note that additional arguments for histogram might be provided with `hist_` prefix."
   ]
  },
  {
   "cell_type": "code",
   "execution_count": null,
   "metadata": {
    "tags": []
   },
   "outputs": [],
   "source": [
    "anomalous = add_horizon_anomalies(horizon)\n",
    "_ = horizon.compare(anomalous, printer=lambda _: None, ignore_zeros=True)"
   ]
  },
  {
   "cell_type": "markdown",
   "metadata": {},
   "source": [
    "One can provide parameters for those plots histograms via `hist_kwargs`."
   ]
  },
  {
   "cell_type": "code",
   "execution_count": null,
   "metadata": {
    "tags": []
   },
   "outputs": [],
   "source": [
    "_ = horizon.compare(\n",
    "    anomalous,\n",
    "    printer=lambda _: None,\n",
    "    ignore_zeros=True,\n",
    "    hist_kwargs=\n",
    "    {\n",
    "        'color': 'lightcoral',\n",
    "        'hist_log': True,\n",
    "        'hist_cumulative': -1,\n",
    "        'hist_histtype': 'step',\n",
    "        'hist_linewidth': 3,\n",
    "        'hist_linestyle': '--',\n",
    "        'title': 'Cumulative histogram of horizon depths differences'\n",
    "    }\n",
    ")"
   ]
  },
  {
   "cell_type": "code",
   "execution_count": null,
   "metadata": {},
   "outputs": [],
   "source": []
  }
 ],
 "metadata": {
  "kernelspec": {
   "display_name": "Python 3 (ipykernel)",
   "language": "python",
   "name": "python3"
  },
  "language_info": {
   "codemirror_mode": {
    "name": "ipython",
    "version": 3
   },
   "file_extension": ".py",
   "mimetype": "text/x-python",
   "name": "python",
   "nbconvert_exporter": "python",
   "pygments_lexer": "ipython3",
   "version": "3.8.10"
  },
  "widgets": {
   "application/vnd.jupyter.widget-state+json": {
    "state": {
     "0d898d0fcdd143b5903cf40cbc03ac5a": {
      "model_module": "@jupyter-widgets/base",
      "model_module_version": "1.2.0",
      "model_name": "LayoutModel",
      "state": {}
     },
     "25fe05ee9b1441f3bcc1d2483459bce1": {
      "model_module": "@jupyter-widgets/output",
      "model_module_version": "1.0.0",
      "model_name": "OutputModel",
      "state": {
       "layout": "IPY_MODEL_0d898d0fcdd143b5903cf40cbc03ac5a"
      }
     }
    },
    "version_major": 2,
    "version_minor": 0
   }
  }
 },
 "nbformat": 4,
 "nbformat_minor": 4
}
