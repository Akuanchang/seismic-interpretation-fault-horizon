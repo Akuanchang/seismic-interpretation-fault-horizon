{
 "cells": [
  {
   "cell_type": "code",
   "execution_count": null,
   "metadata": {
    "tags": []
   },
   "outputs": [],
   "source": [
    "%load_ext autoreload\n",
    "%autoreload 2"
   ]
  },
  {
   "cell_type": "code",
   "execution_count": null,
   "metadata": {
    "tags": []
   },
   "outputs": [],
   "source": [
    "%env SEISMIQB_ANONYMIZE 1\n",
    "\n",
    "import sys\n",
    "import numpy as np\n",
    "from copy import copy\n",
    "\n",
    "PROJECT_PATH = '../' * 3\n",
    "sys.path.insert(0, f'{PROJECT_PATH}seismiqb')\n",
    "sys.path.insert(0, f'{PROJECT_PATH}src')\n",
    "\n",
    "from seismiqb import SeismicDataset, HorizonMetrics, SeismicSampler"
   ]
  },
  {
   "cell_type": "code",
   "execution_count": null,
   "metadata": {
    "tags": []
   },
   "outputs": [],
   "source": [
    "from glob import glob\n",
    "GEOMETRY_PATH = '/data/seismic_data/seismic_interpretation/001_YETYPUR/001_YETYPUR.blosc'\n",
    "HORIZONS_PATH = glob('/data/seismic_data/seismic_interpretation/001_YETYPUR/INPUTS/HORIZONS/RAW/*')[1:4]\n",
    "\n",
    "dataset = SeismicDataset({GEOMETRY_PATH: {'horizons': HORIZONS_PATH}})\n",
    "print(dataset)"
   ]
  },
  {
   "cell_type": "markdown",
   "metadata": {},
   "source": [
    "# Field attributes"
   ]
  },
  {
   "cell_type": "code",
   "execution_count": null,
   "metadata": {
    "tags": []
   },
   "outputs": [],
   "source": [
    "field = dataset[0]"
   ]
  },
  {
   "cell_type": "markdown",
   "metadata": {},
   "source": [
    "To display several field attributes one over another simply provide them as a list of names.\n",
    "\n",
    "Plot parameters are passed in the same manner as in `plot_image`:\n",
    "1. If parameter name can be interpreted unequivocally, than pass it \"as is\"  (e.g. `'cmap'` is obviously can be meant only for `plt.imshow`).\n",
    "\n",
    "2. Else, if parameter name might be meant for several annotation methods, put a prefix before it to specify it's destination method <br>\n",
    "   (e.g. `'label'` is valid for `plt.title`, `plt.suptitle`, `plt.legend`, so one should provide it as `'leged_label'`). "
   ]
  },
  {
   "cell_type": "code",
   "execution_count": null,
   "metadata": {
    "tags": []
   },
   "outputs": [],
   "source": [
    "field.show(\n",
    "    attributes=['snr', 'horizons:0/masks'],\n",
    "    cmap=['hot_r', 'deepskyblue'], \n",
    "    label='horizon mask',\n",
    ")"
   ]
  },
  {
   "cell_type": "markdown",
   "metadata": {},
   "source": [
    "To display attributes separately provide `separate=True`."
   ]
  },
  {
   "cell_type": "code",
   "execution_count": null,
   "metadata": {
    "tags": []
   },
   "outputs": [],
   "source": [
    "field.show(['quality_map', 'quality_grid'], combine='separate')"
   ]
  },
  {
   "cell_type": "markdown",
   "metadata": {},
   "source": [
    "# Horizon attributes"
   ]
  },
  {
   "cell_type": "code",
   "execution_count": null,
   "metadata": {
    "tags": []
   },
   "outputs": [],
   "source": [
    "horizon = field.horizons[0]"
   ]
  },
  {
   "cell_type": "markdown",
   "metadata": {},
   "source": [
    "One can display horizon attributes by calling `show` directly on `Horizon` instance."
   ]
  },
  {
   "cell_type": "code",
   "execution_count": null,
   "metadata": {
    "tags": []
   },
   "outputs": [],
   "source": [
    "horizon.show(['depths', 'gradient', 'amplitudes', 'spikes'], combine='separate', bbox=True, ncols=2)"
   ]
  },
  {
   "cell_type": "markdown",
   "metadata": {},
   "source": [
    "# Metrics"
   ]
  },
  {
   "cell_type": "markdown",
   "metadata": {},
   "source": [
    "Note that additional arguments for histogram might be provided with `hist_` prefix."
   ]
  },
  {
   "cell_type": "code",
   "execution_count": null,
   "metadata": {
    "tags": []
   },
   "outputs": [],
   "source": [
    "horizon_metrics = HorizonMetrics([horizon])\n",
    "_ = horizon_metrics.evaluate('support_corrs')"
   ]
  },
  {
   "cell_type": "code",
   "execution_count": null,
   "metadata": {
    "tags": []
   },
   "outputs": [],
   "source": [
    "field.geometry.show()"
   ]
  },
  {
   "cell_type": "code",
   "execution_count": null,
   "metadata": {
    "tags": []
   },
   "outputs": [],
   "source": [
    "field.geometry.show_histogram()"
   ]
  },
  {
   "cell_type": "markdown",
   "metadata": {},
   "source": [
    "# Samplers"
   ]
  },
  {
   "cell_type": "code",
   "execution_count": null,
   "metadata": {
    "tags": []
   },
   "outputs": [],
   "source": [
    "sampler = SeismicSampler(labels=dataset.horizons, crop_shape=(256, 1, 256), threshold=0.1, mode='horizon')"
   ]
  },
  {
   "cell_type": "code",
   "execution_count": null,
   "metadata": {
    "tags": []
   },
   "outputs": [],
   "source": [
    "sampler.show_sampled()"
   ]
  },
  {
   "cell_type": "code",
   "execution_count": null,
   "metadata": {
    "tags": []
   },
   "outputs": [],
   "source": [
    "sampler.show_locations()"
   ]
  },
  {
   "cell_type": "markdown",
   "metadata": {},
   "source": [
    "# Extreme plotting cases"
   ]
  },
  {
   "cell_type": "code",
   "execution_count": null,
   "metadata": {
    "tags": []
   },
   "outputs": [],
   "source": [
    "horizons_depths = [horizon.load_attribute('depths', dtype=np.float32) for horizon in dataset.horizons.flat]\n",
    "\n",
    "plot_kwargs = {\n",
    "    'title': 'Several horizons depths maps overlaid',\n",
    "    'alpha': .5\n",
    "}\n",
    "\n",
    "horizon.show(horizons_depths, **plot_kwargs)"
   ]
  },
  {
   "cell_type": "code",
   "execution_count": null,
   "metadata": {
    "tags": []
   },
   "outputs": [],
   "source": [
    "plot_kwargs = {\n",
    "    'combine': 'separate',\n",
    "    'cmap': ['Basic'] * 3 + ['Depths'] * 3,\n",
    "    'ncols': 3\n",
    "}\n",
    "\n",
    "horizon.show(horizons_depths * 2, **plot_kwargs)"
   ]
  }
 ],
 "metadata": {
  "kernelspec": {
   "display_name": "Python 3 (ipykernel)",
   "language": "python",
   "name": "python3"
  },
  "language_info": {
   "codemirror_mode": {
    "name": "ipython",
    "version": 3
   },
   "file_extension": ".py",
   "mimetype": "text/x-python",
   "name": "python",
   "nbconvert_exporter": "python",
   "pygments_lexer": "ipython3",
   "version": "3.8.10"
  },
  "widgets": {
   "application/vnd.jupyter.widget-state+json": {
    "state": {
     "d642aa19239e4163a0a8a38834fa39a6": {
      "model_module": "@jupyter-widgets/base",
      "model_module_version": "1.2.0",
      "model_name": "LayoutModel",
      "state": {}
     },
     "fdc70311f2614e0d97bee06b751ddfdd": {
      "model_module": "@jupyter-widgets/output",
      "model_module_version": "1.0.0",
      "model_name": "OutputModel",
      "state": {
       "layout": "IPY_MODEL_d642aa19239e4163a0a8a38834fa39a6"
      }
     }
    },
    "version_major": 2,
    "version_minor": 0
   }
  }
 },
 "nbformat": 4,
 "nbformat_minor": 4
}
