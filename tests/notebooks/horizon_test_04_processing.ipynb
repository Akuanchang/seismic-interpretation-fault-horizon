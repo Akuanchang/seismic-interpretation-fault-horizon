{
 "cells": [
  {
   "cell_type": "code",
   "execution_count": null,
   "metadata": {},
   "outputs": [],
   "source": [
    "# Tests for methods that process horizon surface (filtering, creating carcass, holes, etc.)\n",
    "import os\n",
    "import sys\n",
    "import warnings\n",
    "import numpy as np\n",
    "from scipy.ndimage.morphology import binary_dilation\n",
    "\n",
    "warnings.filterwarnings('ignore')\n",
    "\n",
    "sys.path.append('../../../seismiqb')\n",
    "\n",
    "from seismiqb import Field, Horizon, plot_image"
   ]
  },
  {
   "cell_type": "code",
   "execution_count": null,
   "metadata": {},
   "outputs": [],
   "source": [
    "\"\"\" You can manage cube and horizon for the test:\n",
    "\n",
    "CUBE_PATH : str\n",
    "    Path to an existed seismic cube.\n",
    "HORIZON_PATH : str\n",
    "    Path to an existed seismic horizon.\n",
    "\"\"\"\n",
    "# Tests parameters\n",
    "OUTPUT_DIR = './horizon_test_files'\n",
    "\n",
    "CUBE_PATH = os.path.join(OUTPUT_DIR, 'test_cube.sgy')\n",
    "HORIZON_PATH = os.path.join(OUTPUT_DIR, 'test_horizon')\n",
    "\n",
    "SEED = 42\n",
    "\n",
    "# Visualization parameters\n",
    "SCALE = 1\n",
    "SHOW_FIGURES = True"
   ]
  },
  {
   "cell_type": "code",
   "execution_count": null,
   "metadata": {},
   "outputs": [],
   "source": [
    "%%time\n",
    "field = Field(CUBE_PATH)\n",
    "horizon = Horizon(HORIZON_PATH, field=field)\n",
    "\n",
    "horizon.show(show=SHOW_FIGURES)"
   ]
  },
  {
   "cell_type": "markdown",
   "metadata": {},
   "source": [
    "# Filtering"
   ]
  },
  {
   "cell_type": "code",
   "execution_count": null,
   "metadata": {},
   "outputs": [],
   "source": [
    "%%time\n",
    "# from_subset\n",
    "# Cut horizon by i_line and check its filtered and non-filtered parts\n",
    "# Create filtering matrix\n",
    "i_line_cut = horizon.shape[0] // 3\n",
    "\n",
    "filtering_matrix = np.zeros_like(horizon.full_matrix)\n",
    "filtering_matrix[i_line_cut:] = 1\n",
    "\n",
    "# Horizon filtered by matrix\n",
    "filtered_horizon = Horizon(storage=horizon.full_matrix, field=field, name='filtered')\n",
    "filtered_horizon = filtered_horizon.from_subset(filtering_matrix)\n",
    "\n",
    "filtered_horizon.show(show=SHOW_FIGURES)\n",
    "\n",
    "not_empty_traces_error = \"`from_subset` filtering test failed: filtered traces are not empty\"\n",
    "assert np.all(filtered_horizon.full_matrix[:i_line_cut] == filtered_horizon.FILL_VALUE), not_empty_traces_error\n",
    "\n",
    "empty_traces_error = \"`from_subset` filtering test failed: non-filtered traces was changed by filtering\"\n",
    "assert np.array_equal(filtered_horizon.full_matrix[i_line_cut:],\n",
    "                      horizon.full_matrix[i_line_cut:]), empty_traces_error"
   ]
  },
  {
   "cell_type": "code",
   "execution_count": null,
   "metadata": {},
   "outputs": [],
   "source": [
    "%%time\n",
    "# filter\n",
    "filtered_horizon = Horizon(horizon.full_matrix, field=field, name='filtered')\n",
    "filtered_horizon.filter()\n",
    "\n",
    "filtered_horizon.show(show=SHOW_FIGURES)\n",
    "\n",
    "# Check that zero_traces filled by FILL_VALUE\n",
    "zero_traces = filtered_horizon.full_matrix[field.zero_traces == 1]\n",
    "\n",
    "not_empty_traces_error = \"`filter` test failed: filtered traces are not empty\"\n",
    "assert np.all(zero_traces == filtered_horizon.FILL_VALUE), not_empty_traces_error\n",
    "\n",
    "# Check that other traces didn't change\n",
    "nonzero_traces = filtered_horizon.full_matrix[field.zero_traces == 0]\n",
    "original_nonzero_traces = horizon.full_matrix[field.zero_traces == 0]\n",
    "\n",
    "empty_traces_error = \"`filter` test failed: non-filtered traces was changed by filtering\"\n",
    "assert np.array_equal(nonzero_traces, original_nonzero_traces), empty_traces_error"
   ]
  },
  {
   "cell_type": "code",
   "execution_count": null,
   "metadata": {},
   "outputs": [],
   "source": [
    "%%time\n",
    "# filter_matrix\n",
    "# Cut horizon by i_line and check its filtered and non-filtered parts\n",
    "i_line_cut = horizon.shape[0] // 3\n",
    "\n",
    "filtered_horizon = Horizon(horizon.full_matrix, field=field, name='filtered')\n",
    "\n",
    "filtering_matrix = np.zeros_like(horizon.full_matrix)\n",
    "filtering_matrix[:i_line_cut] = 1\n",
    "\n",
    "filtered_horizon.filter_matrix(filtering_matrix)\n",
    "\n",
    "filtered_horizon.show(show=SHOW_FIGURES)\n",
    "\n",
    "not_empty_traces_error = \"`filter_matrix` filtering test failed: filtered traces are not empty\"\n",
    "assert np.all(filtered_horizon.full_matrix[:i_line_cut] == filtered_horizon.FILL_VALUE), not_empty_traces_error\n",
    "\n",
    "empty_traces_error = \"`filter_matrix` filtering test failed: non-filtered traces was changed by filtering\"\n",
    "assert np.array_equal(filtered_horizon.full_matrix[i_line_cut:],\n",
    "                      horizon.full_matrix[i_line_cut:]), empty_traces_error"
   ]
  },
  {
   "cell_type": "code",
   "execution_count": null,
   "metadata": {},
   "outputs": [],
   "source": [
    "%%time\n",
    "# filter_points\n",
    "# Cut horizon by i_line and check its filtered and non-filtered parts\n",
    "i_line_cut = horizon.shape[0] // 3\n",
    "\n",
    "filtered_horizon = Horizon(horizon.full_matrix, field=field, name='filtered')\n",
    "\n",
    "filtering_matrix = np.zeros_like(horizon.full_matrix)\n",
    "filtering_matrix[:i_line_cut] = 1\n",
    "\n",
    "filtered_horizon.filter_points(filtering_matrix)\n",
    "\n",
    "filtered_horizon.show(show=SHOW_FIGURES)\n",
    "\n",
    "not_empty_traces_error = \"`filter_matrix` filtering test failed: filtered traces are not empty\"\n",
    "assert np.all(filtered_horizon.full_matrix[:i_line_cut] == filtered_horizon.FILL_VALUE), not_empty_traces_error\n",
    "\n",
    "empty_traces_error = \"`filter_matrix` filtering test failed: non-filtered traces was changed by filtering\"\n",
    "assert np.array_equal(filtered_horizon.full_matrix[i_line_cut:],\n",
    "                      horizon.full_matrix[i_line_cut:]), empty_traces_error"
   ]
  },
  {
   "cell_type": "code",
   "execution_count": null,
   "metadata": {},
   "outputs": [],
   "source": [
    "%%time\n",
    "# Filter spikes by maps\n",
    "# Create constant horizon with a spike\n",
    "spike_point = (horizon.shape[0] // 2, horizon.shape[1] // 2)\n",
    "\n",
    "horizon_matrix = np.ones_like(horizon.full_matrix) * 1000\n",
    "horizon_matrix[spike_point] += 5\n",
    "\n",
    "spiked_horizon = Horizon(horizon_matrix, field=field, name='constant_with_spike')\n",
    "spiked_horizon.filter()\n",
    "\n",
    "# Get mask of areas with spike cut (only for dilation=1)\n",
    "dilation = 1\n",
    "spikes_mask = np.zeros(shape=spiked_horizon.full_matrix.shape, dtype=bool)\n",
    "spikes_mask[spike_point] = 1            \n",
    "spikes_mask = binary_dilation(spikes_mask, iterations=dilation)\n",
    "\n",
    "spikes_mask_gradient = spikes_mask.copy() # it has i_line and x_line shifts\n",
    "spikes_mask_gradient[1:] += spikes_mask[:-1]\n",
    "spikes_mask_gradient[:, 1:] += spikes_mask[:, :-1]\n",
    "\n",
    "spikes = {\n",
    "    'median': spikes_mask,\n",
    "    'gradient': spikes_mask_gradient\n",
    "}\n",
    "\n",
    "# Check despiking\n",
    "for mode, spikes_mask in spikes.items():\n",
    "    despiked_horizon = Horizon(spiked_horizon.full_matrix, field=field, name='despiked_constant')\n",
    "\n",
    "    despiked_horizon.filter_spikes(mode=mode, dilation=1)\n",
    "\n",
    "    not_empty_traces_error = f\"Despike with mode '{mode}' test failed: filtered traces with spike are not empty\"\n",
    "    assert np.all(despiked_horizon.full_matrix[spikes_mask] == despiked_horizon.FILL_VALUE), not_empty_traces_error\n",
    "\n",
    "    empty_traces_error = f\"Despike with mode '{mode}' test failed: despike changes traces without spikes\"\n",
    "    assert np.array_equal(despiked_horizon.full_matrix[~spikes_mask], spiked_horizon.full_matrix[~spikes_mask]), empty_traces_error\n",
    "\n",
    "    print(f\"Despiking mode '{mode}' was successfully tested\")"
   ]
  },
  {
   "cell_type": "code",
   "execution_count": null,
   "metadata": {},
   "outputs": [],
   "source": [
    "%%time\n",
    "# filter_disconnected_regions\n",
    "# Split horizon in two parts by i_line_cut\n",
    "i_line_cut = horizon.shape[0]//3\n",
    "filtering_matrix = np.zeros_like(horizon.full_matrix)\n",
    "filtering_matrix[i_line_cut, :] = 1\n",
    "\n",
    "splitted_horizon = Horizon(horizon.full_matrix, field=field, name='splitted')\n",
    "splitted_horizon.filter(filtering_matrix)\n",
    "\n",
    "splitted_horizon.filter_disconnected_regions()\n",
    "\n",
    "not_empty_traces_error = f\"`filter_disconnected_regions` test failed: disconnected region wasn't filtered\"\n",
    "assert np.all(splitted_horizon.full_matrix[:i_line_cut+1]==splitted_horizon.FILL_VALUE), not_empty_traces_error\n",
    "\n",
    "empty_traces_error = f\"`filter_disconnected_regions` test failed: wrong traces were filtered\"\n",
    "assert np.array_equal(splitted_horizon.full_matrix[i_line_cut+1:],  horizon.full_matrix[i_line_cut+1:]), empty_traces_error"
   ]
  },
  {
   "cell_type": "markdown",
   "metadata": {},
   "source": [
    "# Specific manipulations"
   ]
  },
  {
   "cell_type": "code",
   "execution_count": null,
   "metadata": {},
   "outputs": [],
   "source": [
    "horizon = Horizon(horizon.full_matrix, field=field, name='filtered')\n",
    "horizon.filter()\n",
    "\n",
    "frequency = 100\n",
    "\n",
    "def calculate_grid_coverage(horizon, frequencies=100, width=1, **kwargs):\n",
    "    \"\"\" Approximate calculation of coverage of regular grid.\n",
    "\n",
    "    horizon : :class:`Horizon`\n",
    "        Seismic horizon instance.\n",
    "    frequencies : int or sequence of two integers\n",
    "        (iline, xline) grid frequencies.\n",
    "        If int, then ilines and xlines frequencies are equal.\n",
    "    width : int or sequence of two integers\n",
    "        (iline, xline) grid width.\n",
    "        If int, then ilines and xlines grid widths are equal.\n",
    "    \"\"\"\n",
    "    if isinstance(frequencies, int):\n",
    "        frequencies = (frequencies, frequencies)\n",
    "\n",
    "    i_min = kwargs.get('i_min', horizon.i_min)\n",
    "    x_min = kwargs.get('x_min', horizon.x_min)\n",
    "\n",
    "    amount_of_ilines = (horizon.i_length - i_min) // frequencies[0]\n",
    "    amount_of_xlines = (horizon.x_length - x_min) // frequencies[1]\n",
    "\n",
    "    # On borders we have a line with half of grid width\n",
    "    if (horizon.i_length - i_min) % frequencies[0] > 0:\n",
    "        amount_of_ilines += 0.5\n",
    "    else:\n",
    "        amount_of_ilines -= 0.5\n",
    "\n",
    "    if (horizon.x_length - x_min) % frequencies[1] > 0:\n",
    "        amount_of_xlines += 0.5\n",
    "    else:\n",
    "        amount_of_xlines -= 0.5\n",
    "\n",
    "    # Count amount of traces for grid with width = 1\n",
    "    intersection_traces = amount_of_ilines * amount_of_xlines\n",
    "    grid_traces = amount_of_ilines * horizon.x_length + amount_of_xlines * horizon.i_length\n",
    "\n",
    "    # Apply width\n",
    "    intersection_traces = width * width * intersection_traces\n",
    "    grid_traces = width * grid_traces\n",
    "    grid_traces -= intersection_traces\n",
    "\n",
    "    # Calculate approximate amount of traces in grid in horizon area\n",
    "    coverage = grid_traces / horizon.size\n",
    "    return coverage"
   ]
  },
  {
   "cell_type": "markdown",
   "metadata": {},
   "source": [
    "## Carcass"
   ]
  },
  {
   "cell_type": "code",
   "execution_count": null,
   "metadata": {},
   "outputs": [],
   "source": [
    "%%time\n",
    "carcass = horizon.make_carcass(margin=0, frequencies=frequency, regular=True, apply_smoothing=True)\n",
    "\n",
    "carcass.show(show=SHOW_FIGURES, load_kwargs={'enlarge': True})\n",
    "\n",
    "approximate_coverage = calculate_grid_coverage(horizon=horizon, frequencies=frequency, width=3, i_min=0, x_min=0)\n",
    "\n",
    "assert np.isclose(carcass.coverage, approximate_coverage, atol=2e-3), \"`make_carcass` test failed: resulted coverage is not expected\""
   ]
  },
  {
   "cell_type": "markdown",
   "metadata": {},
   "source": [
    "## thin_out"
   ]
  },
  {
   "cell_type": "code",
   "execution_count": null,
   "metadata": {},
   "outputs": [],
   "source": [
    "%%time\n",
    "thined_horizon = Horizon(horizon.full_matrix, field=field, name='thined')\n",
    "thined_horizon.thin_out(factor=(frequency, frequency), threshold=np.min(horizon.shape)//10)\n",
    "\n",
    "thined_horizon.show(show=SHOW_FIGURES, load_kwargs={'enlarge': True})\n",
    "\n",
    "approximate_coverage = calculate_grid_coverage(horizon=horizon, frequencies=frequency, width=1,\n",
    "                                               i_min=horizon.i_min, x_min=horizon.x_min)\n",
    "\n",
    "assert np.isclose(thined_horizon.coverage, approximate_coverage, atol=2e-3), \"`thin_out` test failed: resulted coverage is not expected\""
   ]
  },
  {
   "cell_type": "markdown",
   "metadata": {},
   "source": [
    "horizon# Interpolate"
   ]
  },
  {
   "cell_type": "code",
   "execution_count": null,
   "metadata": {},
   "outputs": [],
   "source": [
    "%%time\n",
    "interpolated_horizon = Horizon(thined_horizon.full_matrix, field=field, name='interpolated')\n",
    "interpolated_horizon.interpolate()\n",
    "\n",
    "interpolated_horizon.show(show=SHOW_FIGURES, load_kwargs={'enlarge': True})\n",
    "\n",
    "approximate_coverage = calculate_grid_coverage(horizon=horizon, frequencies=frequency, width=3,\n",
    "                                               i_min=horizon.i_min, x_min=horizon.x_min)\n",
    "\n",
    "assert np.isclose(interpolated_horizon.coverage, approximate_coverage, atol=2e-3), \"`interpolate` test failed: resulted coverage is not expected\""
   ]
  },
  {
   "cell_type": "markdown",
   "metadata": {},
   "source": [
    "## Holes"
   ]
  },
  {
   "cell_type": "code",
   "execution_count": null,
   "metadata": {},
   "outputs": [],
   "source": [
    "%%time\n",
    "filtering_matrix = horizon.make_random_holes_matrix(seed=SEED)\n",
    "filtering_matrix = horizon.matrix_put_on_full(filtering_matrix)\n",
    "\n",
    "horizon_with_holes = Horizon(horizon.full_matrix, field=field, name='holed')\n",
    "horizon_with_holes.filter(filtering_matrix)\n",
    "\n",
    "if SHOW_FIGURES:\n",
    "    plot_image(filtering_matrix, cmap='viridis', scale=SCALE, title='Holes matrix')\n",
    "    horizon_with_holes.show(scale=SCALE)\n",
    "\n",
    "assert (horizon_with_holes.coverage < horizon.coverage), \"`make_random_holes_matrix` test failed: no traces was filtered\""
   ]
  }
 ],
 "metadata": {
  "kernelspec": {
   "display_name": "Python 3 (ipykernel)",
   "language": "python",
   "name": "python3"
  },
  "language_info": {
   "codemirror_mode": {
    "name": "ipython",
    "version": 3
   },
   "file_extension": ".py",
   "mimetype": "text/x-python",
   "name": "python",
   "nbconvert_exporter": "python",
   "pygments_lexer": "ipython3",
   "version": "3.8.10"
  }
 },
 "nbformat": 4,
 "nbformat_minor": 4
}
