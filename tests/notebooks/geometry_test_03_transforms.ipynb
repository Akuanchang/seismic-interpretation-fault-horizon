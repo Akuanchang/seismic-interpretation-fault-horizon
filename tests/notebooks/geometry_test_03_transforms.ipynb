{
 "cells": [
  {
   "cell_type": "code",
   "execution_count": 1,
   "id": "7b056c59-c2e7-462f-b1a9-6035f79dc3f5",
   "metadata": {
    "execution": {
     "iopub.execute_input": "2023-07-12T11:38:13.803059Z",
     "iopub.status.busy": "2023-07-12T11:38:13.802512Z",
     "iopub.status.idle": "2023-07-12T11:38:17.062285Z",
     "shell.execute_reply": "2023-07-12T11:38:17.060818Z",
     "shell.execute_reply.started": "2023-07-12T11:38:13.803005Z"
    },
    "tags": []
   },
   "outputs": [],
   "source": [
    "import sys\n",
    "import warnings\n",
    "import numpy as np\n",
    "\n",
    "warnings.filterwarnings('ignore')\n",
    "\n",
    "sys.path.insert(0, '../../../seismiqb')\n",
    "sys.path.insert(0, '..')\n",
    "\n",
    "from seismiqb import SeismicDataset, SeismicSampler\n",
    "from batchflow import B, F"
   ]
  },
  {
   "cell_type": "code",
   "execution_count": 2,
   "id": "ece2e7a0-13cf-4ec7-be5f-f90918cdbbdb",
   "metadata": {
    "execution": {
     "iopub.execute_input": "2023-07-12T11:38:17.064420Z",
     "iopub.status.busy": "2023-07-12T11:38:17.063992Z",
     "iopub.status.idle": "2023-07-12T11:38:17.068961Z",
     "shell.execute_reply": "2023-07-12T11:38:17.067912Z",
     "shell.execute_reply.started": "2023-07-12T11:38:17.064395Z"
    },
    "tags": []
   },
   "outputs": [],
   "source": [
    "cube_path = 'geometry_test_files/test_cube.sgy'"
   ]
  },
  {
   "cell_type": "code",
   "execution_count": 3,
   "id": "54c14a5c-944a-4e48-92fa-fa86258baafd",
   "metadata": {
    "execution": {
     "iopub.execute_input": "2023-07-12T11:38:17.069726Z",
     "iopub.status.busy": "2023-07-12T11:38:17.069539Z",
     "iopub.status.idle": "2023-07-12T11:38:22.143309Z",
     "shell.execute_reply": "2023-07-12T11:38:22.141738Z",
     "shell.execute_reply.started": "2023-07-12T11:38:17.069708Z"
    },
    "tags": []
   },
   "outputs": [],
   "source": [
    "ds = SeismicDataset([cube_path])\n",
    "sampler = SeismicSampler(ds.fields, crop_shape=(1, 128, 128))\n",
    "for item in ds:\n",
    "    item.make_normalizer()\n",
    "    item.make_quantizer(clip=False, ranges=0.)"
   ]
  },
  {
   "cell_type": "code",
   "execution_count": 4,
   "id": "928ecc7e-9df4-4ab3-8c4b-ddbb92fd0589",
   "metadata": {
    "execution": {
     "iopub.execute_input": "2023-07-12T11:38:22.144976Z",
     "iopub.status.busy": "2023-07-12T11:38:22.144727Z",
     "iopub.status.idle": "2023-07-12T11:38:22.195673Z",
     "shell.execute_reply": "2023-07-12T11:38:22.194695Z",
     "shell.execute_reply.started": "2023-07-12T11:38:22.144954Z"
    },
    "tags": []
   },
   "outputs": [],
   "source": [
    "for stats_src in ['field', 'images', 'biased_images']:\n",
    "    bias = np.random.normal(size=16)\n",
    "    p = (ds.p\n",
    "         .make_locations(generator=sampler, batch_size=16)\n",
    "         .load_seismic(dst='images')\n",
    "         .update(B('biased_images'), B('images') + bias.reshape(-1, 1, 1, 1))\n",
    "         .normalize(src='biased_images', dst='biased_images_normalized')\n",
    "         .normalize(src='images', dst='images_normalized', stats=stats_src if stats_src != 'images' else None)\n",
    "         .denormalize(src='images_normalized', dst='denormalized', stats=stats_src)\n",
    "         .update(B.diff, F(np.abs)(B.denormalized - B.images))\n",
    "        )\n",
    "\n",
    "    batch = p.next_batch(1)\n",
    "    normalized = batch.images_normalized.mean(axis=(1, 2, 3))\n",
    "    images = batch.images.mean(axis=(1, 2, 3))\n",
    "    \n",
    "    if stats_src == 'field':\n",
    "        stats = (ds[0].normalization_stats['mean'], ds[0].normalization_stats['std'])\n",
    "    else:\n",
    "        src = getattr(batch, stats_src)\n",
    "        stats = (src.mean(axis=(1, 2, 3)), src.std(axis=(1, 2, 3)))\n",
    "\n",
    "    assert batch.diff.max() / np.abs(batch.images).max() < 1e-5, 'images reconstructed incorrectly'\n",
    "    assert np.abs((images - stats[0]) / stats[1] - normalized).max() < 1e-5, 'images normalized incorrectly'"
   ]
  },
  {
   "cell_type": "code",
   "execution_count": 5,
   "id": "aabd407c-2ba6-4991-ac03-03d476b1b372",
   "metadata": {
    "execution": {
     "iopub.execute_input": "2023-07-12T11:38:22.196794Z",
     "iopub.status.busy": "2023-07-12T11:38:22.196592Z",
     "iopub.status.idle": "2023-07-12T11:38:22.220854Z",
     "shell.execute_reply": "2023-07-12T11:38:22.219868Z",
     "shell.execute_reply.started": "2023-07-12T11:38:22.196775Z"
    },
    "tags": []
   },
   "outputs": [],
   "source": [
    "p = (ds.p\n",
    "     .make_locations(generator=sampler, batch_size=16)\n",
    "     .load_seismic(dst='images')\n",
    "     .quantize(src='images', dst='images_quantized')\n",
    "     .dequantize(src='images_quantized', dst='images_recovered')\n",
    "     .update(B.diff, F(np.abs)(B.images_recovered - B.images))\n",
    "    )\n",
    "batch = p.next_batch(1)\n",
    "\n",
    "assert batch.diff.max() < ds[0].quantizer.estimated_absolute_error, 'images reconstructed incorrectly'"
   ]
  }
 ],
 "metadata": {
  "kernelspec": {
   "display_name": "Python 3 (ipykernel)",
   "language": "python",
   "name": "python3"
  },
  "language_info": {
   "codemirror_mode": {
    "name": "ipython",
    "version": 3
   },
   "file_extension": ".py",
   "mimetype": "text/x-python",
   "name": "python",
   "nbconvert_exporter": "python",
   "pygments_lexer": "ipython3",
   "version": "3.8.16"
  }
 },
 "nbformat": 4,
 "nbformat_minor": 5
}
