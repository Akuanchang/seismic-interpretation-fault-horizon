{
 "cells": [
  {
   "cell_type": "code",
   "execution_count": null,
   "metadata": {},
   "outputs": [],
   "source": [
    "# This notebook consists of actions for preparation for `SeismicGeometry` tests\n",
    "# It creates a fake cube as random noise and convert it into available data formats\n",
    "import os\n",
    "import sys\n",
    "import shutil\n",
    "import warnings\n",
    "warnings.filterwarnings('ignore')\n",
    "\n",
    "import numpy as np\n",
    "\n",
    "sys.path.insert(0, '../../../seismiqb')\n",
    "\n",
    "from seismiqb import SeismicGeometry\n",
    "from seismiqb.geometry import export"
   ]
  },
  {
   "cell_type": "code",
   "execution_count": null,
   "metadata": {},
   "outputs": [],
   "source": [
    "# Data creation parameters\n",
    "CUBE_SHAPE = (1000, 200, 400)\n",
    "SEED = 42\n",
    "\n",
    "# Data formats for which running tests\n",
    "FORMATS = ['sgy', 'hdf5', 'qhdf5', 'blosc', 'qblosc']"
   ]
  },
  {
   "cell_type": "markdown",
   "metadata": {},
   "source": [
    "# Prepare a workspace\n",
    "\n",
    "Create directories for files and create a fake cube and save it.\n",
    "\n",
    "**Storage structure:**\n",
    "___\n",
    "\n",
    "\n",
    "**geometry_test_files** (geometry tests directory with temporary files)\n",
    "\n",
    "&emsp;├── **test_array.npy**\n",
    "\n",
    "&emsp;└── **test_cube.{DATAFORMAT}**\n",
    "\n",
    "---\n",
    " * **{DATAFORMAT}** means each data format from **FORMATS** list"
   ]
  },
  {
   "cell_type": "code",
   "execution_count": null,
   "metadata": {},
   "outputs": [],
   "source": [
    "OUTPUT_DIR = './geometry_test_files'\n",
    "\n",
    "# (Re)create the test directory\n",
    "if os.path.exists(OUTPUT_DIR):\n",
    "    shutil.rmtree(OUTPUT_DIR)\n",
    "\n",
    "os.makedirs(OUTPUT_DIR)"
   ]
  },
  {
   "cell_type": "markdown",
   "metadata": {},
   "source": [
    "# Create a fake cube"
   ]
  },
  {
   "cell_type": "code",
   "execution_count": null,
   "metadata": {},
   "outputs": [],
   "source": [
    "CUBE_PATH = os.path.join(OUTPUT_DIR, 'test_cube.sgy')\n",
    "\n",
    "rng = np.random.default_rng(SEED)\n",
    "data_array = rng.normal(0, 1000, CUBE_SHAPE).astype(np.float32)\n",
    "\n",
    "with open(os.path.join(OUTPUT_DIR, 'test_array.npy'), 'wb') as outfile:\n",
    "    np.save(outfile, data_array)"
   ]
  },
  {
   "cell_type": "code",
   "execution_count": null,
   "metadata": {},
   "outputs": [],
   "source": [
    "%%time\n",
    "export.make_segy_from_array(array=data_array, path_segy=CUBE_PATH, zip_segy=False,\n",
    "                            sample_rate=2., delay=50, pbar='t')"
   ]
  },
  {
   "cell_type": "code",
   "execution_count": null,
   "metadata": {},
   "outputs": [],
   "source": [
    "%%time\n",
    "geometry_sgy = SeismicGeometry(path=CUBE_PATH,\n",
    "                               process=True, collect_stats=True, spatial=True,\n",
    "                               pbar='t')\n",
    "\n",
    "loading_error = \"Saved and loaded sgy geometry files are different\"\n",
    "assert np.allclose(data_array, geometry_sgy[:, :, :]), loading_error"
   ]
  },
  {
   "cell_type": "markdown",
   "metadata": {},
   "source": [
    "# Check data loading"
   ]
  },
  {
   "cell_type": "code",
   "execution_count": null,
   "metadata": {},
   "outputs": [],
   "source": [
    "%%time\n",
    "geometry_sgy = SeismicGeometry(path=CUBE_PATH,\n",
    "                               headers=SeismicGeometry.HEADERS_POST_FULL,\n",
    "                               index_headers=SeismicGeometry.INDEX_CDP)"
   ]
  },
  {
   "cell_type": "code",
   "execution_count": null,
   "metadata": {},
   "outputs": [],
   "source": [
    "%%time\n",
    "geometry_sgy = SeismicGeometry(path=CUBE_PATH,\n",
    "                               headers=SeismicGeometry.HEADERS_POST_FULL,\n",
    "                               index_headers=SeismicGeometry.INDEX_POST)\n",
    "\n",
    "assert np.allclose(data_array, geometry_sgy[:, :, :]), loading_error"
   ]
  },
  {
   "cell_type": "markdown",
   "metadata": {},
   "source": [
    "# Conversion"
   ]
  },
  {
   "cell_type": "code",
   "execution_count": null,
   "metadata": {
    "tags": []
   },
   "outputs": [],
   "source": [
    "for data_format in FORMATS:\n",
    "    if data_format != 'sgy':\n",
    "        _ = geometry_sgy.convert(format=data_format, quantize=False, store_meta=False, pbar='t')"
   ]
  },
  {
   "cell_type": "markdown",
   "metadata": {},
   "source": [
    "# Create new sgy from array with spec from the existed sgy"
   ]
  },
  {
   "cell_type": "code",
   "execution_count": null,
   "metadata": {
    "tags": []
   },
   "outputs": [],
   "source": [
    "NEW_CUBE_PATH = os.path.join(OUTPUT_DIR, 'test_new_cube.sgy')\n",
    "\n",
    "array = np.random.normal(size=geometry_sgy.shape)\n",
    "export.make_segy_from_array(array, NEW_CUBE_PATH, zip_segy=False, path_spec=CUBE_PATH)\n",
    "new_geometry_sgy = SeismicGeometry(NEW_CUBE_PATH, collect_stats=False)"
   ]
  },
  {
   "cell_type": "code",
   "execution_count": null,
   "metadata": {
    "tags": []
   },
   "outputs": [],
   "source": [
    "assert geometry_sgy.ilines_offset == new_geometry_sgy.ilines_offset, 'Wrong ilines offset'\n",
    "assert geometry_sgy.xlines_offset == new_geometry_sgy.xlines_offset, 'Wrong xlines offset'\n",
    "assert (new_geometry_sgy.dataframe == geometry_sgy.dataframe).all().all(), 'Different geometries'"
   ]
  },
  {
   "cell_type": "markdown",
   "metadata": {},
   "source": [
    "Creation with origin"
   ]
  },
  {
   "cell_type": "code",
   "execution_count": null,
   "metadata": {
    "tags": []
   },
   "outputs": [],
   "source": [
    "array = np.random.normal(size=(20, 20, 20))\n",
    "export.make_segy_from_array(array, NEW_CUBE_PATH, origin=(5, 10, 15), zip_segy=False, path_spec=CUBE_PATH)\n",
    "new_geometry_sgy = SeismicGeometry(NEW_CUBE_PATH, collect_stats=False)\n",
    "\n",
    "assert geometry_sgy.ilines_offset + 5 == new_geometry_sgy.ilines_offset, 'Wrong ilines offset'\n",
    "assert geometry_sgy.xlines_offset + 10 == new_geometry_sgy.xlines_offset, 'Wrong xlines offset'"
   ]
  },
  {
   "cell_type": "code",
   "execution_count": null,
   "metadata": {
    "tags": []
   },
   "outputs": [],
   "source": [
    "df = geometry_sgy.dataframe.loc[new_geometry_sgy.dataframe.index][['CDP_X', 'CDP_Y']]\n",
    "new_df = new_geometry_sgy.dataframe[['CDP_X', 'CDP_Y']]\n",
    "\n",
    "assert (df == new_df).all().all()"
   ]
  }
 ],
 "metadata": {
  "kernelspec": {
   "display_name": "Python 3 (ipykernel)",
   "language": "python",
   "name": "python3"
  },
  "language_info": {
   "codemirror_mode": {
    "name": "ipython",
    "version": 3
   },
   "file_extension": ".py",
   "mimetype": "text/x-python",
   "name": "python",
   "nbconvert_exporter": "python",
   "pygments_lexer": "ipython3",
   "version": "3.8.10"
  }
 },
 "nbformat": 4,
 "nbformat_minor": 4
}
