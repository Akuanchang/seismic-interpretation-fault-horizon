{
 "cells": [
  {
   "cell_type": "code",
   "execution_count": 1,
   "metadata": {
    "execution": {
     "iopub.execute_input": "2022-08-24T10:02:31.645261Z",
     "iopub.status.busy": "2022-08-24T10:02:31.645032Z",
     "iopub.status.idle": "2022-08-24T10:02:34.233215Z",
     "shell.execute_reply": "2022-08-24T10:02:34.232505Z",
     "shell.execute_reply.started": "2022-08-24T10:02:31.645192Z"
    },
    "tags": []
   },
   "outputs": [],
   "source": [
    "# Tests for base Fault functionality: initialization, dumping, visualizations, etc.\n",
    "%load_ext autoreload\n",
    "%autoreload 2\n",
    "\n",
    "import os\n",
    "import sys\n",
    "import warnings\n",
    "import numpy as np\n",
    "\n",
    "warnings.filterwarnings('ignore')\n",
    "\n",
    "sys.path.insert(0, '../../../seismiqb')\n",
    "\n",
    "from batchflow import C, Pipeline\n",
    "from seismiqb import Field, Fault, SeismicDataset, SeismicSampler, plot"
   ]
  },
  {
   "cell_type": "code",
   "execution_count": 39,
   "metadata": {
    "execution": {
     "iopub.execute_input": "2022-08-24T10:09:58.109436Z",
     "iopub.status.busy": "2022-08-24T10:09:58.109015Z",
     "iopub.status.idle": "2022-08-24T10:09:58.152938Z",
     "shell.execute_reply": "2022-08-24T10:09:58.152310Z",
     "shell.execute_reply.started": "2022-08-24T10:09:58.109388Z"
    },
    "tags": []
   },
   "outputs": [],
   "source": [
    "\"\"\" You can manage cube and fault for the test:\n",
    "\n",
    "CUBE_PATH : str\n",
    "    Path to an existed seismic cube.\n",
    "FAULT_PATH : str\n",
    "    Path to an existed seismic fault.\n",
    "\"\"\"\n",
    "# Tests parameters\n",
    "OUTPUT_DIR = './fault_test_files'\n",
    "\n",
    "CUBE_PATH = os.path.join(OUTPUT_DIR, 'test_cube.sgy')\n",
    "FAULT_PATH = os.path.join(OUTPUT_DIR, 'test_fault')\n",
    "\n",
    "# Visualization parameters\n",
    "SHOW_FIGURES = True\n",
    "\n",
    "np.random.seed(42)"
   ]
  },
  {
   "cell_type": "markdown",
   "metadata": {},
   "source": [
    "# Initialization"
   ]
  },
  {
   "cell_type": "code",
   "execution_count": 40,
   "metadata": {
    "execution": {
     "iopub.execute_input": "2022-08-24T10:09:58.712127Z",
     "iopub.status.busy": "2022-08-24T10:09:58.711852Z",
     "iopub.status.idle": "2022-08-24T10:09:58.826558Z",
     "shell.execute_reply": "2022-08-24T10:09:58.825897Z",
     "shell.execute_reply.started": "2022-08-24T10:09:58.712105Z"
    },
    "tags": []
   },
   "outputs": [
    {
     "name": "stdout",
     "output_type": "stream",
     "text": [
      "CPU times: user 61.2 ms, sys: 20.3 ms, total: 81.4 ms\n",
      "Wall time: 80.6 ms\n"
     ]
    }
   ],
   "source": [
    "%%time\n",
    "\n",
    "# ilines sticks\n",
    "field = Field(CUBE_PATH)\n",
    "\n",
    "sticks1 = np.array([\n",
    "    [[100, 100, 25],\n",
    "     [100, 130, 175]],\n",
    "    [[120, 100, 25],\n",
    "     [120, 130, 175]],\n",
    "    [[140, 100, 25],\n",
    "     [140, 130, 175]]\n",
    "])\n",
    "\n",
    "sticks2 = sticks1 + 30"
   ]
  },
  {
   "cell_type": "code",
   "execution_count": 41,
   "metadata": {
    "execution": {
     "iopub.execute_input": "2022-08-24T10:09:59.062674Z",
     "iopub.status.busy": "2022-08-24T10:09:59.062283Z",
     "iopub.status.idle": "2022-08-24T10:09:59.149936Z",
     "shell.execute_reply": "2022-08-24T10:09:59.149366Z",
     "shell.execute_reply.started": "2022-08-24T10:09:59.062627Z"
    },
    "tags": []
   },
   "outputs": [
    {
     "data": {
      "application/vnd.jupyter.widget-view+json": {
       "model_id": "",
       "version_major": 2,
       "version_minor": 0
      },
      "text/plain": [
       "  0%|                                                                                                         …"
      ]
     },
     "metadata": {},
     "output_type": "display_data"
    },
    {
     "data": {
      "application/vnd.jupyter.widget-view+json": {
       "model_id": "d1ba54011a954df8b0a0fcbcfe929019",
       "version_major": 2,
       "version_minor": 0
      },
      "text/plain": [
       "  0%|                                                                                                         …"
      ]
     },
     "metadata": {},
     "output_type": "display_data"
    }
   ],
   "source": [
    "dataset = SeismicDataset({field: [{'sticks': sticks1}]}, labels_class=Fault)\n",
    "\n",
    "ppl = (dataset.p\n",
    "      .make_locations(batch_size=16, generator=C('sampler'))\n",
    "      .load_cubes(dst='images')\n",
    "      .create_masks(dst='masks', width=C('width', default=3), sparse=C('sparse', default=False))\n",
    ")"
   ]
  },
  {
   "cell_type": "markdown",
   "metadata": {},
   "source": [
    "# Check width"
   ]
  },
  {
   "cell_type": "code",
   "execution_count": 42,
   "metadata": {
    "execution": {
     "iopub.execute_input": "2022-08-24T10:09:59.911222Z",
     "iopub.status.busy": "2022-08-24T10:09:59.910936Z",
     "iopub.status.idle": "2022-08-24T10:10:00.223097Z",
     "shell.execute_reply": "2022-08-24T10:10:00.222640Z",
     "shell.execute_reply.started": "2022-08-24T10:09:59.911200Z"
    },
    "tags": []
   },
   "outputs": [],
   "source": [
    "sampler = SeismicSampler(labels=dataset.labels, crop_shape=(1, 64, 64), mode='fault', threshold=0, extend=False)\n",
    "\n",
    "for width in range(1, 10, 2):\n",
    "    ppl.set_config({'width': width, 'sampler': sampler})\n",
    "    batch = ppl.next_batch()\n",
    "    assert (batch.masks.sum(axis=2) <= width+1).all(), f\"mask is wider then {width}\""
   ]
  },
  {
   "cell_type": "markdown",
   "metadata": {},
   "source": [
    "# Check 3D crops"
   ]
  },
  {
   "cell_type": "code",
   "execution_count": 43,
   "metadata": {
    "execution": {
     "iopub.execute_input": "2022-08-24T10:10:00.944869Z",
     "iopub.status.busy": "2022-08-24T10:10:00.944365Z",
     "iopub.status.idle": "2022-08-24T10:10:01.893418Z",
     "shell.execute_reply": "2022-08-24T10:10:01.892862Z",
     "shell.execute_reply.started": "2022-08-24T10:10:00.944820Z"
    },
    "tags": []
   },
   "outputs": [
    {
     "data": {
      "application/vnd.jupyter.widget-view+json": {
       "model_id": "",
       "version_major": 2,
       "version_minor": 0
      },
      "text/plain": [
       "  0%|                                                                                                         …"
      ]
     },
     "metadata": {},
     "output_type": "display_data"
    },
    {
     "data": {
      "application/vnd.jupyter.widget-view+json": {
       "model_id": "1b89ecff3561405faa931fba8beead20",
       "version_major": 2,
       "version_minor": 0
      },
      "text/plain": [
       "  0%|                                                                                                         …"
      ]
     },
     "metadata": {},
     "output_type": "display_data"
    },
    {
     "name": "stderr",
     "output_type": "stream",
     "text": [
      "WARNING:root:Initial dataset will be changed.\n"
     ]
    }
   ],
   "source": [
    "dataset = SeismicDataset({field: [{'sticks': s} for s in [sticks1, sticks2]]}, labels_class=Fault)\n",
    "sampler = SeismicSampler(labels=dataset.labels, crop_shape=(64, 64, 64), mode='fault', threshold=0)\n",
    "width = 2\n",
    "\n",
    "ppl.set_dataset(dataset)\n",
    "ppl.set_config({'sampler': sampler, 'width': width})\n",
    "batch = ppl.next_batch()"
   ]
  },
  {
   "cell_type": "code",
   "execution_count": 44,
   "metadata": {
    "execution": {
     "iopub.execute_input": "2022-08-24T10:10:01.894678Z",
     "iopub.status.busy": "2022-08-24T10:10:01.894452Z",
     "iopub.status.idle": "2022-08-24T10:10:02.181457Z",
     "shell.execute_reply": "2022-08-24T10:10:02.180898Z",
     "shell.execute_reply.started": "2022-08-24T10:10:01.894657Z"
    },
    "tags": []
   },
   "outputs": [
    {
     "data": {
      "image/png": "[encoded data removed]",
      "text/plain": [
       "<Figure size 623.625x610 with 1 Axes>"
      ]
     },
     "metadata": {},
     "output_type": "display_data"
    }
   ],
   "source": [
    "plot(batch.masks[0, ..., 20], show=SHOW_FIGURES)"
   ]
  },
  {
   "cell_type": "code",
   "execution_count": 49,
   "metadata": {
    "execution": {
     "iopub.execute_input": "2022-08-24T10:10:22.317455Z",
     "iopub.status.busy": "2022-08-24T10:10:22.317032Z",
     "iopub.status.idle": "2022-08-24T10:10:22.887888Z",
     "shell.execute_reply": "2022-08-24T10:10:22.887357Z",
     "shell.execute_reply.started": "2022-08-24T10:10:22.317406Z"
    },
    "tags": []
   },
   "outputs": [],
   "source": [
    "ppl.set_config({'sampler': sampler, 'width': width, 'sparse': True})\n",
    "batch = ppl.next_batch()"
   ]
  },
  {
   "cell_type": "code",
   "execution_count": 50,
   "metadata": {
    "execution": {
     "iopub.execute_input": "2022-08-24T10:10:24.069622Z",
     "iopub.status.busy": "2022-08-24T10:10:24.069116Z",
     "iopub.status.idle": "2022-08-24T10:10:24.316773Z",
     "shell.execute_reply": "2022-08-24T10:10:24.316217Z",
     "shell.execute_reply.started": "2022-08-24T10:10:24.069574Z"
    },
    "tags": []
   },
   "outputs": [
    {
     "data": {
      "image/png": "[encoded data removed]",
      "text/plain": [
       "<Figure size 623.625x610 with 1 Axes>"
      ]
     },
     "metadata": {},
     "output_type": "display_data"
    }
   ],
   "source": [
    "plot(batch.masks[0, ..., 20], show=SHOW_FIGURES)"
   ]
  },
  {
   "cell_type": "code",
   "execution_count": 51,
   "metadata": {
    "execution": {
     "iopub.execute_input": "2022-08-24T10:10:32.757453Z",
     "iopub.status.busy": "2022-08-24T10:10:32.757040Z",
     "iopub.status.idle": "2022-08-24T10:10:32.801919Z",
     "shell.execute_reply": "2022-08-24T10:10:32.801114Z",
     "shell.execute_reply.started": "2022-08-24T10:10:32.757406Z"
    },
    "tags": []
   },
   "outputs": [],
   "source": [
    "for i in range(len(batch)):\n",
    "    loc = np.where(batch.masks[i][:, 0, 0] != -1)[0] + batch.locations[i][0].start\n",
    "    assert np.isin(loc, np.concatenate([sticks1[:, 0, 0], sticks2[:, 0, 0]])).all(), \"There are unlabeled slides with points\""
   ]
  }
 ],
 "metadata": {
  "kernelspec": {
   "display_name": "Python 3 (ipykernel)",
   "language": "python",
   "name": "python3"
  },
  "language_info": {
   "codemirror_mode": {
    "name": "ipython",
    "version": 3
   },
   "file_extension": ".py",
   "mimetype": "text/x-python",
   "name": "python",
   "nbconvert_exporter": "python",
   "pygments_lexer": "ipython3",
   "version": "3.8.10"
  }
 },
 "nbformat": 4,
 "nbformat_minor": 4
}
