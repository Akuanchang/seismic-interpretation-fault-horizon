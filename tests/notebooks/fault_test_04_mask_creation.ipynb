{
 "cells": [
  {
   "cell_type": "code",
   "execution_count": 1,
   "metadata": {
    "execution": {
     "iopub.execute_input": "2022-09-20T22:44:16.320354Z",
     "iopub.status.busy": "2022-09-20T22:44:16.320004Z",
     "iopub.status.idle": "2022-09-20T22:44:17.918284Z",
     "shell.execute_reply": "2022-09-20T22:44:17.917572Z",
     "shell.execute_reply.started": "2022-09-20T22:44:16.320263Z"
    },
    "tags": []
   },
   "outputs": [],
   "source": [
    "# Tests for base Fault functionality: initialization, dumping, visualizations, etc.\n",
    "%load_ext autoreload\n",
    "%autoreload 2\n",
    "\n",
    "import os\n",
    "import sys\n",
    "import warnings\n",
    "import numpy as np\n",
    "\n",
    "warnings.filterwarnings('ignore')\n",
    "\n",
    "sys.path.insert(0, '../../../seismiqb')\n",
    "\n",
    "from batchflow import C, Pipeline\n",
    "from seismiqb import Field, Fault, SeismicDataset, SeismicSampler, plot"
   ]
  },
  {
   "cell_type": "code",
   "execution_count": 2,
   "metadata": {
    "execution": {
     "iopub.execute_input": "2022-09-20T22:44:17.919381Z",
     "iopub.status.busy": "2022-09-20T22:44:17.919135Z",
     "iopub.status.idle": "2022-09-20T22:44:17.940649Z",
     "shell.execute_reply": "2022-09-20T22:44:17.939988Z",
     "shell.execute_reply.started": "2022-09-20T22:44:17.919361Z"
    },
    "tags": []
   },
   "outputs": [],
   "source": [
    "\"\"\" You can manage cube and fault for the test:\n",
    "\n",
    "CUBE_PATH : str\n",
    "    Path to an existed seismic cube.\n",
    "FAULT_PATH : str\n",
    "    Path to an existed seismic fault.\n",
    "\"\"\"\n",
    "# Tests parameters\n",
    "OUTPUT_DIR = './fault_test_files'\n",
    "\n",
    "CUBE_PATH = os.path.join(OUTPUT_DIR, 'test_cube.sgy')\n",
    "FAULT_PATH = os.path.join(OUTPUT_DIR, 'test_fault')\n",
    "\n",
    "# Visualization parameters\n",
    "SHOW_FIGURES = True\n",
    "\n",
    "np.random.seed(42)"
   ]
  },
  {
   "cell_type": "markdown",
   "metadata": {},
   "source": [
    "# Initialization"
   ]
  },
  {
   "cell_type": "code",
   "execution_count": 3,
   "metadata": {
    "execution": {
     "iopub.execute_input": "2022-09-20T22:44:17.941971Z",
     "iopub.status.busy": "2022-09-20T22:44:17.941780Z",
     "iopub.status.idle": "2022-09-20T22:44:18.159124Z",
     "shell.execute_reply": "2022-09-20T22:44:18.158361Z",
     "shell.execute_reply.started": "2022-09-20T22:44:17.941954Z"
    },
    "tags": []
   },
   "outputs": [
    {
     "name": "stdout",
     "output_type": "stream",
     "text": [
      "CPU times: user 121 ms, sys: 75.8 ms, total: 197 ms\n",
      "Wall time: 192 ms\n"
     ]
    }
   ],
   "source": [
    "%%time\n",
    "\n",
    "# ilines sticks\n",
    "field = Field(CUBE_PATH)\n",
    "\n",
    "sticks1 = np.array([\n",
    "    [[100, 100, 25],\n",
    "     [100, 130, 175]],\n",
    "    [[120, 100, 25],\n",
    "     [120, 130, 175]],\n",
    "    [[140, 100, 25],\n",
    "     [140, 130, 175]]\n",
    "])\n",
    "\n",
    "sticks2 = sticks1 + 30"
   ]
  },
  {
   "cell_type": "code",
   "execution_count": 4,
   "metadata": {
    "execution": {
     "iopub.execute_input": "2022-09-20T22:44:18.161000Z",
     "iopub.status.busy": "2022-09-20T22:44:18.160663Z",
     "iopub.status.idle": "2022-09-20T22:44:18.198125Z",
     "shell.execute_reply": "2022-09-20T22:44:18.197633Z",
     "shell.execute_reply.started": "2022-09-20T22:44:18.160972Z"
    },
    "tags": []
   },
   "outputs": [
    {
     "name": "stdout",
     "output_type": "stream",
     "text": [
      "100%|\u001b[38;2;76;175;80m████████████████████████████████████████████\u001b[0m| 1/1 [00:00<00:00, 923.04it/s]\u001b[0m\n"
     ]
    }
   ],
   "source": [
    "dataset = SeismicDataset({field: [{'sticks': sticks1}]}, labels_class=Fault)\n",
    "\n",
    "ppl = (dataset.p\n",
    "      .make_locations(batch_size=16, generator=C('sampler'))\n",
    "      .load_cubes(dst='images')\n",
    "      .create_masks(dst='masks', width=C('width', default=3), sparse=C('sparse', default=False))\n",
    ")"
   ]
  },
  {
   "cell_type": "markdown",
   "metadata": {},
   "source": [
    "# Check width"
   ]
  },
  {
   "cell_type": "code",
   "execution_count": 5,
   "metadata": {
    "execution": {
     "iopub.execute_input": "2022-09-20T22:44:18.198977Z",
     "iopub.status.busy": "2022-09-20T22:44:18.198776Z",
     "iopub.status.idle": "2022-09-20T22:44:23.595638Z",
     "shell.execute_reply": "2022-09-20T22:44:23.595097Z",
     "shell.execute_reply.started": "2022-09-20T22:44:18.198961Z"
    },
    "tags": []
   },
   "outputs": [],
   "source": [
    "sampler = SeismicSampler(labels=dataset.labels, crop_shape=(1, 64, 64), mode='fault', threshold=0, extend=False)\n",
    "\n",
    "for width in range(1, 10, 2):\n",
    "    ppl.set_config({'width': width, 'sampler': sampler})\n",
    "    batch = ppl.next_batch()\n",
    "    assert (batch.masks.sum(axis=2) <= width+1).all(), f\"mask is wider then {width}\""
   ]
  },
  {
   "cell_type": "markdown",
   "metadata": {},
   "source": [
    "# Check 3D crops"
   ]
  },
  {
   "cell_type": "code",
   "execution_count": 6,
   "metadata": {
    "execution": {
     "iopub.execute_input": "2022-09-20T22:44:23.596946Z",
     "iopub.status.busy": "2022-09-20T22:44:23.596551Z",
     "iopub.status.idle": "2022-09-20T22:44:24.133108Z",
     "shell.execute_reply": "2022-09-20T22:44:24.132436Z",
     "shell.execute_reply.started": "2022-09-20T22:44:23.596912Z"
    },
    "tags": []
   },
   "outputs": [
    {
     "name": "stdout",
     "output_type": "stream",
     "text": [
      "100%|\u001b[38;2;76;175;80m███████████████████████████████████████████\u001b[0m| 2/2 [00:00<00:00, 2155.90it/s]\u001b[0m\n"
     ]
    },
    {
     "name": "stderr",
     "output_type": "stream",
     "text": [
      "WARNING:root:Initial dataset will be changed.\n"
     ]
    }
   ],
   "source": [
    "dataset = SeismicDataset({field: [{'sticks': s} for s in [sticks1, sticks2]]}, labels_class=Fault)\n",
    "sampler = SeismicSampler(labels=dataset.labels, crop_shape=(64, 64, 64), mode='fault', threshold=0)\n",
    "width = 2\n",
    "\n",
    "ppl.set_dataset(dataset)\n",
    "ppl.set_config({'sampler': sampler, 'width': width})\n",
    "batch = ppl.next_batch()"
   ]
  },
  {
   "cell_type": "code",
   "execution_count": 7,
   "metadata": {
    "execution": {
     "iopub.execute_input": "2022-09-20T22:44:24.134217Z",
     "iopub.status.busy": "2022-09-20T22:44:24.134038Z",
     "iopub.status.idle": "2022-09-20T22:44:24.609622Z",
     "shell.execute_reply": "2022-09-20T22:44:24.609216Z",
     "shell.execute_reply.started": "2022-09-20T22:44:24.134197Z"
    },
    "tags": []
   },
   "outputs": [
    {
     "data": {
      "text/plain": []
     },
     "execution_count": 7,
     "metadata": {},
     "output_type": "execute_result"
    },
    {
     "data": {
      "image/png": "[encoded data removed]",
      "text/plain": [
       "<Figure size 623.625x610 with 2 Axes>"
      ]
     },
     "metadata": {},
     "output_type": "display_data"
    }
   ],
   "source": [
    "plot(batch.masks[0, ..., 20], show=SHOW_FIGURES, colorbar=True)"
   ]
  },
  {
   "cell_type": "code",
   "execution_count": 8,
   "metadata": {
    "execution": {
     "iopub.execute_input": "2022-09-20T22:44:24.610485Z",
     "iopub.status.busy": "2022-09-20T22:44:24.610309Z",
     "iopub.status.idle": "2022-09-20T22:44:24.700245Z",
     "shell.execute_reply": "2022-09-20T22:44:24.699781Z",
     "shell.execute_reply.started": "2022-09-20T22:44:24.610467Z"
    },
    "tags": []
   },
   "outputs": [],
   "source": [
    "ppl.set_config({'sampler': sampler, 'width': width, 'sparse': True})\n",
    "batch = ppl.next_batch()"
   ]
  },
  {
   "cell_type": "code",
   "execution_count": 9,
   "metadata": {
    "execution": {
     "iopub.execute_input": "2022-09-20T22:44:24.701143Z",
     "iopub.status.busy": "2022-09-20T22:44:24.700961Z",
     "iopub.status.idle": "2022-09-20T22:44:24.947467Z",
     "shell.execute_reply": "2022-09-20T22:44:24.946905Z",
     "shell.execute_reply.started": "2022-09-20T22:44:24.701125Z"
    },
    "tags": []
   },
   "outputs": [
    {
     "data": {
      "text/plain": []
     },
     "execution_count": 9,
     "metadata": {},
     "output_type": "execute_result"
    },
    {
     "data": {
      "image/png": "[encoded data removed]",
      "text/plain": [
       "<Figure size 623.625x610 with 1 Axes>"
      ]
     },
     "metadata": {},
     "output_type": "display_data"
    }
   ],
   "source": [
    "plot(batch.masks[0, ..., 20], show=SHOW_FIGURES)"
   ]
  },
  {
   "cell_type": "code",
   "execution_count": 10,
   "metadata": {
    "execution": {
     "iopub.execute_input": "2022-09-20T22:44:24.948423Z",
     "iopub.status.busy": "2022-09-20T22:44:24.948201Z",
     "iopub.status.idle": "2022-09-20T22:44:24.971832Z",
     "shell.execute_reply": "2022-09-20T22:44:24.971448Z",
     "shell.execute_reply.started": "2022-09-20T22:44:24.948405Z"
    },
    "tags": []
   },
   "outputs": [],
   "source": [
    "for i in range(len(batch)):\n",
    "    loc = np.where(batch.masks[i][:, 0, 0] != -1)[0] + batch.locations[i][0].start\n",
    "    assert np.isin(loc, np.concatenate([sticks1[:, 0, 0], sticks2[:, 0, 0]])).all(), \"There are unlabeled slides with points\""
   ]
  }
 ],
 "metadata": {
  "kernelspec": {
   "display_name": "Python 3 (ipykernel)",
   "language": "python",
   "name": "python3"
  },
  "language_info": {
   "codemirror_mode": {
    "name": "ipython",
    "version": 3
   },
   "file_extension": ".py",
   "mimetype": "text/x-python",
   "name": "python",
   "nbconvert_exporter": "python",
   "pygments_lexer": "ipython3",
   "version": "3.8.10"
  },
  "widgets": {
   "application/vnd.jupyter.widget-state+json": {
    "state": {
     "1dc46d008b2845c2aae177e8ab4bd386": {
      "model_module": "@jupyter-widgets/base",
      "model_module_version": "1.2.0",
      "model_name": "LayoutModel",
      "state": {}
     },
     "ce15a796255e49819bf4cc447992050a": {
      "model_module": "@jupyter-widgets/output",
      "model_module_version": "1.0.0",
      "model_name": "OutputModel",
      "state": {
       "layout": "IPY_MODEL_1dc46d008b2845c2aae177e8ab4bd386"
      }
     }
    },
    "version_major": 2,
    "version_minor": 0
   }
  }
 },
 "nbformat": 4,
 "nbformat_minor": 4
}
