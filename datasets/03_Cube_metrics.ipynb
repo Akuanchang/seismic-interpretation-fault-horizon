{
 "cells": [
  {
   "cell_type": "markdown",
   "metadata": {},
   "source": [
    "# Metrics for cubes\n",
    "\n",
    "This notebooks computes and shows various metrics for each cube.\n",
    "\n",
    "Pseudocode of this notebook looks like:"
   ]
  },
  {
   "cell_type": "markdown",
   "metadata": {},
   "source": [
    "```python\n",
    "for each cube:\n",
    "    mkdir\n",
    "    infer geometry\n",
    "    if SHOW, log to std.out\n",
    "    \n",
    "    for each metric:\n",
    "        compute metric\n",
    "        save png\n",
    "        if SAVE_POINT_CLOUDS, save point cloud\n",
    "        if SHOW, draw in std.out  \n",
    "```"
   ]
  },
  {
   "cell_type": "markdown",
   "metadata": {},
   "source": [
    "#### There are following parameters: \n",
    "* `paths` controls which cubes are used\n",
    "*  `metrics` allows to choose computed metrics\n",
    "* `script_dir` is a location to save metric maps\n",
    "* `local_kwargs`, `support_kwargs` define exact parameters of metric computation\n",
    "* `ADD_PREFIX` stores parameters of metric computation in the name of saved metric map\n",
    "* `SAVE_POINT_CLOUD` stores obtained values next to the metric map\n",
    "* `SHOW` controls whether images are displayed in the notebook"
   ]
  },
  {
   "cell_type": "code",
   "execution_count": null,
   "metadata": {},
   "outputs": [],
   "source": [
    "import os\n",
    "import sys\n",
    "from glob import glob\n",
    "from tqdm.auto import tqdm\n",
    "from copy import copy\n",
    "\n",
    "sys.path.append('..')\n",
    "from seismiqb import SeismicGeometry, GeometryMetrics, plot_image, save_point_cloud"
   ]
  },
  {
   "cell_type": "code",
   "execution_count": null,
   "metadata": {},
   "outputs": [],
   "source": [
    "# Cubes to evaluate\n",
    "paths = sorted(glob('/data/seismic_data/seismic_interpretation/CUBE_*/amp*.hdf5'))\n",
    "[print(path) for path in paths]\n",
    "\n",
    "# Metrics to compute\n",
    "# metrics = GeometryMetrics.AVAILABLE_METRICS\n",
    "metrics = ['support_hellinger', 'support_corrs',]"
   ]
  },
  {
   "cell_type": "code",
   "execution_count": null,
   "metadata": {},
   "outputs": [],
   "source": [
    "# Directory for all the files to be saved in\n",
    "# For each cube, a separate dir is created inside\n",
    "script_dir = 'cube_metrics'\n",
    "try: os.mkdir(script_dir)\n",
    "except FileExistsError: pass\n",
    "\n",
    "\n",
    "# Parameters for `local` metrics like `local_correlation`\n",
    "local_kwargs = {\n",
    "    'agg': None,\n",
    "    'kernel_size': 3,\n",
    "    'reduce_func': 'mean',\n",
    "}\n",
    "\n",
    "# Parameters for `support` metrics like `support_hellinger`\n",
    "support_kwargs = {\n",
    "    'agg': 'mean',\n",
    "    'supports': 20,\n",
    "}\n",
    "\n",
    "# Parameters of drawing\n",
    "plot_kwargs = {\n",
    "    'cmap': 'Reds',\n",
    "    'figsize': (15, 15),\n",
    "}\n",
    "\n",
    "\n",
    "# Whether file names contain info about parameters of metric computation\n",
    "ADD_PREFIX = True\n",
    "\n",
    "# Whether to save point clouds of metrics right next to the images\n",
    "SAVE_POINT_CLOUDS = False\n",
    "\n",
    "# Whether to log progress/draw images to std.out\n",
    "SHOW = True"
   ]
  },
  {
   "cell_type": "code",
   "execution_count": null,
   "metadata": {},
   "outputs": [],
   "source": [
    "%%time\n",
    "for path_cube in tqdm(paths, ncols=1100):\n",
    "    \n",
    "    geometry = SeismicGeometry(path_cube)\n",
    "    gm = GeometryMetrics(geometry)\n",
    "    \n",
    "    cube_dir = '/'.join((script_dir, geometry.short_name))\n",
    "    try: os.mkdir(cube_dir)\n",
    "    except FileExistsError: pass\n",
    "    \n",
    "    if SHOW:\n",
    "        print('▆'*130); print('▆'*130);\n",
    "        print(geometry)\n",
    "    \n",
    "    computed_metrics = []\n",
    "    for metric_name in tqdm(metrics, ncols=600):        \n",
    "        save_path = '/'.join((cube_dir, metric_name))\n",
    "        kwargs = copy(local_kwargs) if metric_name.startswith('local') else copy(support_kwargs)\n",
    "\n",
    "        if ADD_PREFIX:\n",
    "            save_path += '@'\n",
    "            save_path += '|'.join([':'.join([key,str(value)])\n",
    "                                   for key, value in kwargs.items()])\n",
    "        \n",
    "        metric = gm.evaluate(metric_name, **kwargs,\n",
    "                             plot=True, show_plot=SHOW, plot_kwargs=plot_kwargs,\n",
    "                             savepath=save_path + '.png')\n",
    "        computed_metrics.append(metric)\n",
    "        \n",
    "        if SAVE_POINT_CLOUDS:\n",
    "            save_point_cloud(metric, save_path, geometry)\n",
    "\n",
    "            \n",
    "    save_path = '/'.join((cube_dir, 'quality_map'))\n",
    "    if ADD_PREFIX:\n",
    "        save_path += '@'\n",
    "        save_path += '|'.join([':'.join([key,str(value)])\n",
    "                               for key, value in kwargs.items()])\n",
    "    quality_map = gm.evaluate('quality_map', quantiles=[0.1], agg=None,\n",
    "                              computed_metrics=computed_metrics,\n",
    "                              plot=True, show_plot=SHOW, plot_kwargs=plot_kwargs,\n",
    "                              savepath=save_path + '.png')\n",
    "    plt.show()"
   ]
  }
 ],
 "metadata": {
  "kernelspec": {
   "display_name": "Python 3",
   "language": "python",
   "name": "python3"
  },
  "language_info": {
   "codemirror_mode": {
    "name": "ipython",
    "version": 3
   },
   "file_extension": ".py",
   "mimetype": "text/x-python",
   "name": "python",
   "nbconvert_exporter": "python",
   "pygments_lexer": "ipython3",
   "version": "3.6.9"
  }
 },
 "nbformat": 4,
 "nbformat_minor": 4
}
