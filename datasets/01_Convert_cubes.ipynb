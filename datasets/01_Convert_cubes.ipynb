{
 "cells": [
  {
   "cell_type": "markdown",
   "metadata": {},
   "source": [
    "# Cube conversion\n",
    "\n",
    "This notebooks creates an optimized version of each `SEG-Y` cube.\n",
    "The exact format (`HDF5`, `BLOSC` or their quantized versions) depends on `FORMAT` and `QUANTIZE` parameters.\n",
    "\n",
    "Pseudocode of this notebook looks like:"
   ]
  },
  {
   "cell_type": "markdown",
   "metadata": {},
   "source": [
    "```python\n",
    "for each cube:\n",
    "    mkdir\n",
    "    infer geometry\n",
    "    if SHOW, log to std.out\n",
    "    \n",
    "    convert segy to a desired format\n",
    "```"
   ]
  },
  {
   "cell_type": "markdown",
   "metadata": {},
   "source": [
    "* The parameter `paths` controls which cubes are converted\n",
    "* `RECREATE` determines whether already converted volumes are re-converted\n",
    "* `FORMAT` and `QUANTIZE` determine the exact format to convert to\n",
    "* `SHOW` allows to control whether results are shown in the notebook itself\n",
    "* `DRY` can be used to check which operations will happen, without actually executing them"
   ]
  },
  {
   "cell_type": "code",
   "execution_count": null,
   "metadata": {},
   "outputs": [],
   "source": [
    "import os\n",
    "import sys\n",
    "import warnings\n",
    "from tqdm.auto import tqdm\n",
    "from glob import glob\n",
    "import matplotlib.pyplot as plt\n",
    "\n",
    "sys.path.append('..')\n",
    "from seismiqb import SeismicGeometry, plot_image"
   ]
  },
  {
   "cell_type": "code",
   "execution_count": null,
   "metadata": {},
   "outputs": [],
   "source": [
    "paths = sorted(glob('/data/seismic_data/seismic_interpretation/CUBE_*/amplitudes*.s*y'))\n",
    "[print(path) for path in paths]\n",
    "\n",
    "RECREATE = True\n",
    "FORMAT = 'blosc'\n",
    "QUANTIZE = True\n",
    "SHOW = True\n",
    "\n",
    "DRY_RUN = False"
   ]
  },
  {
   "cell_type": "code",
   "execution_count": null,
   "metadata": {},
   "outputs": [],
   "source": [
    "%%time\n",
    "for path_cube in tqdm(paths, ncols=800):\n",
    "    if not os.path.exists(path_cube):\n",
    "        continue\n",
    "    \n",
    "    path_converted = '.'.join((os.path.splitext(path_cube)[0],\n",
    "                               ('q' if QUANTIZE else '') + FORMAT))\n",
    "    if os.path.exists(path_converted) and not RECREATE:\n",
    "        print(f'{path_converted} already exists, skipping')\n",
    "        continue\n",
    "    \n",
    "    if DRY_RUN:\n",
    "        print(f'Will convert ::: {path_cube}\\nto           ::: {path_converted}\\n')\n",
    "        continue\n",
    "    \n",
    "    if SHOW:\n",
    "        print('▆'*60); print('▆'*60);\n",
    "        print('Working with', path_cube)\n",
    "\n",
    "    geometry = SeismicGeometry(\n",
    "        path_cube,\n",
    "        headers=SeismicGeometry.HEADERS_POST_FULL,\n",
    "        index_headers = SeismicGeometry.INDEX_POST,\n",
    "        collect_stats=True, spatial=True, recollect=True\n",
    "    )\n",
    "    qmap = geometry.quality_map\n",
    "\n",
    "    if SHOW:\n",
    "        geometry.print()\n",
    "        geometry.print_textual()\n",
    "\n",
    "        geometry.show()\n",
    "        geometry.show_quality_map()\n",
    "        plt.show()\n",
    "    \n",
    "    geometry_converted = geometry.convert(format=FORMAT, quantize=QUANTIZE)\n",
    "    \n",
    "    if SHOW:\n",
    "        geometry_converted.print()\n",
    "        print('\\n'*3)"
   ]
  }
 ],
 "metadata": {
  "kernelspec": {
   "display_name": "Python 3",
   "language": "python",
   "name": "python3"
  },
  "language_info": {
   "codemirror_mode": {
    "name": "ipython",
    "version": 3
   },
   "file_extension": ".py",
   "mimetype": "text/x-python",
   "name": "python",
   "nbconvert_exporter": "python",
   "pygments_lexer": "ipython3",
   "version": "3.6.10"
  }
 },
 "nbformat": 4,
 "nbformat_minor": 4
}
