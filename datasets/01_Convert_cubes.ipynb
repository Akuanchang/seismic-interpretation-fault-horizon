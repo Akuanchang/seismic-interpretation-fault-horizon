{
 "cells": [
  {
   "cell_type": "markdown",
   "metadata": {},
   "source": [
    "# Cube conversion to HDF5\n",
    "\n",
    "This notebooks creates a `HDF5` version of each `SEG-Y` cube.\n",
    "\n",
    "Pseudocode of this notebook looks like:"
   ]
  },
  {
   "cell_type": "markdown",
   "metadata": {},
   "source": [
    "```python\n",
    "for each cube:\n",
    "    mkdir\n",
    "    infer geometry\n",
    "    if SHOW, log to std.out\n",
    "    \n",
    "    convert segy to hdf5\n",
    "```"
   ]
  },
  {
   "cell_type": "markdown",
   "metadata": {},
   "source": [
    "* The parameter `paths` controls which cubes are converted\n",
    "* `RECREATE` determines whether already converted volumes are re-converted\n",
    "* `SHOW` allows to control whether results are shown in the notebook itself\n",
    "* `DRY` can be used to check which operations will happen, without actually executing them"
   ]
  },
  {
   "cell_type": "code",
   "execution_count": null,
   "metadata": {},
   "outputs": [],
   "source": [
    "import os\n",
    "import sys\n",
    "import warnings\n",
    "from tqdm.auto import tqdm\n",
    "from glob import glob\n",
    "import matplotlib.pyplot as plt\n",
    "\n",
    "sys.path.append('..')\n",
    "from seismiqb import SeismicGeometry, plot_image"
   ]
  },
  {
   "cell_type": "code",
   "execution_count": null,
   "metadata": {},
   "outputs": [],
   "source": [
    "paths = sorted(glob('/data/seismic_data/seismic_interpretation/CUBE_*/amp*.sgy'))\n",
    "[print(path) for path in paths]\n",
    "\n",
    "RECREATE = False\n",
    "SHOW = True\n",
    "\n",
    "DRY_RUN = True"
   ]
  },
  {
   "cell_type": "code",
   "execution_count": null,
   "metadata": {},
   "outputs": [],
   "source": [
    "%%time\n",
    "for path_cube in tqdm(paths, ncols=1100):\n",
    "    if not os.path.exists(path_cube):\n",
    "        continue\n",
    "    \n",
    "    hdf5_path_cube = '.'.join((os.path.splitext(path_cube)[0], 'hdf5'))\n",
    "    if os.path.exists(hdf5_path_cube) and not RECREATE:\n",
    "        continue\n",
    "    \n",
    "    if DRY_RUN:\n",
    "        print('Will convert :::', path_cube)\n",
    "        continue\n",
    "    \n",
    "    if SHOW:\n",
    "        print('▆'*55); print('▆'*55);\n",
    "        print('Working with', path_cube)\n",
    "\n",
    "    geometry = SeismicGeometry(\n",
    "        path_cube,\n",
    "        headers=SeismicGeometry.HEADERS_POST_FULL,\n",
    "        index_headers = SeismicGeometry.INDEX_POST,\n",
    "        collect_stats=True, spatial=True, recollect=True\n",
    "    )\n",
    "    qmap = geometry.quality_map\n",
    "\n",
    "    if SHOW:\n",
    "        print(geometry)\n",
    "        plot_image(qmap, cmap='Reds')\n",
    "        plt.show()\n",
    "    \n",
    "    geometry.make_hdf5()"
   ]
  }
 ],
 "metadata": {
  "kernelspec": {
   "display_name": "Python 3",
   "language": "python",
   "name": "python3"
  },
  "language_info": {
   "codemirror_mode": {
    "name": "ipython",
    "version": 3
   },
   "file_extension": ".py",
   "mimetype": "text/x-python",
   "name": "python",
   "nbconvert_exporter": "python",
   "pygments_lexer": "ipython3",
   "version": "3.6.9"
  }
 },
 "nbformat": 4,
 "nbformat_minor": 4
}
