{
 "cells": [
  {
   "cell_type": "markdown",
   "metadata": {},
   "source": [
    "# Cube conversion to HDF5\n",
    "\n",
    "This notebooks creates a `HDF5` version of each `SEG-Y` cube.\n",
    "\n",
    "Pseudocode of this notebook looks like:"
   ]
  },
  {
   "cell_type": "markdown",
   "metadata": {},
   "source": [
    "```python\n",
    "for each cube:\n",
    "    mkdir\n",
    "    infer geometry\n",
    "    if SHOW, log to std.out\n",
    "    \n",
    "    convert segy to hdf5\n",
    "```"
   ]
  },
  {
   "cell_type": "markdown",
   "metadata": {},
   "source": [
    "The parameter `paths` ` controls which cubes are converted.\n",
    "\n",
    "Parameter `SHOW` allows to control whether results are shown in the notebook itself."
   ]
  },
  {
   "cell_type": "code",
   "execution_count": null,
   "metadata": {},
   "outputs": [],
   "source": [
    "import sys\n",
    "import warnings\n",
    "from tqdm.auto import tqdm\n",
    "import matplotlib.pyplot as plt\n",
    "\n",
    "sys.path.append('..')\n",
    "from seismiqb import SeismicGeometry, plot_image"
   ]
  },
  {
   "cell_type": "code",
   "execution_count": null,
   "metadata": {},
   "outputs": [],
   "source": [
    "paths = [\n",
    "    '/data/seismic/CUBE_1/E_anon.sgy',\n",
    "    '/data/seismic/CUBE_2/M_cube.sgy',\n",
    "    '/data/seismic/CUBE_3/P_cube.sgy',\n",
    "    '/data/seismic/CUBE_4/R_cube.sgy',\n",
    "    '/data/seismic/CUBE_5/AMP.sgy',\n",
    "    '/data/seismic/CUBE_6/T_cube.sgy',\n",
    "    '/data/seismic/CUBE_7/S_cube.sgy',\n",
    "    '/data/seismic/CUBE_8/8_cube.sgy', # too big; not enough space\n",
    "    '/data/seismic/CUBE_9/9_cube.sgy', # duplicate of CUBE_15\n",
    "    '/data/seismic/CUBE_10/10_cube.sgy',\n",
    "    '/data/seismic/CUBE_11/Aya_3D_fixed.sgy',\n",
    "    '/data/seismic/CUBE_12/A_cube.sgy',\n",
    "    '/data/seismic/CUBE_13/13_cube.sgy', # inconsistent trace lengths\n",
    "    '/data/seismic/CUBE_14/14_cube.sgy', # almost a duplicate of CUBE_1\n",
    "    '/data/seismic/CUBE_15/15_cube.sgy',\n",
    "    '/data/seismic/CUBE_16/PSDM_CUB_ANON.sgy',\n",
    "    '/data/seismic/CUBE_17/ACH.sgy',\n",
    "    '/data/seismic/CUBE_18/Cube.sgy',\n",
    "    '/data/seismic/CUBE_19/Cube.sgy',\n",
    "    '/data/seismic/CUBE_20/Cube.sgy',\n",
    "    '/data/seismic/CUBE_21/Cube.sgy',\n",
    "]\n",
    "\n",
    "SHOW = True"
   ]
  },
  {
   "cell_type": "code",
   "execution_count": null,
   "metadata": {},
   "outputs": [],
   "source": [
    "%%time\n",
    "for path_cube in tqdm(paths, ncols=1100):\n",
    "    if SHOW:\n",
    "        print('▆'*55); print('▆'*55);\n",
    "        \n",
    "    \n",
    "    geometry = SeismicGeometry(\n",
    "        path_cube,\n",
    "        headers=SeismicGeometry.HEADERS_POST_FULL,\n",
    "        index_headers = SeismicGeometry.INDEX_POST,\n",
    "        collect_stats=True, spatial=True,\n",
    "    )\n",
    "    qmap = geometry.quality_map\n",
    "\n",
    "    if SHOW:\n",
    "        print(geometry)\n",
    "        plot_image(qmap, cmap='Reds')\n",
    "        plt.show()\n",
    "    \n",
    "    geometry.make_hdf5()"
   ]
  }
 ],
 "metadata": {
  "kernelspec": {
   "display_name": "Python 3",
   "language": "python",
   "name": "python3"
  },
  "language_info": {
   "codemirror_mode": {
    "name": "ipython",
    "version": 3
   },
   "file_extension": ".py",
   "mimetype": "text/x-python",
   "name": "python",
   "nbconvert_exporter": "python",
   "pygments_lexer": "ipython3",
   "version": "3.6.9"
  }
 },
 "nbformat": 4,
 "nbformat_minor": 4
}
