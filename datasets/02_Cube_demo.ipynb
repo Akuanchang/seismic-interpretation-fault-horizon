{
 "cells": [
  {
   "cell_type": "markdown",
   "metadata": {},
   "source": [
    "# Cube demonstration\n",
    "\n",
    "This notebooks shows multiple slices (both inline and crossline oriented) from each cube.\n",
    "\n",
    "Pseudocode of this notebook looks like:"
   ]
  },
  {
   "cell_type": "markdown",
   "metadata": {},
   "source": [
    "```python\n",
    "for each cube:\n",
    "    mkdir\n",
    "    infer geometry\n",
    "    if SHOW, log to std.out\n",
    "    \n",
    "    for each axis:\n",
    "        make N slides\n",
    "        if SHOW, draw slides in std.out\n",
    "```"
   ]
  },
  {
   "cell_type": "markdown",
   "metadata": {},
   "source": [
    "There are two parameters: `paths` and `N`, that control which cubes are demonstrated and how many slides are created.\n",
    "\n",
    "Parameters `SHOW`, `script_dir` allow to control whether results are shown in the notebook itself and the location of saved images."
   ]
  },
  {
   "cell_type": "code",
   "execution_count": null,
   "metadata": {},
   "outputs": [],
   "source": [
    "import os\n",
    "import sys\n",
    "from glob import glob\n",
    "from tqdm.auto import tqdm\n",
    "\n",
    "sys.path.append('..')\n",
    "from seismiqb import SeismicGeometry"
   ]
  },
  {
   "cell_type": "code",
   "execution_count": null,
   "metadata": {},
   "outputs": [],
   "source": [
    "# Cubes to evaluate\n",
    "paths = sorted(glob('/data/seismic_data/seismic_interpretation/CUBE_*/amp*.hdf5'))\n",
    "[print(path) for path in paths]\n",
    "\n",
    "# Number of slides along each of the axes\n",
    "N = 5"
   ]
  },
  {
   "cell_type": "code",
   "execution_count": null,
   "metadata": {},
   "outputs": [],
   "source": [
    "# Directory for all the files to be saved in\n",
    "# For each cube, a separate dir is created inside\n",
    "script_dir = 'cube_demo'\n",
    "try: os.mkdir(script_dir)\n",
    "except FileExistsError: pass\n",
    "\n",
    "\n",
    "# Whether to log progress/draw images to std.out\n",
    "SHOW = False"
   ]
  },
  {
   "cell_type": "code",
   "execution_count": null,
   "metadata": {},
   "outputs": [],
   "source": [
    "%%time\n",
    "for path_cube in tqdm(paths, ncols=1100):\n",
    "    geometry = SeismicGeometry(path_cube)\n",
    "    \n",
    "    cube_dir = '/'.join((script_dir, geometry.short_name))\n",
    "    try: os.mkdir(cube_dir)\n",
    "    except FileExistsError: pass\n",
    "    \n",
    "    if SHOW:\n",
    "        print('▆'*130); print('▆'*130);\n",
    "        print(geometry)\n",
    "    \n",
    "    for i, idx in enumerate(geometry.index_headers):\n",
    "        length = geometry.lens[i]\n",
    "        step = length // N\n",
    "        locs = list(range(step // 3, length, step))\n",
    "\n",
    "        for loc in locs:\n",
    "            save_path = '/'.join((cube_dir, f'{idx}-{loc}.png'))\n",
    "            geometry.show_slide(loc, axis=i, show=SHOW, savepath=save_path)  "
   ]
  }
 ],
 "metadata": {
  "kernelspec": {
   "display_name": "Python 3",
   "language": "python",
   "name": "python3"
  },
  "language_info": {
   "codemirror_mode": {
    "name": "ipython",
    "version": 3
   },
   "file_extension": ".py",
   "mimetype": "text/x-python",
   "name": "python",
   "nbconvert_exporter": "python",
   "pygments_lexer": "ipython3",
   "version": "3.6.9"
  }
 },
 "nbformat": 4,
 "nbformat_minor": 4
}
