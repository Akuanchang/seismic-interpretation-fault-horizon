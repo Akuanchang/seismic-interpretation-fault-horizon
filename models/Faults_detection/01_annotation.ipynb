{
 "cells": [
  {
   "cell_type": "code",
   "execution_count": null,
   "metadata": {},
   "outputs": [],
   "source": [
    "# some imports\n",
    "import sys\n",
    "import warnings\n",
    "warnings.filterwarnings(\"ignore\")\n",
    "\n",
    "from copy import copy\n",
    "\n",
    "import numpy as np\n",
    "import torch.nn as nn\n",
    "from tqdm.notebook import tqdm_notebook\n",
    "\n",
    "sys.path.append('../../..')\n",
    "\n",
    "from seismiqb import *\n",
    "from seismiqb.src.controllers.torch_models import ExtensionModel\n",
    "\n",
    "from seismiqb.batchflow import FilesIndex, Pipeline\n",
    "from seismiqb.batchflow import D, B, V, P, R, L"
   ]
  },
  {
   "cell_type": "code",
   "execution_count": null,
   "metadata": {},
   "outputs": [],
   "source": [
    "rm -r '/data/seismic_data/seismic_interpretation/CUBE_16_PSDM//INPUTS/FAULTS/HDF5/faults.hdf5'"
   ]
  },
  {
   "cell_type": "code",
   "execution_count": null,
   "metadata": {},
   "outputs": [],
   "source": [
    "%%time\n",
    "\n",
    "cube_path = '/data/seismic_data/seismic_interpretation/CUBE_16_PSDM/amplitudes_16_PSDM.hdf5'\n",
    "\n",
    "dataset = SeismicCubeset(FilesIndex(path=cube_path, no_ext=True))\n",
    "\n",
    "dataset.load(label_dir='/INPUTS/FAULTS/NPY/*', labels_class=Fault, width=1)\n",
    "dataset.modify_sampler(dst='train_sampler', finish=True)\n",
    "\n",
    "#CPU times: user 16min 42s, sys: 26.9 s, total: 17min 9s\n",
    "#Wall time: 17min 9s"
   ]
  },
  {
   "cell_type": "code",
   "execution_count": null,
   "metadata": {},
   "outputs": [],
   "source": [
    "# ! rm -r /data/seismic_data/seismic_interpretation/CUBE_16_PSDM/INPUTS/FAULTS/HDF5/faults.hdf5"
   ]
  },
  {
   "cell_type": "code",
   "execution_count": null,
   "metadata": {},
   "outputs": [],
   "source": [
    "# dataset.dump_labels('/INPUTS/FAULTS/HDF5', fmt='hdf5')"
   ]
  },
  {
   "cell_type": "markdown",
   "metadata": {},
   "source": [
    "# Map of faults"
   ]
  },
  {
   "cell_type": "code",
   "execution_count": null,
   "metadata": {},
   "outputs": [],
   "source": [
    "_ = dataset.show_slices(src_sampler='train_sampler',\n",
    "                        normalize=True, shape=(1, 128, 128),\n",
    "                        adaptive_slices=False,\n",
    "                        cmap='Reds', interpolation='bilinear',\n",
    "                        figsize=(8, 6))"
   ]
  },
  {
   "cell_type": "code",
   "execution_count": null,
   "metadata": {},
   "outputs": [],
   "source": [
    "for i in range(len(dataset)):\n",
    "    bounds = min([fault.points[:, 2].min() for fault in dataset.labels[i]]), max([fault.points[:, 2].max() for fault in dataset.labels[i]])\n",
    "    points = np.random.choice(len(dataset.labels[i]), 3, replace=False)\n",
    "    for p in points:\n",
    "        dataset.show_slide(dataset.labels[i][p].points[0, 0], idx=i,\n",
    "                           figsize=(20,20), zoom_slice = (slice(None, None), slice(*bounds)))"
   ]
  },
  {
   "cell_type": "code",
   "execution_count": null,
   "metadata": {},
   "outputs": [],
   "source": [
    "BATCH_SIZE = 64\n",
    "CROP_SHAPE = (1, 256, 256)\n",
    "NUM_ITERS = 300\n",
    "N_STEPS = 8\n",
    "STRIDE = 20"
   ]
  },
  {
   "cell_type": "code",
   "execution_count": null,
   "metadata": {},
   "outputs": [],
   "source": [
    "load = (Pipeline()\n",
    "        .crop(points=D('train_sampler')(BATCH_SIZE),\n",
    "              shape=CROP_SHAPE, side_view=False)\n",
    "        .create_masks(dst='masks', width=5)\n",
    "        .load_cubes(dst='images'))"
   ]
  },
  {
   "cell_type": "code",
   "execution_count": null,
   "metadata": {},
   "outputs": [],
   "source": [
    "show_pipeline = (load ) << dataset\n",
    "batch = show_pipeline.next_batch(1)"
   ]
  },
  {
   "cell_type": "code",
   "execution_count": null,
   "metadata": {},
   "outputs": [],
   "source": [
    "batch.plot_components('images', 'masks', idx=0, mode='separate')"
   ]
  },
  {
   "cell_type": "code",
   "execution_count": null,
   "metadata": {},
   "outputs": [],
   "source": [
    "batch.plot_components('images', 'masks', idx=0, mode='overlap')"
   ]
  }
 ],
 "metadata": {
  "kernelspec": {
   "display_name": "Python 3",
   "language": "python",
   "name": "python3"
  },
  "language_info": {
   "codemirror_mode": {
    "name": "ipython",
    "version": 3
   },
   "file_extension": ".py",
   "mimetype": "text/x-python",
   "name": "python",
   "nbconvert_exporter": "python",
   "pygments_lexer": "ipython3",
   "version": "3.6.9"
  },
  "varInspector": {
   "cols": {
    "lenName": 16,
    "lenType": 16,
    "lenVar": 40
   },
   "kernels_config": {
    "python": {
     "delete_cmd_postfix": "",
     "delete_cmd_prefix": "del ",
     "library": "var_list.py",
     "varRefreshCmd": "print(var_dic_list())"
    },
    "r": {
     "delete_cmd_postfix": ") ",
     "delete_cmd_prefix": "rm(",
     "library": "var_list.r",
     "varRefreshCmd": "cat(var_dic_list()) "
    }
   },
   "types_to_exclude": [
    "module",
    "function",
    "builtin_function_or_method",
    "instance",
    "_Feature"
   ],
   "window_display": false
  }
 },
 "nbformat": 4,
 "nbformat_minor": 4
}
