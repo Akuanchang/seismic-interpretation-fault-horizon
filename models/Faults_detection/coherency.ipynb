{
 "cells": [
  {
   "cell_type": "code",
   "execution_count": null,
   "metadata": {},
   "outputs": [],
   "source": [
    "# some imports\n",
    "import os\n",
    "import sys\n",
    "import glob\n",
    "import warnings\n",
    "warnings.filterwarnings(\"ignore\")\n",
    "\n",
    "from copy import copy\n",
    "\n",
    "import numpy as np\n",
    "import torch.nn as nn\n",
    "from tqdm.notebook import tqdm_notebook\n",
    "\n",
    "sys.path.append('../..')\n",
    "\n",
    "from seismiqb import *\n",
    "from seismiqb.src.controllers.torch_models import ExtensionModel\n",
    "\n",
    "from seismiqb.batchflow import FilesIndex, Pipeline\n",
    "from seismiqb.batchflow import D, B, V, P, R, L"
   ]
  },
  {
   "cell_type": "markdown",
   "metadata": {},
   "source": [
    "# E cube"
   ]
  },
  {
   "cell_type": "code",
   "execution_count": null,
   "metadata": {},
   "outputs": [],
   "source": [
    "cube_path = '/data/seismic_data/seismic_interpretation/CUBE_01_ETP/amplitudes_01_ETP.hdf5'\n",
    "coherency_path = '/data/seismic_data/seismic_interpretation/CUBE_01_ETP/coherency/E_anon_Var.hdf5'\n",
    "fault_files = sorted(glob.glob(os.path.join(os.path.dirname(cube_path), 'INPUTS/FAULTS/PROCESSED/*')))\n",
    "\n",
    "for fault_file in fault_files:\n",
    "    Fault.check_format(fault_file, verbose=False)"
   ]
  },
  {
   "cell_type": "code",
   "execution_count": null,
   "metadata": {},
   "outputs": [],
   "source": [
    "# ! rm /data/seismic_data/seismic_interpretation/CUBE_24_VZC/INPUTS/FAULTS/PROCESSED/M/Fault_interpretation_15"
   ]
  },
  {
   "cell_type": "code",
   "execution_count": null,
   "metadata": {},
   "outputs": [],
   "source": [
    "# Fault.split_file('/data/seismic_data/seismic_interpretation/CUBE_24_VZC/INPUTS/FAULTS/RAW/L_faults_VZC', '/data/seismic_data/seismic_interpretation/CUBE_24_VZC/INPUTS/FAULTS/PROCESSED/L/')"
   ]
  },
  {
   "cell_type": "code",
   "execution_count": null,
   "metadata": {},
   "outputs": [],
   "source": [
    "dataset = SeismicCubeset(FilesIndex(path=cube_path, no_ext=True))\n",
    "\n",
    "dataset.load_geometries()\n",
    "\n",
    "dataset.load(label_dir='/INPUTS/FAULTS/PROCESSED/*', labels_class=Fault, transform=True, verify=True)\n",
    "dataset.modify_sampler(dst='train_sampler', finish=True)"
   ]
  },
  {
   "cell_type": "code",
   "execution_count": null,
   "metadata": {},
   "outputs": [],
   "source": [
    "cube = SeismicGeometry(cube_path)\n",
    "coherency = SeismicGeometry(coherency_path)"
   ]
  },
  {
   "cell_type": "code",
   "execution_count": null,
   "metadata": {},
   "outputs": [],
   "source": [
    "dataset.labels[0]"
   ]
  },
  {
   "cell_type": "code",
   "execution_count": null,
   "metadata": {},
   "outputs": [],
   "source": [
    "2"
   ]
  },
  {
   "cell_type": "code",
   "execution_count": null,
   "metadata": {},
   "outputs": [],
   "source": [
    "coherency.show_slide(100)"
   ]
  },
  {
   "cell_type": "code",
   "execution_count": null,
   "metadata": {},
   "outputs": [],
   "source": [
    "! cat /data/seismic_data/seismic_interpretation/CUBE_24_VZC/INPUTS/FAULTS/PROCESSED/M/Fault_interpretation_15"
   ]
  },
  {
   "cell_type": "code",
   "execution_count": null,
   "metadata": {},
   "outputs": [],
   "source": [
    "ls "
   ]
  },
  {
   "cell_type": "code",
   "execution_count": null,
   "metadata": {},
   "outputs": [],
   "source": [
    "! cat /data/seismic_data/seismic_interpretation/CUBE_23_VYNGAYAHA/INPUTS/FAULTS/PROCESSED/Fault_Patches_3_137"
   ]
  },
  {
   "cell_type": "markdown",
   "metadata": {},
   "source": [
    "# Map of faults"
   ]
  },
  {
   "cell_type": "code",
   "execution_count": null,
   "metadata": {},
   "outputs": [],
   "source": [
    "_ = dataset.show_slices(src_sampler='train_sampler',\n",
    "                        normalize=True, shape=(1, 128, 128),\n",
    "                        adaptive_slices=False,\n",
    "                        cmap='Reds', interpolation='bilinear',\n",
    "                        figsize=(8, 6))"
   ]
  },
  {
   "cell_type": "markdown",
   "metadata": {},
   "source": [
    "# Initial coordinates"
   ]
  },
  {
   "cell_type": "code",
   "execution_count": null,
   "metadata": {},
   "outputs": [],
   "source": [
    "! head \"{fault_files[0]}\""
   ]
  },
  {
   "cell_type": "markdown",
   "metadata": {},
   "source": [
    "# Shifted and interpolated coordinates"
   ]
  },
  {
   "cell_type": "markdown",
   "metadata": {},
   "source": [
    "Linear tranformation of coordinates:\n",
    "\n",
    "    array[:, 0] -= self.geometry.ilines_offset\n",
    "    array[:, 1] -= self.geometry.xlines_offset\n",
    "    array[:, 2] -= self.geometry.delay\n",
    "    array[:, 2] /= self.geometry.sample_rate"
   ]
  },
  {
   "cell_type": "code",
   "execution_count": null,
   "metadata": {},
   "outputs": [],
   "source": [
    "dataset.labels[0][0].points"
   ]
  },
  {
   "cell_type": "markdown",
   "metadata": {},
   "source": [
    "# Examples"
   ]
  },
  {
   "cell_type": "markdown",
   "metadata": {},
   "source": [
    "We can see shift of the annotation. Why?"
   ]
  },
  {
   "cell_type": "code",
   "execution_count": null,
   "metadata": {},
   "outputs": [],
   "source": [
    "dataset.labels[0][0].points"
   ]
  },
  {
   "cell_type": "code",
   "execution_count": null,
   "metadata": {},
   "outputs": [],
   "source": [
    "dataset.geometries[0].ilines_offset + 1839"
   ]
  },
  {
   "cell_type": "code",
   "execution_count": null,
   "metadata": {},
   "outputs": [],
   "source": [
    "p = dataset.labels[0][0].points\n",
    "p[p[:, 0] == 1829]"
   ]
  },
  {
   "cell_type": "code",
   "execution_count": null,
   "metadata": {},
   "outputs": [],
   "source": [
    "dataset.show_slide(dataset.labels[0][0].points[0, 0], n_line=1480, figsize=(15,15))"
   ]
  },
  {
   "cell_type": "markdown",
   "metadata": {},
   "source": [
    "But there is good example: sticks are in the right place."
   ]
  },
  {
   "cell_type": "code",
   "execution_count": null,
   "metadata": {},
   "outputs": [],
   "source": [
    "BATCH_SIZE = 64\n",
    "CROP_SHAPE = (1, 256, 256)\n",
    "NUM_ITERS = 300\n",
    "N_STEPS = 8\n",
    "STRIDE = 20"
   ]
  },
  {
   "cell_type": "code",
   "execution_count": null,
   "metadata": {},
   "outputs": [],
   "source": [
    "load = (Pipeline()\n",
    "        .crop(points=D('train_sampler')(BATCH_SIZE),\n",
    "              shape=CROP_SHAPE, side_view=False)\n",
    "        .create_masks(dst='masks', width=5)\n",
    "        .load_cubes(dst='images'))"
   ]
  },
  {
   "cell_type": "code",
   "execution_count": null,
   "metadata": {},
   "outputs": [],
   "source": [
    "show_pipeline = (load ) << dataset\n",
    "batch = show_pipeline.next_batch(1)"
   ]
  },
  {
   "cell_type": "code",
   "execution_count": null,
   "metadata": {},
   "outputs": [],
   "source": [
    "batch.plot_components('images', 'masks', idx=0, mode='separate')"
   ]
  },
  {
   "cell_type": "code",
   "execution_count": null,
   "metadata": {},
   "outputs": [],
   "source": [
    "batch.plot_components('images', 'masks', idx=0, mode='overlap')"
   ]
  }
 ],
 "metadata": {
  "kernelspec": {
   "display_name": "Python 3",
   "language": "python",
   "name": "python3"
  },
  "language_info": {
   "codemirror_mode": {
    "name": "ipython",
    "version": 3
   },
   "file_extension": ".py",
   "mimetype": "text/x-python",
   "name": "python",
   "nbconvert_exporter": "python",
   "pygments_lexer": "ipython3",
   "version": "3.6.9"
  },
  "varInspector": {
   "cols": {
    "lenName": 16,
    "lenType": 16,
    "lenVar": 40
   },
   "kernels_config": {
    "python": {
     "delete_cmd_postfix": "",
     "delete_cmd_prefix": "del ",
     "library": "var_list.py",
     "varRefreshCmd": "print(var_dic_list())"
    },
    "r": {
     "delete_cmd_postfix": ") ",
     "delete_cmd_prefix": "rm(",
     "library": "var_list.r",
     "varRefreshCmd": "cat(var_dic_list()) "
    }
   },
   "types_to_exclude": [
    "module",
    "function",
    "builtin_function_or_method",
    "instance",
    "_Feature"
   ],
   "window_display": false
  }
 },
 "nbformat": 4,
 "nbformat_minor": 4
}
