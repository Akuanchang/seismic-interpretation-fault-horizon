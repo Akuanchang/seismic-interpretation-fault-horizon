{
 "cells": [
  {
   "cell_type": "markdown",
   "metadata": {},
   "source": [
    "# Fault detection (inference)"
   ]
  },
  {
   "cell_type": "markdown",
   "metadata": {},
   "source": [
    "One of the main purposes in fault detection tasks is to train model to find faults in cubes which were not included into train dataset. Let's check new cubes. "
   ]
  },
  {
   "cell_type": "code",
   "execution_count": null,
   "metadata": {},
   "outputs": [],
   "source": [
    "import sys\n",
    "import glob\n",
    "import matplotlib.pyplot as plt\n",
    "\n",
    "sys.path.append('../../..')\n",
    "\n",
    "from seismiqb import *\n",
    "from seismiqb.batchflow import FilesIndex, Pipeline, D, B\n",
    "from seismiqb.batchflow.models.torch import EncoderDecoder, ResBlock\n",
    "from seismiqb.batchflow.research import Results"
   ]
  },
  {
   "cell_type": "code",
   "execution_count": null,
   "metadata": {},
   "outputs": [],
   "source": [
    "%env CUDA_DEVICE_ORDER=PCI_BUS_ID\n",
    "%env CUDA_VISIBLE_DEVICES=7"
   ]
  },
  {
   "cell_type": "markdown",
   "metadata": {},
   "source": [
    "We will use model trained on E cube."
   ]
  },
  {
   "cell_type": "code",
   "execution_count": null,
   "metadata": {},
   "outputs": [],
   "source": [
    "CROP_SHAPE = (1, 128, 192)\n",
    "BATCH_SIZE = 64"
   ]
  },
  {
   "cell_type": "code",
   "execution_count": null,
   "metadata": {},
   "outputs": [],
   "source": [
    "INFERENCE_BATCH_SIZE = 32"
   ]
  },
  {
   "cell_type": "code",
   "execution_count": null,
   "metadata": {},
   "outputs": [],
   "source": [
    "def plot_examples(cube_path, model_path, crop_shape, n_images, slide=0):\n",
    "    dataset = SeismicCubeset(FilesIndex(path=[cube_path], no_ext=True))\n",
    "    dataset.load(label_dir={\n",
    "        'amplitudes_01_ETP': '/INPUTS/FAULTS/NPY/*',\n",
    "        'amplitudes_16_PSDM': '/INPUTS/FAULTS/NPY/*',\n",
    "        'VZC-cube': '/*faults/*'\n",
    "    }, labels_class=Fault, transform=True, verify=True)\n",
    "    dataset.modify_sampler(dst='train_sampler', finish=True, low=0.0, high=1.0)\n",
    "    \n",
    "    # Validation pipeline: no augmentations\n",
    "    val_template = (\n",
    "        Pipeline()\n",
    "        .load_model('dynamic', EncoderDecoder, 'model', path=model_path)\n",
    "        # Load data/masks\n",
    "        .crop(points=D('train_sampler')(INFERENCE_BATCH_SIZE), shape=CROP_SHAPE)\n",
    "        .create_masks(dst='masks', width=5)\n",
    "        .mask_rebatch(src='masks', threshold=0.4, axis=(0, 1))\n",
    "\n",
    "        .load_cubes(dst='images')\n",
    "        .scale(mode='q', src='images')\n",
    "        .predict_model('model',\n",
    "                       B('images'),\n",
    "                       fetches='sigmoid',\n",
    "                       save_to=B('predictions_e_psdm'))\n",
    "    )\n",
    "    val_pipeline = val_template << dataset\n",
    "    \n",
    "    batch = val_pipeline.next_batch(D('size'), n_epochs=None)\n",
    "    batch.predictions_e_psdm = (batch.predictions_e_psdm > 0.2).astype(np.float32)\n",
    "    \n",
    "    f, ax = plt.subplots(n_images, 2, sharey=True, figsize=(10, 140))\n",
    "    for b_idx in range(n_images):\n",
    "        batch.plot_components('images', 'predictions_e_psdm', slide=slide, mode='overlap', idx=b_idx, alpha=[0.9, 0.5], title='_e_psdm', ax=ax[b_idx][0])\n",
    "        batch.plot_components('masks', 'predictions_e_psdm', slide=slide, mode='overlap', idx=b_idx, title='_e_psdm', ax=ax[b_idx][1])"
   ]
  },
  {
   "cell_type": "markdown",
   "metadata": {},
   "source": [
    "## PSDM cube"
   ]
  },
  {
   "cell_type": "code",
   "execution_count": null,
   "metadata": {},
   "outputs": [],
   "source": [
    "cube_path = '/data/seismic_data/seismic_interpretation/CUBE_16_PSDM/amplitudes_16_PSDM.hdf5'\n",
    "plot_examples(cube_path, './research_1d_without_transpose/results/crop_(1, 128, 192)-paths_01_ETP-repetition_0-update_0/2150108386/model_2000',\n",
    "              CROP_SHAPE, n_images=10)"
   ]
  },
  {
   "cell_type": "markdown",
   "metadata": {},
   "source": [
    "## VZC cube"
   ]
  },
  {
   "cell_type": "code",
   "execution_count": null,
   "metadata": {},
   "outputs": [],
   "source": [
    "cube_path = '/data/seismic/CUBE_VZS/VZC-cube.hdf5'\n",
    "plot_examples(cube_path, './research_3/results/crop_(64, 64, 256)-paths_16_PSDM-repetition_0-update_0/3285589856/model_1899', CROP_SHAPE, n_images=16)"
   ]
  },
  {
   "cell_type": "code",
   "execution_count": null,
   "metadata": {},
   "outputs": [],
   "source": []
  }
 ],
 "metadata": {
  "kernelspec": {
   "display_name": "Python 3",
   "language": "python",
   "name": "python3"
  },
  "language_info": {
   "codemirror_mode": {
    "name": "ipython",
    "version": 3
   },
   "file_extension": ".py",
   "mimetype": "text/x-python",
   "name": "python",
   "nbconvert_exporter": "python",
   "pygments_lexer": "ipython3",
   "version": "3.6.9"
  }
 },
 "nbformat": 4,
 "nbformat_minor": 4
}
