{
 "cells": [
  {
   "cell_type": "code",
   "execution_count": 7,
   "metadata": {},
   "outputs": [],
   "source": [
    "from get_array_funcs import make_func, make_test_func, make_test_config"
   ]
  },
  {
   "cell_type": "markdown",
   "metadata": {},
   "source": [
    "## Running speed tests"
   ]
  },
  {
   "cell_type": "code",
   "execution_count": 2,
   "metadata": {},
   "outputs": [],
   "source": [
    "func_with_loop = make_func(loop=True, memory_profile=False)"
   ]
  },
  {
   "cell_type": "code",
   "execution_count": 5,
   "metadata": {},
   "outputs": [],
   "source": [
    "test_func = make_test_func(func_with_loop, memory_profile=False)"
   ]
  },
  {
   "cell_type": "code",
   "execution_count": 10,
   "metadata": {},
   "outputs": [
    {
     "name": "stdout",
     "output_type": "stream",
     "text": [
      "4.75 s ± 276 ms per loop (mean ± std. dev. of 7 runs, 1 loop each)\n"
     ]
    }
   ],
   "source": [
    "%timeit test_func()"
   ]
  },
  {
   "cell_type": "code",
   "execution_count": 11,
   "metadata": {},
   "outputs": [],
   "source": [
    "func_no_loop = make_func(loop=False, memory_profile=False)"
   ]
  },
  {
   "cell_type": "code",
   "execution_count": 12,
   "metadata": {},
   "outputs": [],
   "source": [
    "test_func = make_test_func(func_no_loop, memory_profile=False)"
   ]
  },
  {
   "cell_type": "code",
   "execution_count": 13,
   "metadata": {},
   "outputs": [
    {
     "name": "stderr",
     "output_type": "stream",
     "text": [
      "/notebooks/notebooks/diff_sols_smothing/get_array_funcs.py:71: FutureWarning: Using a non-tuple sequence for multidimensional indexing is deprecated; use `arr[tuple(seq)]` instead of `arr[seq]`. In the future this will be interpreted as an array index, `arr[np.array(seq)]`, which will result either in an error or a different result.\n",
      "  overlap_matrix[slc_array] = horizon_matrix[slc_horizon]\n"
     ]
    },
    {
     "name": "stdout",
     "output_type": "stream",
     "text": [
      "10.4 s ± 516 ms per loop (mean ± std. dev. of 7 runs, 1 loop each)\n"
     ]
    }
   ],
   "source": [
    "%timeit test_func()"
   ]
  },
  {
   "cell_type": "markdown",
   "metadata": {},
   "source": [
    "## Running memory tests"
   ]
  },
  {
   "cell_type": "code",
   "execution_count": 15,
   "metadata": {},
   "outputs": [],
   "source": [
    "func_with_loop = make_func(loop=True, memory_profile=True)\n",
    "test_func = make_test_func(func_with_loop, memory_profile=True)"
   ]
  },
  {
   "cell_type": "code",
   "execution_count": 17,
   "metadata": {},
   "outputs": [
    {
     "name": "stdout",
     "output_type": "stream",
     "text": [
      "Filename: /notebooks/notebooks/diff_sols_smothing/get_array_funcs.py\n",
      "\n",
      "Line #    Mem usage    Increment   Line Contents\n",
      "================================================\n",
      "    22   2138.5 MiB   2138.5 MiB           def func(horizon_matrix, horizon_offset, array, array_offset, width, fill_value):\n",
      "    23                                         \"\"\" Function for cutting out array-values along a horizon surface.\n",
      "    24                                         \"\"\"\n",
      "    25                                         # compute start and end-points of the ilines-xlines overlap between\n",
      "    26                                         # array and horizon_matrix in horizon and array-coordinates\n",
      "    27   2138.5 MiB      0.0 MiB               horizon_offset, array_offset = np.array(horizon_offset), np.array(array_offset)\n",
      "    28   2138.5 MiB      0.0 MiB               horizon_max = horizon_offset[:2] + np.array(horizon_matrix.shape)\n",
      "    29   2138.5 MiB      0.0 MiB               array_max = np.array(array.shape[:2]) + array_offset[:2]\n",
      "    30   2138.5 MiB      0.0 MiB               overlap_shape = np.minimum(horizon_max[:2], array_max[:2]) - np.maximum(horizon_offset[:2], array_offset[:2])\n",
      "    31   2138.5 MiB      0.0 MiB               overlap_start = np.maximum(0, horizon_offset[:2] - array_offset[:2])\n",
      "    32   2138.5 MiB      0.0 MiB               heights_start = np.maximum(array_offset[:2] - horizon_offset[:2], 0)\n",
      "    33                             \n",
      "    34                                         # recompute horizon-matrix in array-coordinates\n",
      "    35   2138.5 MiB      0.0 MiB               slc_array = [slice(l, h) for l, h in zip(overlap_start, overlap_start + overlap_shape)]\n",
      "    36   2138.5 MiB      0.0 MiB               slc_horizon = [slice(l, h) for l, h in zip(heights_start, heights_start + overlap_shape)]\n",
      "    37   2149.7 MiB     11.2 MiB               overlap_matrix = np.full(array.shape[:2], fill_value=fill_value, dtype=np.float32)\n",
      "    38   2149.7 MiB      0.0 MiB               overlap_matrix[slc_array] = horizon_matrix[slc_horizon]\n",
      "    39   2149.7 MiB      0.0 MiB               overlap_matrix -= array_offset[-1]\n",
      "    40                             \n",
      "    41                                         # make the cut-array and fill it with array-data located on needed heights\n",
      "    42   2149.7 MiB      0.0 MiB               result = np.zeros(array.shape[:2] + (width, ))\n",
      "    43   2321.3 MiB     11.6 MiB               for i, surface_level in enumerate(np.array([overlap_matrix + shift for shift in range(-width // 2 + 1,\n",
      "    44   2604.6 MiB      0.3 MiB                                                                                                         width // 2 + 1)])):\n",
      "    45   2604.6 MiB      5.4 MiB                   mask = (surface_level >= 0) & (surface_level < array.shape[-1]) & (surface_level !=\n",
      "    46   2604.6 MiB      0.0 MiB                                                                                      fill_value - array_offset[-1])\n",
      "    47   2604.6 MiB     24.5 MiB                   mask_where = np.where(mask)\n",
      "    48   2604.6 MiB      0.0 MiB                   result[mask_where[0], mask_where[1], i] = array[mask_where[0], mask_where[1],\n",
      "    49   2604.6 MiB    243.1 MiB                                                                   surface_level[mask_where].astype(np.int)]\n",
      "    50                             \n",
      "    51   2604.6 MiB      0.0 MiB               return result\n",
      "\n",
      "\n",
      "Filename: /notebooks/notebooks/diff_sols_smothing/get_array_funcs.py\n",
      "\n",
      "Line #    Mem usage    Increment   Line Contents\n",
      "================================================\n",
      "    92   1337.4 MiB   1337.4 MiB       def result_func():\n",
      "    93   2138.5 MiB    801.1 MiB           args = make_test_config()\n",
      "    94   2347.6 MiB    209.1 MiB           return func(*args)\n",
      "\n",
      "\n"
     ]
    }
   ],
   "source": [
    "_ = test_func()"
   ]
  },
  {
   "cell_type": "code",
   "execution_count": 18,
   "metadata": {},
   "outputs": [],
   "source": [
    "func_no_loop = make_func(loop=False, memory_profile=True)\n",
    "test_func = make_test_func(func_no_loop, memory_profile=True)"
   ]
  },
  {
   "cell_type": "code",
   "execution_count": 20,
   "metadata": {},
   "outputs": [
    {
     "name": "stdout",
     "output_type": "stream",
     "text": [
      "Filename: /notebooks/notebooks/diff_sols_smothing/get_array_funcs.py\n",
      "\n",
      "Line #    Mem usage    Increment   Line Contents\n",
      "================================================\n",
      "    54   2530.8 MiB   2530.8 MiB           def func(horizon_matrix, horizon_shift, array, array_shift, width=5, fill_value=-999):\n",
      "    55                                         \"\"\" Get values from an external array along the horizon.\n",
      "    56                                         \"\"\"\n",
      "    57   2530.8 MiB      0.0 MiB               array_shift = np.array(array_shift)\n",
      "    58                             \n",
      "    59                                         # compute start and end-points of the ilines-xlines overlap between\n",
      "    60                                         # array and horizon_matrix in horizon and array-coordinates\n",
      "    61   2530.8 MiB      0.0 MiB               horizon_max = horizon_shift[:2] + np.array(horizon_matrix.shape)\n",
      "    62   2530.8 MiB      0.0 MiB               array_max = np.array(array.shape[:2]) + array_shift[:2]\n",
      "    63   2530.8 MiB      0.0 MiB               overlap_shape = np.minimum(horizon_max[:2], array_max[:2]) - np.maximum(horizon_shift[:2], array_shift[:2])\n",
      "    64   2530.8 MiB      0.0 MiB               overlap_start = np.maximum(0, horizon_shift[:2] - array_shift[:2])\n",
      "    65   2530.8 MiB      0.0 MiB               heights_start = np.maximum(array_shift[:2] - horizon_shift[:2], 0)\n",
      "    66                             \n",
      "    67                                         # recompute horizon-matrix in array-coordinates\n",
      "    68   2530.8 MiB      0.0 MiB               slc_array = [slice(l, h) for l, h in zip(overlap_start, overlap_start + overlap_shape)]\n",
      "    69   2530.8 MiB      0.0 MiB               slc_horizon = [slice(l, h) for l, h in zip(heights_start, heights_start + overlap_shape)]\n",
      "    70   2530.8 MiB      0.0 MiB               overlap_matrix = np.full(array.shape[:2], fill_value=fill_value, dtype=np.float32)\n",
      "    71   2530.8 MiB      0.0 MiB               overlap_matrix[slc_array] = horizon_matrix[slc_horizon]\n",
      "    72   2530.8 MiB      0.0 MiB               overlap_matrix -= array_shift[-1]\n",
      "    73   2530.8 MiB      0.0 MiB               overlap_matrix = overlap_matrix[..., np.newaxis]\n",
      "    74   2874.1 MiB    343.3 MiB               overlap_matrix = overlap_matrix + np.arange(-width // 2 + 1, width // 2 + 1)\n",
      "    75                             \n",
      "    76                                         # make the cut-array and fill it with array-data located on needed heights\n",
      "    77   3045.8 MiB    171.7 MiB               result = np.full(array.shape[:2] + (width, ), np.nan, dtype=np.float32)\n",
      "    78                                         mask = ((overlap_matrix >= 0) & (overlap_matrix < array.shape[-1])\n",
      "    79   3088.7 MiB     42.9 MiB                       & (overlap_matrix != fill_value - array_shift[-1] + np.arange(-width // 2 + 1, width // 2 + 1)))\n",
      "    80   3704.3 MiB    615.6 MiB               mask_where = np.where(mask)\n",
      "    81   3704.3 MiB      0.0 MiB               result[mask_where] = array[mask_where[0], mask_where[1], overlap_matrix[mask_where].astype(np.int)]\n",
      "    82                             \n",
      "    83   3704.3 MiB      0.0 MiB               return result\n",
      "\n",
      "\n",
      "Filename: /notebooks/notebooks/diff_sols_smothing/get_array_funcs.py\n",
      "\n",
      "Line #    Mem usage    Increment   Line Contents\n",
      "================================================\n",
      "    92   1729.7 MiB   1729.7 MiB       def result_func():\n",
      "    93   2530.8 MiB    801.1 MiB           args = make_test_config()\n",
      "    94   2702.4 MiB    171.7 MiB           return func(*args)\n",
      "\n",
      "\n"
     ]
    }
   ],
   "source": [
    "_ = test_func()"
   ]
  },
  {
   "cell_type": "code",
   "execution_count": null,
   "metadata": {},
   "outputs": [],
   "source": []
  }
 ],
 "metadata": {
  "kernelspec": {
   "display_name": "Python 3",
   "language": "python",
   "name": "python3"
  },
  "language_info": {
   "codemirror_mode": {
    "name": "ipython",
    "version": 3
   },
   "file_extension": ".py",
   "mimetype": "text/x-python",
   "name": "python",
   "nbconvert_exporter": "python",
   "pygments_lexer": "ipython3",
   "version": "3.6.9"
  }
 },
 "nbformat": 4,
 "nbformat_minor": 4
}
