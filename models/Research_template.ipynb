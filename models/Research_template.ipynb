{
 "cells": [
  {
   "cell_type": "markdown",
   "metadata": {},
   "source": [
    "# Research template\n",
    "\n",
    "This short notebook shows how to use **BatchFlow** research module with everything packed into one callable, that performs all the things you need and returns results that must be saved into `results` dataframe."
   ]
  },
  {
   "cell_type": "code",
   "execution_count": null,
   "metadata": {},
   "outputs": [],
   "source": [
    "# Necessary imports\n",
    "import os\n",
    "import sys\n",
    "import shutil\n",
    "from tqdm.auto import tqdm\n",
    "\n",
    "sys.path.append('../seismiqb')\n",
    "from seismiqb.batchflow import Pipeline, Dataset\n",
    "from seismiqb.batchflow.research import Research, Option, Domain, Results, FileLogger\n",
    "from seismiqb.batchflow.research import RP, RC, KV"
   ]
  },
  {
   "cell_type": "markdown",
   "metadata": {},
   "source": [
    "We create a domain of (hyper)parameters to explore be defining multiple options. In our case, we create one for defining cube and horizon locations, and one for auxilliary number:"
   ]
  },
  {
   "cell_type": "code",
   "execution_count": null,
   "metadata": {},
   "outputs": [],
   "source": [
    "# Research options\n",
    "cubes = ['A', 'B', 'C']\n",
    "horizons = ['d', 'e']\n",
    "\n",
    "options = [KV((cube, horizon), '+'.join((cube, horizon)))\n",
    "           for horizon in horizons for cube in cubes]\n",
    "domain = (Option('cube_and_horizon', options) * Option('number', [10, 100]))\n",
    "\n",
    "list(domain.iterator)"
   ]
  },
  {
   "cell_type": "markdown",
   "metadata": {},
   "source": [
    "In this function we get `config` and `pipeline`, passed from research run. Config contains everything domain-related and, therefore, we can get any of the previous defined options from it. Pipeline is used to transport internal parameters like `device` number to use for model training: we can retrieve those parameters too.\n",
    "\n",
    "Following things deserve special mention:\n",
    "- our `perform_one_experiment` just get all the parameters without doing very much with them: in your research, this function can do any computations to produce results\n",
    "\n",
    "- use `device` to train one model at GPU at a time: otherwise, you might run into resource exhaustion\n",
    "\n",
    "- all the returned values are stored in the dataframe with research results under the desired names\n",
    "\n",
    "- it might me a good idea to log steps and intermediate results of this function"
   ]
  },
  {
   "cell_type": "code",
   "execution_count": null,
   "metadata": {},
   "outputs": [],
   "source": [
    "def perform_one_experiment(config, ppl):\n",
    "    config = config.config()\n",
    "    cube, horizon = config['cube_and_horizon']\n",
    "    number, n_rep = config['number'], config['repetition']\n",
    "    \n",
    "    device = ppl.config['device']\n",
    "    result = ord(cube) + ord(horizon) + number\n",
    "    return result, device\n",
    "\n",
    "\n",
    "def clear_previous_results(res_name):\n",
    "    if os.path.exists(res_name):\n",
    "        shutil.rmtree(res_name)"
   ]
  },
  {
   "cell_type": "markdown",
   "metadata": {},
   "source": [
    "Most of the following code is used to trick `Research` object into just calling our function; we do so by creating fake pipeline with 1 iteration, that does nothing and serves merely as transport for our parameters.\n",
    "\n",
    "In your research, you might need to change:\n",
    "- `research_name` to change the destination of logs and resulting dataframe\n",
    "- `n_reps` to explore the robustness of your models\n",
    "- list of return names\n",
    "- `workers` and `devices` to set up multi-GPU training with the desired amount of accelerators\n",
    "\n",
    "Note the `timeout` argument of research run: it is used to tell `research` that our callable can take up to 1000 minutes to run. Default value is 10 minutes, which is defenitely not enough for a cube train/inference/evaluation combo."
   ]
  },
  {
   "cell_type": "code",
   "execution_count": null,
   "metadata": {},
   "outputs": [],
   "source": [
    "# Name of the directory to save logs and results in\n",
    "res_name = f'research_template'\n",
    "clear_previous_results(res_name)\n",
    "\n",
    "# Fake pipeline is needed to pass parameters around\n",
    "fake_ppl = Pipeline().set_dataset(Dataset(10)).run_later(1, n_iters=1)\n",
    "\n",
    "research = (\n",
    "    Research()\n",
    "    .add_logger(FileLogger)\n",
    "    .init_domain(domain, n_reps=2)\n",
    "    .add_pipeline(fake_ppl, run=True, name='fake')\n",
    "    .add_callable(\n",
    "        perform_one_experiment,                         # Callable to run\n",
    "        returns=['result', 'device'],                   # Names of returned results\n",
    "        execute='#0',                                   # Execute immediately\n",
    "        config=RC('fake'),                              # Pass config to the callable\n",
    "        ppl=RP('fake'),                                 # Pass pipeline to the callable\n",
    "        name='perform_one_experiment'                   # Name to be shown in the dataframe\n",
    "    )\n",
    ")\n",
    "\n",
    "research.run(\n",
    "    n_iters=1,\n",
    "    name=res_name,\n",
    "    bar=True,\n",
    "    workers=6,\n",
    "    devices=[0, 1, 2, 3, 4, 5],\n",
    "    timeout=1000\n",
    ")"
   ]
  },
  {
   "cell_type": "markdown",
   "metadata": {},
   "source": [
    "A regular dataframe with results, that can be manipulated to display results in a suiting manner:"
   ]
  },
  {
   "cell_type": "code",
   "execution_count": null,
   "metadata": {},
   "outputs": [],
   "source": [
    "results = Results(res_name)\n",
    "results.df"
   ]
  }
 ],
 "metadata": {
  "kernelspec": {
   "display_name": "Python 3",
   "language": "python",
   "name": "python3"
  },
  "language_info": {
   "codemirror_mode": {
    "name": "ipython",
    "version": 3
   },
   "file_extension": ".py",
   "mimetype": "text/x-python",
   "name": "python",
   "nbconvert_exporter": "python",
   "pygments_lexer": "ipython3",
   "version": "3.6.9"
  }
 },
 "nbformat": 4,
 "nbformat_minor": 4
}
