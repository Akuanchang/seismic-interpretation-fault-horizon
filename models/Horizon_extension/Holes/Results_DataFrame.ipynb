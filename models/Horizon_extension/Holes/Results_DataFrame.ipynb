{
 "cells": [
  {
   "cell_type": "code",
   "execution_count": 1,
   "metadata": {},
   "outputs": [],
   "source": [
    "# Necessary imports\n",
    "import sys\n",
    "import warnings\n",
    "import pandas as pd\n",
    "import numpy as np\n",
    "\n",
    "sys.path.append('../../..')\n",
    "from seismiqb.batchflow.research import Results\n",
    "\n",
    "warnings.filterwarnings(\"ignore\")"
   ]
  },
  {
   "cell_type": "code",
   "execution_count": 2,
   "metadata": {},
   "outputs": [
    {
     "data": {
      "text/plain": [
       "252"
      ]
     },
     "execution_count": 2,
     "metadata": {},
     "output_type": "execute_result"
    }
   ],
   "source": [
    "res_name = 'Research_horizons'\n",
    "results = Results(res_name)\n",
    "len(results.df)"
   ]
  },
  {
   "cell_type": "code",
   "execution_count": 3,
   "metadata": {},
   "outputs": [],
   "source": [
    "df = results.df"
   ]
  },
  {
   "cell_type": "code",
   "execution_count": 4,
   "metadata": {},
   "outputs": [
    {
     "data": {
      "text/plain": [
       "Index(['name', 'coverages', 'window_rates', 'corrs', 'phases',\n",
       "       'avg_l1_in_holes', 'iteration', 'sample_index', 'cube_and_horizon',\n",
       "       'seed', 'crop_shape', 'repetition', 'update'],\n",
       "      dtype='object')"
      ]
     },
     "execution_count": 4,
     "metadata": {},
     "output_type": "execute_result"
    }
   ],
   "source": [
    "df.columns"
   ]
  },
  {
   "cell_type": "code",
   "execution_count": 5,
   "metadata": {},
   "outputs": [],
   "source": [
    "df['cube_name'] = df['cube_and_horizon'].apply(lambda item: item.split('+')[0])\n",
    "df['horizon_name'] = df['cube_and_horizon'].apply(lambda item: item.split('+')[1])\n",
    "df = df.drop(columns=['name', 'cube_and_horizon', 'sample_index', 'update'])"
   ]
  },
  {
   "cell_type": "code",
   "execution_count": 6,
   "metadata": {},
   "outputs": [],
   "source": [
    "groupby_index = ['cube_name', 'horizon_name', 'seed']"
   ]
  },
  {
   "cell_type": "code",
   "execution_count": 7,
   "metadata": {},
   "outputs": [],
   "source": [
    "df = df.reset_index(drop=True).set_index(groupby_index)"
   ]
  },
  {
   "cell_type": "code",
   "execution_count": 8,
   "metadata": {},
   "outputs": [],
   "source": [
    "research_config_cols = ['iteration', 'crop_shape', 'repetition']"
   ]
  },
  {
   "cell_type": "code",
   "execution_count": 9,
   "metadata": {},
   "outputs": [],
   "source": [
    "wr = df['window_rates'].apply(pd.Series).rename({i : f'window_rate_{i}' for i in range(3)}, axis=1)\n",
    "cov = df['coverages'].apply(pd.Series).rename({i : f'coverage_{i}' for i in range(3)}, axis=1)\n",
    "corrs = df['corrs'].apply(pd.Series).rename({i : f'corr_{i}' for i in range(3)}, axis=1)\n",
    "phases = df['phases'].apply(pd.Series).rename({i : f'phases_{i}' for i in range(3)}, axis=1)\n",
    "avg_l1_in_holes = df['avg_l1_in_holes'].apply(pd.Series).rename({i : f'avg_l1_in_holes_{i}' for i in range(3)}, axis=1)\n",
    "\n",
    "df = pd.concat((wr, cov, corrs, phases, avg_l1_in_holes, df[research_config_cols]), axis=1).sort_index()"
   ]
  },
  {
   "cell_type": "raw",
   "metadata": {},
   "source": [
    "df.head()"
   ]
  },
  {
   "cell_type": "code",
   "execution_count": 11,
   "metadata": {},
   "outputs": [],
   "source": [
    "last_iter_df = df.loc[(df.iteration == df.iteration.max())] # & (df.repetition == df.repetition.max())]"
   ]
  },
  {
   "cell_type": "code",
   "execution_count": 12,
   "metadata": {},
   "outputs": [],
   "source": [
    "metric = 'corr_1'\n",
    "grpby_last_iter_df = last_iter_df.groupby(groupby_index)[metric].max()\n",
    "merged = last_iter_df.merge(grpby_last_iter_df)"
   ]
  },
  {
   "cell_type": "code",
   "execution_count": 13,
   "metadata": {},
   "outputs": [],
   "source": [
    "merged.index = grpby_last_iter_df.index"
   ]
  },
  {
   "cell_type": "code",
   "execution_count": 20,
   "metadata": {},
   "outputs": [
    {
     "data": {
      "text/plain": [
       "(array(['(1, 128, 128)', '(1, 64, 64)'], dtype=object), array([27, 36]))"
      ]
     },
     "execution_count": 20,
     "metadata": {},
     "output_type": "execute_result"
    }
   ],
   "source": [
    "np.unique(merged['crop_shape'], return_counts=True)"
   ]
  },
  {
   "cell_type": "code",
   "execution_count": 21,
   "metadata": {},
   "outputs": [
    {
     "data": {
      "text/plain": [
       "(array([0, 1]), array([34, 29]))"
      ]
     },
     "execution_count": 21,
     "metadata": {},
     "output_type": "execute_result"
    }
   ],
   "source": [
    "np.unique(merged['repetition'], return_counts=True)"
   ]
  },
  {
   "cell_type": "code",
   "execution_count": 22,
   "metadata": {},
   "outputs": [
    {
     "data": {
      "text/plain": [
       "(array([0]), array([63]))"
      ]
     },
     "execution_count": 22,
     "metadata": {},
     "output_type": "execute_result"
    }
   ],
   "source": [
    "np.unique(merged['iteration'], return_counts=True)"
   ]
  },
  {
   "cell_type": "code",
   "execution_count": null,
   "metadata": {},
   "outputs": [],
   "source": []
  },
  {
   "cell_type": "code",
   "execution_count": null,
   "metadata": {},
   "outputs": [],
   "source": []
  }
 ],
 "metadata": {
  "kernelspec": {
   "display_name": "Python 3",
   "language": "python",
   "name": "python3"
  },
  "language_info": {
   "codemirror_mode": {
    "name": "ipython",
    "version": 3
   },
   "file_extension": ".py",
   "mimetype": "text/x-python",
   "name": "python",
   "nbconvert_exporter": "python",
   "pygments_lexer": "ipython3",
   "version": "3.6.10"
  }
 },
 "nbformat": 4,
 "nbformat_minor": 4
}
