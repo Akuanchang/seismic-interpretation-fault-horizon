{
 "cells": [
  {
   "cell_type": "code",
   "execution_count": 1,
   "metadata": {},
   "outputs": [],
   "source": [
    "# This notebook runs preparation for SeismicGeometry tests and SeismicGeometry tests for different cube formats\n",
    "%load_ext autoreload\n",
    "%autoreload 2\n",
    "import os\n",
    "import sys\n",
    "from datetime import date\n",
    "\n",
    "import glob\n",
    "import json\n",
    "import nbformat\n",
    "import numpy as np\n",
    "from matplotlib import pyplot as plt\n",
    "from tqdm.notebook import tqdm\n",
    "\n",
    "sys.path.append('../..')\n",
    "from seismiqb.batchflow.utils_notebook import run_notebook"
   ]
  },
  {
   "cell_type": "code",
   "execution_count": 2,
   "metadata": {},
   "outputs": [],
   "source": [
    "DATESTAMP = date.today().strftime(\"%Y-%m-%d\")\n",
    "\n",
    "# Constants and parameters:\n",
    "TEST_FOLDER = './geometry_test_files/'\n",
    "CUBE_NAME = f'test_cube_{DATESTAMP}.sgy'\n",
    "FORMATS = ['sgy', 'hdf5', 'qhdf5', 'blosc', 'qblosc']\n",
    "\n",
    "# Storage preparation:\n",
    "# The `tmp` dir contains cube files: cube in different formats and meta\n",
    "# The `notebooks` dir contains notebooks results (notebooks copies with outputs)\n",
    "!rm -rf {TEST_FOLDER + 'tmp/'}\n",
    "!rm -rf {TEST_FOLDER + 'notebooks/'}\n",
    "!mkdir {TEST_FOLDER + 'tmp/'}\n",
    "!mkdir {TEST_FOLDER + 'notebooks/'}\n",
    "\n",
    "# if previous run failed than we need to delete corresponding timings\n",
    "failed_timings_file = glob.glob(TEST_FOLDER + 'timings*fail*.json')\n",
    "\n",
    "if failed_timings_file:\n",
    "    os.remove(failed_timings_file[0])\n",
    "\n",
    "DROP_EXTRA_FILES = True # drop files reffering to successful tests\n",
    "SHOW_TEST_ERROR_INFO = True # whether to show info about a test case with an error (if an error exists)\n",
    "\n",
    "msg = DATESTAMP + '\\n\\n'"
   ]
  },
  {
   "cell_type": "code",
   "execution_count": 3,
   "metadata": {},
   "outputs": [
    {
     "name": "stdout",
     "output_type": "stream",
     "text": [
      "2021-09-28\n",
      "\n",
      "Data was successfully prepared.\n",
      "\n"
     ]
    }
   ],
   "source": [
    "# Run the notebook with preparation for tests.\n",
    "# It contains: data creation, data loading checking and cube conversion into different formats\n",
    "out_path_ipynb = TEST_FOLDER+f'notebooks/geometry_test_preparation_out_{DATESTAMP}.ipynb'\n",
    "\n",
    "exec_info = run_notebook(\n",
    "    path='./geometry_test_preparation.ipynb',\n",
    "    nb_kwargs={\n",
    "        'CUBE_NAME': CUBE_NAME,\n",
    "        'TEST_FOLDER': TEST_FOLDER,\n",
    "        'CUBE_SHAPE': (1000, 200, 400),\n",
    "        'SEED': 42,\n",
    "        'DATESTAMP': DATESTAMP\n",
    "    },\n",
    "    out_path_ipynb=out_path_ipynb,\n",
    "    display_links=False\n",
    ")\n",
    "\n",
    "if exec_info==True:\n",
    "    msg += 'Data was successfully prepared.\\n'\n",
    "else:\n",
    "    msg += f'An ERROR occured in cell number {exec_info}:\\n{out_path_ipynb}\\n'\n",
    "\n",
    "print(msg)"
   ]
  },
  {
   "cell_type": "code",
   "execution_count": 4,
   "metadata": {},
   "outputs": [
    {
     "data": {
      "application/vnd.jupyter.widget-view+json": {
       "model_id": "af8473f9456241ad92c0477860b3ec99",
       "version_major": 2,
       "version_minor": 0
      },
      "text/plain": [
       "  0%|          | 0/5 [00:00<?, ?it/s]"
      ]
     },
     "metadata": {},
     "output_type": "display_data"
    },
    {
     "name": "stdout",
     "output_type": "stream",
     "text": [
      "Notebook for SGY executed correctly and was deleted.\n",
      "\n",
      "Notebook for HDF5 executed correctly and was deleted.\n",
      "\n",
      "Notebook for QHDF5 executed correctly and was deleted.\n",
      "\n",
      "Notebook for BLOSC executed correctly and was deleted.\n",
      "\n",
      "Notebook for QBLOSC executed correctly and was deleted.\n",
      "\n"
     ]
    }
   ],
   "source": [
    "# Run the test notebook for the cube in each data format.\n",
    "# It contains: checking data; attributes, slides, crops loading test, data loading timings and visualization tests.\n",
    "timings = {}\n",
    "all_OK = True\n",
    "\n",
    "for f in tqdm(FORMATS):\n",
    "    current_message = ''\n",
    "\n",
    "    # Run and save the test notebook\n",
    "    out_path_ipynb = TEST_FOLDER + f'notebooks/geometry_test_data_format_{f.upper()}_out_{DATESTAMP}.ipynb'\n",
    "\n",
    "    exec_info = run_notebook(\n",
    "        path='./geometry_test_data_format.ipynb',\n",
    "        nb_kwargs={\n",
    "            'CUBE_NAME': CUBE_NAME.replace('sgy', f),\n",
    "            'TEST_FOLDER': TEST_FOLDER,\n",
    "            'N_SLIDE': 1000,\n",
    "            'N_CROP': 300,\n",
    "            'FIGSIZE': (12, 6),\n",
    "            'SEED': 42,\n",
    "            'DATESTAMP': DATESTAMP\n",
    "        },\n",
    "        insert_pos=1, \n",
    "        out_path_ipynb=out_path_ipynb,\n",
    "        display_links=False\n",
    "    )\n",
    "    \n",
    "    # Saving logs\n",
    "    if exec_info==True:\n",
    "        with open(TEST_FOLDER + f'tmp/timings_{f}_{DATESTAMP}.json', \"r\") as infile:\n",
    "            timings.update(json.load(infile))\n",
    "\n",
    "        # If everything is OK we can delete the test notebook\n",
    "        if DROP_EXTRA_FILES:\n",
    "            os.remove(out_path_ipynb)\n",
    "\n",
    "        current_message += f'Notebook for {f.upper()} executed correctly and was deleted.\\n'\n",
    "    else:\n",
    "        all_OK = False\n",
    "        current_message += f'An ERROR occured in cell number {exec_info}:\\n'\n",
    "\n",
    "        if SHOW_TEST_ERROR_INFO:\n",
    "            # Get first line in the error cell. It contains comment with test case.\n",
    "            out_notebook = nbformat.read(out_path_ipynb, as_version=4)\n",
    "            first_line = out_notebook['cells'][exec_info + 1]['source'].split('\\n')[0]\n",
    "            # plus one because we inserted additional cell\n",
    "\n",
    "            if first_line[0]=='#':\n",
    "                # Prettifyings:\n",
    "                if first_line[-1]==':':\n",
    "                    first_line = first_line[1:-1]\n",
    "                else:\n",
    "                    first_line = first_line[1:]\n",
    "\n",
    "                current_message += f'Test \\\"{first_line.strip()}\\\" failure in:\\n'\n",
    "\n",
    "        current_message += f'{out_path_ipynb}'\n",
    "\n",
    "    print(current_message)\n",
    "    msg += current_message"
   ]
  },
  {
   "cell_type": "code",
   "execution_count": 5,
   "metadata": {},
   "outputs": [
    {
     "name": "stdout",
     "output_type": "stream",
     "text": [
      "2021-09-28\n",
      "\n",
      "Data was successfully prepared.\n",
      "Notebook for SGY executed correctly and was deleted.\n",
      "Notebook for HDF5 executed correctly and was deleted.\n",
      "Notebook for QHDF5 executed correctly and was deleted.\n",
      "Notebook for BLOSC executed correctly and was deleted.\n",
      "Notebook for QBLOSC executed correctly and was deleted.\n",
      "\n"
     ]
    }
   ],
   "source": [
    "print(msg) # check representation for log"
   ]
  },
  {
   "cell_type": "code",
   "execution_count": 6,
   "metadata": {},
   "outputs": [
    {
     "data": {
      "image/png": "[encoded data removed]",
      "text/plain": [
       "<Figure size 1080x432 with 2 Axes>"
      ]
     },
     "metadata": {
      "needs_background": "light"
     },
     "output_type": "display_data"
    }
   ],
   "source": [
    "# Visualize timings\n",
    "def plot_ax(dct, unit, title, ax):\n",
    "    bars = ax.bar(dct.keys(), dct.values())\n",
    "    ax.set_title(title, fontsize=20)\n",
    "    ax.set_xlabel('Storage format', fontsize=16)\n",
    "    ax.set_ylabel(unit, fontsize=16)\n",
    "    return ax\n",
    "\n",
    "fig, axs = plt.subplots(1, 2, figsize=(15, 6))\n",
    "axs[0] = plot_ax({key: value['slide']['wall'] for key, value in timings.items()},\n",
    "                 \"Time, ms\", \"Slide loading timings\", axs[0])\n",
    "axs[1] = plot_ax({key: value['crop']['wall'] for key, value in timings.items()},\n",
    "                 \"Time, ms\", \"Crop loading timings\", axs[1])\n",
    "plt.show()"
   ]
  },
  {
   "cell_type": "code",
   "execution_count": 7,
   "metadata": {},
   "outputs": [],
   "source": [
    "# Dump timings and remove extra files\n",
    "if all_OK:\n",
    "    timings['state'] = 'OK'\n",
    "\n",
    "    if DROP_EXTRA_FILES:\n",
    "        timings_file = glob.glob(TEST_FOLDER + 'timings*.json')[0]\n",
    "        os.remove(timings_file)\n",
    "\n",
    "        !rm -rf {TEST_FOLDER + 'tmp/'}\n",
    "        !rm -rf {TEST_FOLDER + 'notebooks/'}\n",
    "        \n",
    "    with open(TEST_FOLDER + f'timings_{DATESTAMP}.json', \"w\") as outfile:\n",
    "        json.dump(timings, outfile)\n",
    "else:\n",
    "    timings['state'] = 'FAIL'\n",
    "\n",
    "    if DROP_EXTRA_FILES:\n",
    "        timings_files = glob.glob(TEST_FOLDER + 'tmp/timings*')\n",
    "        for file_name in timings_files:\n",
    "            os.remove(TEST_FOLDER + 'tmp/' + file_name)\n",
    "            \n",
    "    with open(TEST_FOLDER + f'timings_fail_{DATESTAMP}.json', \"w\") as outfile:\n",
    "        json.dump(timings, outfile)"
   ]
  },
  {
   "cell_type": "code",
   "execution_count": null,
   "metadata": {},
   "outputs": [],
   "source": []
  }
 ],
 "metadata": {
  "kernelspec": {
   "display_name": "Python 3",
   "language": "python",
   "name": "python3"
  },
  "language_info": {
   "codemirror_mode": {
    "name": "ipython",
    "version": 3
   },
   "file_extension": ".py",
   "mimetype": "text/x-python",
   "name": "python",
   "nbconvert_exporter": "python",
   "pygments_lexer": "ipython3",
   "version": "3.6.10"
  }
 },
 "nbformat": 4,
 "nbformat_minor": 4
}
