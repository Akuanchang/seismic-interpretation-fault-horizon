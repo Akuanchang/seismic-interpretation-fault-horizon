{
 "cells": [
  {
   "cell_type": "code",
   "execution_count": null,
   "metadata": {},
   "outputs": [],
   "source": [
    "%load_ext autoreload\n",
    "%autoreload 2\n",
    "\n",
    "# This file contains tests draft for the Field. It is incomplete.\n",
    "# It contains only tests which were used during development and which are useful.\n",
    "import os\n",
    "import sys\n",
    "from datetime import date\n",
    "import warnings\n",
    "import shutil\n",
    "from py.path import local\n",
    "import numpy as np\n",
    "import pandas as pd\n",
    "\n",
    "sys.path.append('../..') # for running py-script\n",
    "sys.path.append('../../..') # for running this notebook directly\n",
    "\n",
    "warnings.filterwarnings('ignore')\n",
    "\n",
    "from seismiqb import Field\n",
    "from seismiqb.src.geometry import export"
   ]
  },
  {
   "cell_type": "code",
   "execution_count": null,
   "metadata": {},
   "outputs": [],
   "source": [
    "# Defaults for run directly from this notebook\n",
    "# SEED = 10\n",
    "# SAVING_DIR = './'\n",
    "# DATESTAMP = date.today().strftime(\"%Y-%m-%d\")\n",
    "# CUBE_SHAPE = (100, 100, 100)\n",
    "# DROP_EXTRA_FILES = True\n",
    "# GITHUB_MODE = False"
   ]
  },
  {
   "cell_type": "markdown",
   "metadata": {},
   "source": [
    "# Preparation"
   ]
  },
  {
   "cell_type": "markdown",
   "metadata": {},
   "source": [
    "**Storage structure:**\n",
    "___\n",
    "\n",
    "\n",
    "\n",
    "**field_test_files** (tests root directory with temporary files)\n",
    "\n",
    "&emsp;├── **test_array.npy** (Test cube data, now it is a random noise)\n",
    "\n",
    "&emsp;├── **test_cube.sgy** (Test cube data in the sgy format)\n",
    "\n",
    "&emsp;├── **test_cube.meta** (Meta data of the test cube)\n",
    "    \n",
    "&emsp;├── **test_matrix** (Saved test matrix)\n",
    "\n",
    "&emsp;└── **test_points** (Saved test points)\n"
   ]
  },
  {
   "cell_type": "code",
   "execution_count": null,
   "metadata": {},
   "outputs": [],
   "source": [
    "# Storage preparation:\n",
    "# The test_dir contains temporary files\n",
    "test_dir = \"field_tests_files\"\n",
    "\n",
    "if GITHUB_MODE:\n",
    "    test_dir_path = SAVING_DIR.mkdir(test_dir)\n",
    "\n",
    "else:\n",
    "    # Clear and recreate workspace\n",
    "    test_dir_path = os.path.join(SAVING_DIR, test_dir)\n",
    "\n",
    "    try:\n",
    "        shutil.rmtree(test_dir_path)\n",
    "    except OSError as e:\n",
    "        print(f\"Can't delete the directory {test_dir_path} : {e.strerror}\")\n",
    "\n",
    "    if not os.path.exists(test_dir_path):\n",
    "        os.makedirs(test_dir_path)\n",
    "\n",
    "CUBE_PATH = os.path.join(test_dir_path, f'test_cube_{DATESTAMP}.sgy')"
   ]
  },
  {
   "cell_type": "code",
   "execution_count": null,
   "metadata": {},
   "outputs": [],
   "source": [
    "%%time\n",
    "# Create a fake cube\n",
    "rng = np.random.default_rng(SEED)\n",
    "data_array = rng.normal(0, 1000, CUBE_SHAPE).astype(np.float32)\n",
    "\n",
    "with open(os.path.join(test_dir_path, f'test_array_{DATESTAMP}.npy'), 'wb') as outfile:\n",
    "    np.save(outfile, data_array)\n",
    "\n",
    "export.make_segy_from_array(array=data_array, path_segy=CUBE_PATH, zip_segy=False,\n",
    "                            sample_rate=2., delay=50, pbar='t')"
   ]
  },
  {
   "cell_type": "code",
   "execution_count": null,
   "metadata": {},
   "outputs": [],
   "source": [
    "%%time\n",
    "# Init a field\n",
    "field = Field(geometry=CUBE_PATH)"
   ]
  },
  {
   "cell_type": "markdown",
   "metadata": {},
   "source": [
    "# Tests"
   ]
  },
  {
   "cell_type": "code",
   "execution_count": null,
   "metadata": {},
   "outputs": [],
   "source": [
    "%%time\n",
    "# Test dump_charisma, load_charisma and is_charisma_like (matrix case)\n",
    "\n",
    "# Create and dump a random matrix\n",
    "matrix = rng.integers(low=0, high=10, size=CUBE_SHAPE[:2])\n",
    "\n",
    "path=os.path.join(test_dir_path, f'test_matrix_{DATESTAMP}')\n",
    "\n",
    "field.dump_charisma(data=matrix, path=path, format='matrix', name='saved_matrix')\n",
    "\n",
    "# Check is_charisma_like\n",
    "assert field.is_charisma_like(path), \"A dumped matrix file is not charisma-like.\"\n",
    "\n",
    "# Open saved data\n",
    "opened_matrix = field.load_charisma(path=path, format='matrix')\n",
    "\n",
    "assert np.array_equal(matrix, opened_matrix), \"Saved and loaded matrices are not the same.\""
   ]
  },
  {
   "cell_type": "code",
   "execution_count": null,
   "metadata": {},
   "outputs": [],
   "source": [
    "%%time\n",
    "# Test dump_charisma, load_charisma and is_charisma_like (points case)\n",
    "\n",
    "# Create random points in the field\n",
    "i_lines_range = np.linspace(0, CUBE_SHAPE[0]-1, CUBE_SHAPE[0]).astype(int)\n",
    "x_lines_range = np.linspace(0, CUBE_SHAPE[1]-1, CUBE_SHAPE[1]).astype(int)\n",
    "\n",
    "i_lines, x_lines = np.meshgrid(i_lines_range, x_lines_range)\n",
    "\n",
    "depths = rng.integers(low=0, high=10, size=(i_lines.size, 1))\n",
    "\n",
    "points = np.hstack([i_lines.reshape(i_lines.size, 1), x_lines.reshape(x_lines.size, 1), depths])\n",
    "\n",
    "# Sort for dumped and loaded points consistency\n",
    "points = np.sort(points, axis=1)\n",
    "points = np.sort(points, axis=0)\n",
    "\n",
    "# Save points as charisma\n",
    "path=os.path.join(test_dir_path, f'test_points_{DATESTAMP}')\n",
    "\n",
    "field.dump_charisma(data=points, path=path, format='points', name='saved_points')\n",
    "\n",
    "# Check is_charisma_like\n",
    "assert field.is_charisma_like(path), \"A dumped points file is not charisma-like.\"\n",
    "\n",
    "# Open saved data\n",
    "opened_points = field.load_charisma(path=path, format='points')\n",
    "\n",
    "assert np.array_equal(points, opened_points), \"Saved and loaded points arrays are not the same.\""
   ]
  },
  {
   "cell_type": "markdown",
   "metadata": {},
   "source": [
    "# Exit"
   ]
  },
  {
   "cell_type": "code",
   "execution_count": null,
   "metadata": {},
   "outputs": [],
   "source": [
    "# Remove extra files\n",
    "if DROP_EXTRA_FILES and not GITHUB_MODE:\n",
    "    try:\n",
    "        shutil.rmtree(test_dir_path)\n",
    "    except OSError as e:\n",
    "        print(f\"Can't delete the directory {test_dir_path} : {e.strerror}\")"
   ]
  }
 ],
 "metadata": {
  "kernelspec": {
   "display_name": "Python 3",
   "language": "python",
   "name": "python3"
  },
  "language_info": {
   "codemirror_mode": {
    "name": "ipython",
    "version": 3
   },
   "file_extension": ".py",
   "mimetype": "text/x-python",
   "name": "python",
   "nbconvert_exporter": "python",
   "pygments_lexer": "ipython3",
   "version": "3.6.10"
  }
 },
 "nbformat": 4,
 "nbformat_minor": 4
}
