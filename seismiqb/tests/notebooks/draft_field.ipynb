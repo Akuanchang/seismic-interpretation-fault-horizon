{
 "cells": [
  {
   "cell_type": "code",
   "execution_count": 1,
   "metadata": {},
   "outputs": [],
   "source": [
    "# This file contains tests draft for the Field. It is incomplete.\n",
    "# It contains only tests which were used during development and which are useful.\n",
    "import os\n",
    "import sys\n",
    "import numpy as np\n",
    "\n",
    "sys.path.append('../..') # for running py-script\n",
    "sys.path.append('../../..') # for running this notebook directly\n",
    "\n",
    "from seismiqb import Field\n",
    "from seismiqb.src.geometry import export"
   ]
  },
  {
   "cell_type": "code",
   "execution_count": 5,
   "metadata": {},
   "outputs": [],
   "source": [
    "SEED = 10\n",
    "SAVING_DIR = './'\n",
    "DATESTAMP = \"555\"\n",
    "CUBE_PATH = 'tmp.sgy'\n",
    "CUBE_SHAPE=(10, 10, 10)"
   ]
  },
  {
   "cell_type": "code",
   "execution_count": 6,
   "metadata": {},
   "outputs": [
    {
     "data": {
      "application/vnd.jupyter.widget-view+json": {
       "model_id": "42be577bb9d849908f370112bfeb9267",
       "version_major": 2,
       "version_minor": 0
      },
      "text/plain": [
       "  0%|          | 0/10 [00:00<?, ?it/s]"
      ]
     },
     "metadata": {},
     "output_type": "display_data"
    },
    {
     "name": "stdout",
     "output_type": "stream",
     "text": [
      "CPU times: user 38.5 ms, sys: 0 ns, total: 38.5 ms\n",
      "Wall time: 36.4 ms\n"
     ]
    }
   ],
   "source": [
    "%%time\n",
    "# Create fake cube\n",
    "rng = np.random.default_rng(SEED)\n",
    "data_array = rng.normal(0, 1000, CUBE_SHAPE).astype(np.float32)\n",
    "\n",
    "with open(os.path.join(SAVING_DIR, f'tmp/test_array_{DATESTAMP}.npy'), 'wb') as outfile:\n",
    "    np.save(outfile, data_array)\n",
    "    \n",
    "export.make_segy_from_array(array=data_array, path_segy=CUBE_PATH, zip_segy=False, sample_rate=2., delay=50, pbar='t')"
   ]
  },
  {
   "cell_type": "code",
   "execution_count": 7,
   "metadata": {},
   "outputs": [
    {
     "name": "stdout",
     "output_type": "stream",
     "text": [
      "CPU times: user 32.8 ms, sys: 3.03 ms, total: 35.8 ms\n",
      "Wall time: 33.9 ms\n"
     ]
    }
   ],
   "source": [
    "%%time\n",
    "# Init a field\n",
    "field = Field(geometry=CUBE_PATH)"
   ]
  },
  {
   "cell_type": "code",
   "execution_count": 80,
   "metadata": {},
   "outputs": [],
   "source": [
    "# Test dump_matrix (and dump_charisma)\n",
    "# Create and dump a random matrix\n",
    "matrix = rng.integers(low=0, high=10, size=CUBE_SHAPE[:2])\n",
    "\n",
    "path=os.path.join(SAVING_DIR, f'tmp/test_matrix_{DATESTAMP}')\n",
    "\n",
    "field.dump_matrix(matrix=matrix, path=path)\n",
    "\n",
    "# Open and transform saved data\n",
    "df = pd.read_csv(path, sep=r'\\s+', header=None)\n",
    "\n",
    "opened_points = df.values\n",
    "opened_points = field.lines_to_cubic(opened_points)\n",
    "opened_points = np.round(opened_points).astype(int)\n",
    "\n",
    "# Create matrix from points array\n",
    "opened_matrix = np.empty_like(matrix)\n",
    "opened_matrix[opened_points[:, 0], opened_points[:, 1]] = opened_points[:, 2]\n",
    "\n",
    "assert np.array_equal(matrix, opened_matrix)"
   ]
  },
  {
   "cell_type": "code",
   "execution_count": null,
   "metadata": {},
   "outputs": [],
   "source": []
  }
 ],
 "metadata": {
  "kernelspec": {
   "display_name": "Python 3",
   "language": "python",
   "name": "python3"
  },
  "language_info": {
   "codemirror_mode": {
    "name": "ipython",
    "version": 3
   },
   "file_extension": ".py",
   "mimetype": "text/x-python",
   "name": "python",
   "nbconvert_exporter": "python",
   "pygments_lexer": "ipython3",
   "version": "3.6.10"
  }
 },
 "nbformat": 4,
 "nbformat_minor": 4
}
