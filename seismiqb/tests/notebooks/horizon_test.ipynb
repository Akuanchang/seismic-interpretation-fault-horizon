{
 "cells": [
  {
   "cell_type": "code",
   "execution_count": 1,
   "metadata": {},
   "outputs": [],
   "source": [
    "# This notebook consists of actions for preparation for Horizon tests\n",
    "# It creates a fake cube with horizon and runs tests\n",
    "import os\n",
    "import sys\n",
    "from datetime import date\n",
    "import shutil\n",
    "import warnings\n",
    "import nbformat\n",
    "import numpy as np\n",
    "from py.path import local\n",
    "\n",
    "warnings.filterwarnings(\"ignore\")\n",
    "\n",
    "sys.path.append('../..') # for running py-script\n",
    "sys.path.append('../../..') # for running this notebook directly\n",
    "\n",
    "from seismiqb.src.synthetic import generate_synthetic\n",
    "from seismiqb.src.geometry.export import make_segy_from_array\n",
    "from seismiqb import Horizon, Field\n",
    "from seismiqb.batchflow.utils_notebook import run_notebook"
   ]
  },
  {
   "cell_type": "code",
   "execution_count": 2,
   "metadata": {},
   "outputs": [],
   "source": [
    "# # Parameters:\n",
    "\n",
    "# # Workspace\n",
    "# DATESTAMP = date.today().strftime(\"%Y-%m-%d\")\n",
    "# NOTEBOOKS_DIR = './'\n",
    "# SAVING_DIR = './'\n",
    "# TEST_DIR = 'horizon_test_files'\n",
    "\n",
    "# # Synthetic creation\n",
    "# SYNTHETIC_MODE = True\n",
    "# CUBE_PATH = None\n",
    "# HORIZON_PATH = None\n",
    "# CUBE_SHAPE = (500, 500, 200)\n",
    "# GRID_SHAPE = (10, 10)\n",
    "# NUM_REFLECTIONS = 60\n",
    "# SEED = 42\n",
    "\n",
    "# # Visualization\n",
    "# FIGSIZE = (12, 7)\n",
    "# SHOW_FIGURES = False # Whether to show additional figures\n",
    "\n",
    "# # Execution\n",
    "# DROP_EXTRA_FILES = True\n",
    "# SHOW_TEST_ERROR_INFO = True\n",
    "# GITHUB_MODE = False"
   ]
  },
  {
   "cell_type": "markdown",
   "metadata": {},
   "source": [
    "# Preparation\n",
    "\n",
    "Create directories for files and create a fake cube with horizons and save cube and one horizon."
   ]
  },
  {
   "cell_type": "markdown",
   "metadata": {},
   "source": [
    "**Storage structure:**\n",
    "___\n",
    "\n",
    "\n",
    "\n",
    "**geometry_test_files** (tests root directory)\n",
    "\n",
    "&emsp;├── **tmp** (directory with temporary files)\n",
    "\n",
    "&emsp;│&emsp;&emsp;├── **test_cube.sgy**\n",
    "    \n",
    "&emsp;│&emsp;&emsp;└── **test_horizon**\n",
    "\n",
    "&emsp;├── **horizon_base_test_out.ipynb** (tests notebooks outputs)\n",
    "\n",
    "&emsp;├── **horizon_manipulations_test_out.ipynb**\n",
    "\n",
    "&emsp;├── **horizon_attributes_test_out.ipynb**\n",
    "\n",
    "&emsp;└── **message.txt** (file with output message)"
   ]
  },
  {
   "cell_type": "code",
   "execution_count": 3,
   "metadata": {},
   "outputs": [],
   "source": [
    "# Storage preparation:\n",
    "\n",
    "if GITHUB_MODE:\n",
    "    TEST_DIR = SAVING_DIR.mkdir(TEST_DIR)\n",
    "    _ = TEST_DIR.mkdir('tmp')\n",
    "\n",
    "else:\n",
    "    # Clear and recreate workspace\n",
    "    TEST_DIR = os.path.join(SAVING_DIR, TEST_DIR)\n",
    "\n",
    "    try:\n",
    "        shutil.rmtree(TEST_DIR)\n",
    "    except OSError as e:\n",
    "        print(f\"Can't delete the directory {TEST_DIR} : {e.strerror}\")\n",
    "\n",
    "    if not os.path.exists(TEST_DIR):\n",
    "        os.makedirs(TEST_DIR)\n",
    "        os.makedirs(os.path.join(TEST_DIR, 'tmp'))\n",
    "\n",
    "\n",
    "msg = DATESTAMP + '\\n\\n'\n",
    "is_all_OK = True"
   ]
  },
  {
   "cell_type": "code",
   "execution_count": 4,
   "metadata": {},
   "outputs": [
    {
     "data": {
      "application/vnd.jupyter.widget-view+json": {
       "model_id": "ea78f55ef7fc4fea89769744b99afa9e",
       "version_major": 2,
       "version_minor": 0
      },
      "text/plain": [
       "  0%|          | 0/500 [00:00<?, ?it/s]"
      ]
     },
     "metadata": {},
     "output_type": "display_data"
    },
    {
     "data": {
      "application/vnd.jupyter.widget-view+json": {
       "model_id": "",
       "version_major": 2,
       "version_minor": 0
      },
      "text/plain": [
       "Finding min/max: 0it [00:00, ?it/s]"
      ]
     },
     "metadata": {},
     "output_type": "display_data"
    },
    {
     "data": {
      "application/vnd.jupyter.widget-view+json": {
       "model_id": "9a4440aaab144f16af308f4e3ae8b2c6",
       "version_major": 2,
       "version_minor": 0
      },
      "text/plain": [
       "Finding min/max:   0%|                                                                                        …"
      ]
     },
     "metadata": {},
     "output_type": "display_data"
    },
    {
     "data": {
      "application/vnd.jupyter.widget-view+json": {
       "model_id": "",
       "version_major": 2,
       "version_minor": 0
      },
      "text/plain": [
       "Collecting stats for test_cube: 0it [00:00, ?it/s]"
      ]
     },
     "metadata": {},
     "output_type": "display_data"
    },
    {
     "data": {
      "application/vnd.jupyter.widget-view+json": {
       "model_id": "38929587158449e6a3e05f658bc563a2",
       "version_major": 2,
       "version_minor": 0
      },
      "text/plain": [
       "Collecting stats for test_cube:   0%|                                                                         …"
      ]
     },
     "metadata": {},
     "output_type": "display_data"
    },
    {
     "name": "stdout",
     "output_type": "stream",
     "text": [
      "2021-11-09\n",
      "\n",
      "Synthetic data was successfully created.\n",
      "\n",
      "CPU times: user 42 s, sys: 6.9 s, total: 48.9 s\n",
      "Wall time: 47.6 s\n"
     ]
    }
   ],
   "source": [
    "%%time\n",
    "# Synthetic data creation\n",
    "\n",
    "if SYNTHETIC_MODE:\n",
    "    CUBE_PATH = os.path.join(TEST_DIR, 'tmp/test_cube.sgy')\n",
    "    HORIZON_PATH = os.path.join(TEST_DIR, 'tmp/test_horizon')\n",
    "\n",
    "    # Create a cube and save it\n",
    "    synt3d, hors, _ = generate_synthetic(shape=CUBE_SHAPE, grid_shape=GRID_SHAPE,\n",
    "                                         num_reflections=NUM_REFLECTIONS,\n",
    "                                         geobodies_format=('heights', 'mask'), seed=SEED)\n",
    "\n",
    "    # Create zero traces in the cube (for testing filetring)\n",
    "    FILL_VALUE = -999999\n",
    "    points = (\n",
    "        slice(0, CUBE_SHAPE[0]//10, None),\n",
    "        slice(CUBE_SHAPE[0]//10, CUBE_SHAPE[0]//5, None),\n",
    "        slice(None)\n",
    "    )\n",
    "    synt3d[points] = FILL_VALUE\n",
    "\n",
    "    make_segy_from_array(synt3d, CUBE_PATH, zip_segy=False)\n",
    "\n",
    "    # Check cube\n",
    "    field = Field(CUBE_PATH)\n",
    "\n",
    "    assert np.allclose(field.geometry[:, :, :], synt3d)\n",
    "\n",
    "    # Choose one horizon and save it\n",
    "    horizons = [Horizon(hor, field, 'synthetic_' + str(i)) for i, hor in enumerate(hors)]\n",
    "    horizon = horizons[0]\n",
    "\n",
    "    horizon.dump(HORIZON_PATH)\n",
    "\n",
    "    # Check horizon\n",
    "    opened_horizon = Horizon(HORIZON_PATH, field=field)\n",
    "\n",
    "    assert np.array_equal(horizon.matrix, opened_horizon.matrix)\n",
    "    assert np.array_equal(horizon.points, opened_horizon.points)\n",
    "\n",
    "    opened_horizon.filter()\n",
    "    opened_horizon.show(show=SHOW_FIGURES, figsize=FIGSIZE)\n",
    "\n",
    "    msg += 'Synthetic data was successfully created.\\n'\n",
    "\n",
    "print(msg)"
   ]
  },
  {
   "cell_type": "markdown",
   "metadata": {},
   "source": [
    "# Run tests"
   ]
  },
  {
   "cell_type": "code",
   "execution_count": 5,
   "metadata": {},
   "outputs": [],
   "source": [
    "def exit_message(test_name, exec_info, out_path_ipynb, is_all_OK):\n",
    "    \" Construct exit message for test and drop extra file.\"\n",
    "    if exec_info is True:\n",
    "        msg = f'Horizon {test_name} tests were executed successfully.\\n'\n",
    "\n",
    "        if DROP_EXTRA_FILES:\n",
    "            print(out_path_ipynb)\n",
    "            try:\n",
    "                os.remove(out_path_ipynb)\n",
    "            except OSError as e:\n",
    "                print(f\"Can't delete the file: {out_path_ipynb} : {e.strerror}\")\n",
    "\n",
    "    else:\n",
    "        msg = f'Horizon {test_name} tests execution failed.\\n'\n",
    "        is_all_OK = False\n",
    "\n",
    "        if SHOW_TEST_ERROR_INFO:\n",
    "            # Add error traceback into the message\n",
    "            out_notebook = nbformat.read(out_path_ipynb, as_version=4)\n",
    "\n",
    "            for cell_info in out_notebook['cells']:\n",
    "                # Try to find cell with error because execution number doesn't count markdown cells\n",
    "                outputs = cell_info.get('outputs', [])\n",
    "\n",
    "                for output in outputs:\n",
    "                    output_type = output.get('output_type', None)\n",
    "\n",
    "                    if output_type == 'error':\n",
    "                        msg += \"TRACEBACK: \\n\"\n",
    "\n",
    "                        traceback = output.get('traceback', [])\n",
    "                        for line in traceback:\n",
    "                            msg += line\n",
    "                        break\n",
    "    return msg, is_all_OK"
   ]
  },
  {
   "cell_type": "code",
   "execution_count": 6,
   "metadata": {},
   "outputs": [
    {
     "name": "stdout",
     "output_type": "stream",
     "text": [
      "./horizon_test_files/horizon_base_test_out_2021-11-09.ipynb\n",
      "OK\n",
      "Horizon base tests were executed successfully.\n",
      "\n",
      "CPU times: user 267 ms, sys: 141 ms, total: 409 ms\n",
      "Wall time: 14.3 s\n"
     ]
    }
   ],
   "source": [
    "%%time\n",
    "# Base test\n",
    "out_path_ipynb = os.path.join(TEST_DIR, f'horizon_base_test_out_{DATESTAMP}.ipynb')\n",
    "\n",
    "exec_info = run_notebook(\n",
    "    path=os.path.join(NOTEBOOKS_DIR, 'horizon_base_test.ipynb'),\n",
    "    nb_kwargs={\n",
    "        'CUBE_PATH': CUBE_PATH,\n",
    "        'HORIZON_PATH': HORIZON_PATH,\n",
    "        'TMP_DIR': os.path.join(TEST_DIR, 'tmp'),\n",
    "        'FIGSIZE': FIGSIZE,\n",
    "        'SHOW_FIGURES': SHOW_FIGURES\n",
    "    },\n",
    "    insert_pos=1,\n",
    "    out_path_ipynb=out_path_ipynb,\n",
    "    display_links=False\n",
    ")\n",
    "\n",
    "current_msg, is_all_OK = exit_message(test_name='base', exec_info=exec_info,\n",
    "                                      out_path_ipynb=out_path_ipynb, is_all_OK=is_all_OK)\n",
    "\n",
    "print(current_msg)\n",
    "\n",
    "msg += current_msg + '\\n'"
   ]
  },
  {
   "cell_type": "code",
   "execution_count": 7,
   "metadata": {},
   "outputs": [
    {
     "name": "stdout",
     "output_type": "stream",
     "text": [
      "./horizon_test_files/horizon_manipulations_test_out_2021-11-09.ipynb\n",
      "OK\n",
      "Horizon manipulations tests were executed successfully.\n",
      "\n",
      "CPU times: user 175 ms, sys: 44 ms, total: 218 ms\n",
      "Wall time: 17.1 s\n"
     ]
    }
   ],
   "source": [
    "%%time\n",
    "# Manipulations test\n",
    "out_path_ipynb = os.path.join(TEST_DIR, f'horizon_manipulations_test_out_{DATESTAMP}.ipynb')\n",
    "\n",
    "exec_info = run_notebook(\n",
    "    path=os.path.join(NOTEBOOKS_DIR, 'horizon_manipulations_test.ipynb'),\n",
    "    nb_kwargs={\n",
    "        'CUBE_PATH': CUBE_PATH,\n",
    "        'HORIZON_PATH': HORIZON_PATH,\n",
    "        'FIGSIZE': FIGSIZE,\n",
    "        'SHOW_FIGURES': SHOW_FIGURES\n",
    "    },\n",
    "    insert_pos=1,\n",
    "    out_path_ipynb=out_path_ipynb,\n",
    "    display_links=False\n",
    ")\n",
    "\n",
    "current_msg, is_all_OK = exit_message(test_name='manipulations', exec_info=exec_info,\n",
    "                                      out_path_ipynb=out_path_ipynb, is_all_OK=is_all_OK)\n",
    "\n",
    "print(current_msg)\n",
    "\n",
    "msg += current_msg + '\\n'"
   ]
  },
  {
   "cell_type": "code",
   "execution_count": 8,
   "metadata": {},
   "outputs": [
    {
     "name": "stdout",
     "output_type": "stream",
     "text": [
      "./horizon_test_files/horizon_attributes_test_out_2021-11-09.ipynb\n",
      "OK\n",
      "Horizon attributes tests were executed successfully.\n",
      "\n",
      "CPU times: user 174 ms, sys: 52 ms, total: 226 ms\n",
      "Wall time: 19.9 s\n"
     ]
    }
   ],
   "source": [
    "%%time\n",
    "# Attributes test\n",
    "out_path_ipynb = os.path.join(TEST_DIR, f'horizon_attributes_test_out_{DATESTAMP}.ipynb')\n",
    "\n",
    "exec_info = run_notebook(\n",
    "    path=os.path.join(NOTEBOOKS_DIR, 'horizon_attributes_test.ipynb'),\n",
    "    nb_kwargs={\n",
    "        'CUBE_PATH': CUBE_PATH,\n",
    "        'HORIZON_PATH': HORIZON_PATH,\n",
    "        'FIGSIZE': FIGSIZE\n",
    "    },\n",
    "    insert_pos=1,\n",
    "    out_path_ipynb=out_path_ipynb,\n",
    "    display_links=False\n",
    ")\n",
    "\n",
    "current_msg, is_all_OK = exit_message(test_name='attributes', exec_info=exec_info,\n",
    "                                      out_path_ipynb=out_path_ipynb, is_all_OK=is_all_OK)\n",
    "\n",
    "print(current_msg)\n",
    "\n",
    "msg += current_msg + '\\n'"
   ]
  },
  {
   "cell_type": "markdown",
   "metadata": {},
   "source": [
    "# Exit"
   ]
  },
  {
   "cell_type": "code",
   "execution_count": 9,
   "metadata": {},
   "outputs": [
    {
     "name": "stdout",
     "output_type": "stream",
     "text": [
      "2021-11-09\n",
      "\n",
      "Synthetic data was successfully created.\n",
      "Horizon base tests were executed successfully.\n",
      "\n",
      "Horizon manipulations tests were executed successfully.\n",
      "\n",
      "Horizon attributes tests were executed successfully.\n",
      "\n",
      "Horizon tests were executed successfully.\n"
     ]
    }
   ],
   "source": [
    "# Drop synthetic data if needed\n",
    "if is_all_OK and DROP_EXTRA_FILES and SYNTHETIC_MODE:\n",
    "\n",
    "    for file_path in [CUBE_PATH, HORIZON_PATH]:\n",
    "        try:\n",
    "            os.remove(file_path)\n",
    "        except OSError as e:\n",
    "            print(f\"Can't delete the file: {file_path} : {e.strerror}\")\n",
    "\n",
    "if is_all_OK:\n",
    "    msg += 'Horizon tests were executed successfully.'\n",
    "\n",
    "# Save message\n",
    "with open(os.path.join(TEST_DIR, f'message_{DATESTAMP}.txt'), \"w\") as outfile:\n",
    "    outfile.write(msg)\n",
    "\n",
    "print(msg)"
   ]
  }
 ],
 "metadata": {
  "kernelspec": {
   "display_name": "Python 3",
   "language": "python",
   "name": "python3"
  },
  "language_info": {
   "codemirror_mode": {
    "name": "ipython",
    "version": 3
   },
   "file_extension": ".py",
   "mimetype": "text/x-python",
   "name": "python",
   "nbconvert_exporter": "python",
   "pygments_lexer": "ipython3",
   "version": "3.6.10"
  }
 },
 "nbformat": 4,
 "nbformat_minor": 4
}
