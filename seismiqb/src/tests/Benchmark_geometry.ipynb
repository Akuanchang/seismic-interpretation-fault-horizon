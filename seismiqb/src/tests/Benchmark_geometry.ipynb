{
 "cells": [
  {
   "cell_type": "code",
   "execution_count": 1,
   "metadata": {},
   "outputs": [],
   "source": [
    "%load_ext autoreload\n",
    "%autoreload 2\n",
    "\n",
    "import os\n",
    "import numpy as np\n",
    "from time import perf_counter\n",
    "import matplotlib.pyplot as plt\n",
    "\n",
    "import sys\n",
    "sys.path.insert(0, '../../..')\n",
    "from seismiqb import SeismicGeometry"
   ]
  },
  {
   "cell_type": "code",
   "execution_count": 2,
   "metadata": {},
   "outputs": [],
   "source": [
    "PATH = '/data/seismic_data/seismic_interpretation/CUBE_02_M/amplitudes_02_M.sgy'\n",
    "\n",
    "names = ['SEG-Y', 'HDF5', 'QHDF5', 'BLOSC', 'QBLOSC']\n",
    "colors = ['yellowgreen', 'pink', 'gold',\n",
    "          'darkturquoise', 'lightcoral', 'salmon',\n",
    "          'sandybrown', 'darkorange', 'olive', 'plum',\n",
    "          'cornflowerblue', 'seagreen']\n",
    "\n",
    "\n",
    "def plot_chart(dct, unit, title):\n",
    "    plt.figure(figsize=(12, 7))\n",
    "    for item in dct.values():\n",
    "        plt.axhline(y=item, linewidth=0.2, color='b', linestyle='--')\n",
    "\n",
    "    bars = plt.bar(dct.keys(), dct.values(),\n",
    "                   color=np.random.choice(colors))\n",
    "    for rect in bars:\n",
    "        height = round(rect.get_height(), 2)\n",
    "        plt.annotate(f'{height} {unit}',\n",
    "                     xy=(rect.get_x() + rect.get_width() / 2, height / 2),\n",
    "                     xytext=(0, 3), fontsize=14,\n",
    "                     textcoords=\"offset points\", ha='center', va='bottom')\n",
    "\n",
    "    plt.title(title, fontsize=20)\n",
    "    plt.xlabel('storage format', fontsize=16)\n",
    "    plt.ylabel(unit, fontsize=16)\n",
    "    plt.show()"
   ]
  },
  {
   "cell_type": "code",
   "execution_count": 3,
   "metadata": {},
   "outputs": [
    {
     "data": {
      "application/vnd.jupyter.widget-view+json": {
       "model_id": "8ee9de92c7df4f0a801e918e5b46553f",
       "version_major": 2,
       "version_minor": 0
      },
      "text/plain": [
       "Finding min/max:   0%|                                                                                        …"
      ]
     },
     "metadata": {},
     "output_type": "display_data"
    },
    {
     "data": {
      "application/vnd.jupyter.widget-view+json": {
       "model_id": "0eefa96471d44d08bb70cb734d2a9fcb",
       "version_major": 2,
       "version_minor": 0
      },
      "text/plain": [
       "Collecting stats for amplitudes_02_M.sgy:   0%|                                                               …"
      ]
     },
     "metadata": {},
     "output_type": "display_data"
    },
    {
     "name": "stdout",
     "output_type": "stream",
     "text": [
      "\n",
      "Geometry for cube              /data/seismic_data/seismic_interpretation/CUBE_02_M/amplitudes_02_M.sgy\n",
      "Current index:                 ['INLINE_3D', 'CROSSLINE_3D']\n",
      "Cube shape:                    [ 418  869 2001]\n",
      "Time delay:                    0\n",
      "Sample rate:                   2.0\n",
      "\n",
      "Cube size:                     2.789 GB\n",
      "Size of the instance:          0.241 GB\n",
      "\n",
      "Number of traces:              363242\n",
      "Number of non-zero traces:     352729\n",
      "\n",
      "Original cube values:\n",
      "Number of uniques:                    238\n",
      "mean | std:                         -1.27 | 4095.83   \n",
      "min | max:                      -45939.22 | 71205.80  \n",
      "q01 | q99:                      -12403.59 | 10566.02  \n",
      "\n",
      "CPU times: user 44.5 s, sys: 2.71 s, total: 47.3 s\n",
      "Wall time: 46.6 s\n"
     ]
    }
   ],
   "source": [
    "%%time\n",
    "geometry_sgy = SeismicGeometry(PATH, collect_stats=True, recollect=True)\n",
    "print(geometry_sgy)"
   ]
  },
  {
   "cell_type": "markdown",
   "metadata": {},
   "source": [
    "# Conversion timings and sizes"
   ]
  },
  {
   "cell_type": "code",
   "execution_count": 4,
   "metadata": {},
   "outputs": [],
   "source": [
    "timings = {}"
   ]
  },
  {
   "cell_type": "code",
   "execution_count": 5,
   "metadata": {},
   "outputs": [
    {
     "data": {
      "application/vnd.jupyter.widget-view+json": {
       "model_id": "2a2b2e152ecb40848e0acc2d5b0a65e1",
       "version_major": 2,
       "version_minor": 0
      },
      "text/plain": [
       "  0%|                                                                                                         …"
      ]
     },
     "metadata": {},
     "output_type": "display_data"
    },
    {
     "name": "stdout",
     "output_type": "stream",
     "text": [
      "\n",
      "Geometry for cube              /data/seismic_data/seismic_interpretation/CUBE_02_M/amplitudes_02_M.hdf5\n",
      "Current index:                 ['INLINE_3D', 'CROSSLINE_3D']\n",
      "Cube shape:                    [ 418  869 2001]\n",
      "Time delay:                    0\n",
      "Sample rate:                   2.0\n",
      "\n",
      "Cube size:                     8.123 GB\n",
      "Size of the instance:          0.149 GB\n",
      "\n",
      "Number of traces:              363242\n",
      "Number of non-zero traces:     352729\n",
      "\n",
      "Original cube values:\n",
      "Number of uniques:                    238\n",
      "mean | std:                         -1.27 | 4095.83   \n",
      "min | max:                      -45939.22 | 71205.80  \n",
      "q01 | q99:                      -12403.59 | 10566.02  \n",
      "\n",
      "CPU times: user 1min 29s, sys: 5.39 s, total: 1min 35s\n",
      "Wall time: 1min 35s\n"
     ]
    }
   ],
   "source": [
    "%%time\n",
    "start = perf_counter()\n",
    "geometry_hdf5 = geometry_sgy.convert_to_hdf5(quantize=False)\n",
    "timings['HDF5'] = perf_counter() - start\n",
    "\n",
    "print(geometry_hdf5)"
   ]
  },
  {
   "cell_type": "code",
   "execution_count": 6,
   "metadata": {},
   "outputs": [
    {
     "data": {
      "application/vnd.jupyter.widget-view+json": {
       "model_id": "b04816f76215476da69affcba46242c5",
       "version_major": 2,
       "version_minor": 0
      },
      "text/plain": [
       "  0%|                                                                                                         …"
      ]
     },
     "metadata": {},
     "output_type": "display_data"
    },
    {
     "name": "stdout",
     "output_type": "stream",
     "text": [
      "\n",
      "Geometry for cube              /data/seismic_data/seismic_interpretation/CUBE_02_M/amplitudes_02_M.qhdf5\n",
      "Current index:                 ['INLINE_3D', 'CROSSLINE_3D']\n",
      "Cube shape:                    [ 418  869 2001]\n",
      "Time delay:                    0\n",
      "Sample rate:                   2.0\n",
      "\n",
      "Cube size:                     2.031 GB\n",
      "Size of the instance:          0.149 GB\n",
      "\n",
      "Number of traces:              363242\n",
      "Number of non-zero traces:     352729\n",
      "\n",
      "Original cube values:\n",
      "Number of uniques:                    238\n",
      "mean | std:                         -1.27 | 4095.83   \n",
      "min | max:                      -45939.22 | 71205.80  \n",
      "q01 | q99:                      -12403.59 | 10566.02  \n",
      "\n",
      "Quantized cube info:\n",
      "Error of quantization:              0.068\n",
      "Ranges:                         -10566.02 | 10566.02  \n",
      "\n",
      "CPU times: user 2min 22s, sys: 2.22 s, total: 2min 24s\n",
      "Wall time: 2min 24s\n"
     ]
    }
   ],
   "source": [
    "%%time\n",
    "start = perf_counter()\n",
    "geometry_hdf5_q = geometry_sgy.convert_to_hdf5(quantize=True)\n",
    "timings['QHDF5'] = perf_counter() - start\n",
    "\n",
    "print(geometry_hdf5_q)"
   ]
  },
  {
   "cell_type": "code",
   "execution_count": 7,
   "metadata": {},
   "outputs": [
    {
     "data": {
      "application/vnd.jupyter.widget-view+json": {
       "model_id": "76290d6d16154d7fbeaf155c9ed3977a",
       "version_major": 2,
       "version_minor": 0
      },
      "text/plain": [
       "  0%|                                                                                                         …"
      ]
     },
     "metadata": {},
     "output_type": "display_data"
    },
    {
     "name": "stdout",
     "output_type": "stream",
     "text": [
      "\n",
      "Geometry for cube              /data/seismic_data/seismic_interpretation/CUBE_02_M/amplitudes_02_M.blosc\n",
      "Current index:                 ['INLINE_3D', 'CROSSLINE_3D']\n",
      "Cube shape:                    [ 418  869 2001]\n",
      "Time delay:                    0\n",
      "Sample rate:                   2.0\n",
      "\n",
      "Cube size:                     1.143 GB\n",
      "Size of the instance:          0.149 GB\n",
      "\n",
      "Number of traces:              363242\n",
      "Number of non-zero traces:     352729\n",
      "\n",
      "Original cube values:\n",
      "Number of uniques:                    238\n",
      "mean | std:                         -1.27 | 4095.83   \n",
      "min | max:                      -45939.22 | 71205.80  \n",
      "q01 | q99:                      -12403.59 | 10566.02  \n",
      "\n",
      "Quantized cube info:\n",
      "Error of quantization:              0.068\n",
      "Ranges:                         -10566.02 | 10566.02  \n",
      "\n",
      "CPU times: user 5min 58s, sys: 2.74 s, total: 6min 1s\n",
      "Wall time: 3min 42s\n"
     ]
    }
   ],
   "source": [
    "%%time\n",
    "start = perf_counter()\n",
    "geometry_blosc = geometry_sgy.convert_to_blosc(quantize=False)\n",
    "timings['BLOSC'] = perf_counter() - start\n",
    "\n",
    "print(geometry_blosc)"
   ]
  },
  {
   "cell_type": "code",
   "execution_count": 8,
   "metadata": {},
   "outputs": [
    {
     "data": {
      "application/vnd.jupyter.widget-view+json": {
       "model_id": "68e7562e27c04a9d865e2fbdcc272c94",
       "version_major": 2,
       "version_minor": 0
      },
      "text/plain": [
       "  0%|                                                                                                         …"
      ]
     },
     "metadata": {},
     "output_type": "display_data"
    },
    {
     "name": "stdout",
     "output_type": "stream",
     "text": [
      "\n",
      "Geometry for cube              /data/seismic_data/seismic_interpretation/CUBE_02_M/amplitudes_02_M.qblosc\n",
      "Current index:                 ['INLINE_3D', 'CROSSLINE_3D']\n",
      "Cube shape:                    [ 418  869 2001]\n",
      "Time delay:                    0\n",
      "Sample rate:                   2.0\n",
      "\n",
      "Cube size:                     0.665 GB\n",
      "Size of the instance:          0.149 GB\n",
      "\n",
      "Number of traces:              363242\n",
      "Number of non-zero traces:     352729\n",
      "\n",
      "Original cube values:\n",
      "Number of uniques:                    238\n",
      "mean | std:                         -1.27 | 4095.83   \n",
      "min | max:                      -45939.22 | 71205.80  \n",
      "q01 | q99:                      -12403.59 | 10566.02  \n",
      "\n",
      "Quantized cube info:\n",
      "Error of quantization:              0.068\n",
      "Ranges:                         -10566.02 | 10566.02  \n",
      "\n",
      "CPU times: user 4min 44s, sys: 2.36 s, total: 4min 46s\n",
      "Wall time: 3min 35s\n"
     ]
    }
   ],
   "source": [
    "%%time\n",
    "start = perf_counter()\n",
    "geometry_blosc_q = geometry_sgy.convert_to_blosc(quantize=True)\n",
    "timings['QBLOSC'] = perf_counter() - start\n",
    "\n",
    "print(geometry_blosc_q)"
   ]
  },
  {
   "cell_type": "code",
   "execution_count": 9,
   "metadata": {},
   "outputs": [
    {
     "name": "stdout",
     "output_type": "stream",
     "text": [
      "     SEG-Y: 2.789 GB\n",
      "      HDF5: 8.123 GB\n",
      "     QHDF5: 2.031 GB\n",
      "     BLOSC: 1.143 GB\n",
      "    QBLOSC: 0.665 GB\n"
     ]
    }
   ],
   "source": [
    "sizes = {}\n",
    "geometries = [geometry_sgy,\n",
    "              geometry_hdf5, geometry_hdf5_q,\n",
    "              geometry_blosc, geometry_blosc_q]\n",
    "\n",
    "for geometry, name in zip(geometries, names):\n",
    "    size = os.path.getsize(geometry.path) / (1024**3)\n",
    "    sizes[name] = size\n",
    "    \n",
    "    print(f'{name:>10}: {size:4.3f} GB')"
   ]
  },
  {
   "cell_type": "code",
   "execution_count": 10,
   "metadata": {},
   "outputs": [
    {
     "data": {
      "image/png": "[encoded data removed]",
      "text/plain": [
       "<Figure size 864x504 with 1 Axes>"
      ]
     },
     "metadata": {
      "needs_background": "light"
     },
     "output_type": "display_data"
    }
   ],
   "source": [
    "plot_chart(sizes, unit='GB', title='File sizes')"
   ]
  },
  {
   "cell_type": "code",
   "execution_count": 11,
   "metadata": {},
   "outputs": [
    {
     "data": {
      "image/png": "[encoded data removed]",
      "text/plain": [
       "<Figure size 864x504 with 1 Axes>"
      ]
     },
     "metadata": {
      "needs_background": "light"
     },
     "output_type": "display_data"
    }
   ],
   "source": [
    "plot_chart(timings, unit='s', title='Creation timings')"
   ]
  },
  {
   "cell_type": "markdown",
   "metadata": {},
   "source": [
    "# Assert data is the same"
   ]
  },
  {
   "cell_type": "code",
   "execution_count": 12,
   "metadata": {
    "scrolled": true
   },
   "outputs": [],
   "source": [
    "geometries = [geometry_sgy, geometry_hdf5, geometry_blosc]"
   ]
  },
  {
   "cell_type": "code",
   "execution_count": 13,
   "metadata": {},
   "outputs": [
    {
     "name": "stdout",
     "output_type": "stream",
     "text": [
      "0 [True, True]\n",
      "1 [True, True]\n",
      "2 [True, True]\n"
     ]
    }
   ],
   "source": [
    "slide_params = [{'loc': 10, 'axis': 0},\n",
    "                {'loc': 10, 'axis': 1},\n",
    "                {'loc': 10, 'axis': 2}]\n",
    "\n",
    "for i, slide_params_ in enumerate(slide_params):\n",
    "    slides = [g.load_slide(**slide_params_) for g in geometries]\n",
    "    \n",
    "    flags = [np.allclose(slide, slides[0]) for slide in slides]\n",
    "    print(i, flags[1:])"
   ]
  },
  {
   "cell_type": "code",
   "execution_count": 14,
   "metadata": {},
   "outputs": [
    {
     "name": "stdout",
     "output_type": "stream",
     "text": [
      "0 [True, True, True]\n",
      "1 [True, True, True]\n",
      "2 [True, True, True]\n"
     ]
    }
   ],
   "source": [
    "crop_locations = [(slice(100, 110), slice(100, 150), slice(100, 200)),\n",
    "                  (slice(100, 200), slice(100, 110), slice(100, 150)),\n",
    "                  (slice(100, 150), slice(100, 200), slice(100, 110)),]\n",
    "\n",
    "for i, location in enumerate(crop_locations):\n",
    "    crops = [g.load_crop(location) for g in geometries]\n",
    "    \n",
    "    flags = [np.allclose(crop, crops[0]) for crop in crops]\n",
    "    print(i, flags)"
   ]
  },
  {
   "cell_type": "markdown",
   "metadata": {},
   "source": [
    "# Load data timings"
   ]
  },
  {
   "cell_type": "code",
   "execution_count": 15,
   "metadata": {},
   "outputs": [],
   "source": [
    "geometries = [geometry_sgy,\n",
    "              geometry_hdf5, geometry_hdf5_q,\n",
    "              geometry_blosc, geometry_blosc_q]"
   ]
  },
  {
   "cell_type": "code",
   "execution_count": 16,
   "metadata": {},
   "outputs": [
    {
     "name": "stdout",
     "output_type": "stream",
     "text": [
      "     SEG-Y:  20.444 ms\n",
      "      HDF5:   1.215 ms\n",
      "     QHDF5:   0.412 ms\n",
      "     BLOSC:   2.070 ms\n",
      "    QBLOSC:   0.867 ms\n"
     ]
    }
   ],
   "source": [
    "N = 300\n",
    "timings = {}\n",
    "\n",
    "for geometry, name in zip(geometries, names):\n",
    "\n",
    "    start = perf_counter()\n",
    "    for _ in range(N):\n",
    "        axis = np.random.randint(3)\n",
    "        loc = np.random.randint(geometry_sgy.cube_shape[axis])\n",
    "        slide = geometry.load_slide(loc, axis)\n",
    "\n",
    "    timings[name] = 1000 * (perf_counter() - start) / N\n",
    "    print(f'{name:>10}: {timings[name]:>7.3f} ms')"
   ]
  },
  {
   "cell_type": "code",
   "execution_count": 17,
   "metadata": {},
   "outputs": [
    {
     "data": {
      "image/png": "[encoded data removed]",
      "text/plain": [
       "<Figure size 864x504 with 1 Axes>"
      ]
     },
     "metadata": {
      "needs_background": "light"
     },
     "output_type": "display_data"
    }
   ],
   "source": [
    "plot_chart(timings, unit='ms', title='Slide loading timings')"
   ]
  },
  {
   "cell_type": "code",
   "execution_count": 18,
   "metadata": {},
   "outputs": [
    {
     "name": "stdout",
     "output_type": "stream",
     "text": [
      "     SEG-Y: 220.141 ms\n",
      "      HDF5:  52.904 ms\n",
      "     QHDF5:  18.194 ms\n",
      "     BLOSC:  89.502 ms\n",
      "    QBLOSC:  41.296 ms\n"
     ]
    }
   ],
   "source": [
    "N = 300\n",
    "timings = {}\n",
    "\n",
    "for geometry, name in zip(geometries, names):\n",
    "\n",
    "    start = perf_counter()\n",
    "    for _ in range(N):\n",
    "        point = np.random.randint(geometry_sgy.cube_shape) // 2\n",
    "        shape = np.random.randint((5, 5, 5), (200, 200, 200))\n",
    "        locations = [slice(start_, start_+shape_)\n",
    "                     for start_, shape_ in zip(point, shape)]\n",
    "        crop = geometry.load_crop(locations)\n",
    "\n",
    "    timings[name] = 1000 * (perf_counter() - start) / N\n",
    "    print(f'{name:>10}: {timings[name]:>7.3f} ms')"
   ]
  },
  {
   "cell_type": "code",
   "execution_count": 19,
   "metadata": {},
   "outputs": [
    {
     "data": {
      "image/png": "[encoded data removed]",
      "text/plain": [
       "<Figure size 864x504 with 1 Axes>"
      ]
     },
     "metadata": {
      "needs_background": "light"
     },
     "output_type": "display_data"
    }
   ],
   "source": [
    "plot_chart(timings, unit='ms', title='Crop loading timings')"
   ]
  }
 ],
 "metadata": {
  "kernelspec": {
   "display_name": "Python 3",
   "language": "python",
   "name": "python3"
  },
  "language_info": {
   "codemirror_mode": {
    "name": "ipython",
    "version": 3
   },
   "file_extension": ".py",
   "mimetype": "text/x-python",
   "name": "python",
   "nbconvert_exporter": "python",
   "pygments_lexer": "ipython3",
   "version": "3.6.10"
  }
 },
 "nbformat": 4,
 "nbformat_minor": 4
}
