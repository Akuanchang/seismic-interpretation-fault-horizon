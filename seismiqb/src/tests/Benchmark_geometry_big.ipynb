{
 "cells": [
  {
   "cell_type": "code",
   "execution_count": 1,
   "metadata": {},
   "outputs": [],
   "source": [
    "%load_ext autoreload\n",
    "%autoreload 2\n",
    "\n",
    "import os\n",
    "import numpy as np\n",
    "from time import perf_counter\n",
    "import matplotlib.pyplot as plt\n",
    "\n",
    "import sys\n",
    "sys.path.insert(0, '../../..')\n",
    "from seismiqb import SeismicGeometry"
   ]
  },
  {
   "cell_type": "code",
   "execution_count": 2,
   "metadata": {},
   "outputs": [],
   "source": [
    "PATH = '/data/seismic_data/seismic_interpretation/CUBE_01_ETP/amplitudes_01_ETP.sgy'\n",
    "\n",
    "names = ['SEG-Y', 'HDF5', 'QHDF5', 'BLOSC', 'QBLOSC']\n",
    "colors = ['yellowgreen', 'pink', 'gold',\n",
    "          'darkturquoise', 'lightcoral', 'salmon',\n",
    "          'sandybrown', 'darkorange', 'olive', 'plum',\n",
    "          'cornflowerblue', 'seagreen']\n",
    "\n",
    "\n",
    "def plot_chart(dct, unit, title):\n",
    "    plt.figure(figsize=(12, 7))\n",
    "    for item in dct.values():\n",
    "        plt.axhline(y=item, linewidth=0.2, color='b', linestyle='--')\n",
    "\n",
    "    bars = plt.bar(dct.keys(), dct.values(),\n",
    "                   color=np.random.choice(colors))\n",
    "    for rect in bars:\n",
    "        height = round(rect.get_height(), 2)\n",
    "        plt.annotate(f'{height} {unit}',\n",
    "                     xy=(rect.get_x() + rect.get_width() / 2, height / 2),\n",
    "                     xytext=(0, 3), fontsize=14,\n",
    "                     textcoords=\"offset points\", ha='center', va='bottom')\n",
    "\n",
    "    plt.title(title, fontsize=20)\n",
    "    plt.xlabel('storage format', fontsize=16)\n",
    "    plt.ylabel(unit, fontsize=16)\n",
    "    plt.show()"
   ]
  },
  {
   "cell_type": "code",
   "execution_count": 3,
   "metadata": {},
   "outputs": [
    {
     "data": {
      "application/vnd.jupyter.widget-view+json": {
       "model_id": "771158cc30794403b6136e1c4ce258e9",
       "version_major": 2,
       "version_minor": 0
      },
      "text/plain": [
       "Finding min/max:   0%|                                                                                        …"
      ]
     },
     "metadata": {},
     "output_type": "display_data"
    },
    {
     "data": {
      "application/vnd.jupyter.widget-view+json": {
       "model_id": "b7c4b4abc04946b7ab42903b0745ed1d",
       "version_major": 2,
       "version_minor": 0
      },
      "text/plain": [
       "Collecting stats for amplitudes_01_ETP.sgy:   0%|                                                             …"
      ]
     },
     "metadata": {},
     "output_type": "display_data"
    },
    {
     "name": "stdout",
     "output_type": "stream",
     "text": [
      "\n",
      "Geometry for cube              /data/seismic_data/seismic_interpretation/CUBE_01_ETP/amplitudes_01_ETP.sgy\n",
      "Current index:                 ['INLINE_3D', 'CROSSLINE_3D']\n",
      "Cube shape:                    [2563 1409 1501]\n",
      "Time delay:                    50\n",
      "Sample rate:                   2.0\n",
      "\n",
      "Cube size:                     21.000 GB\n",
      "Size of the instance:          1.079 GB\n",
      "\n",
      "Number of traces:              3611267\n",
      "Number of non-zero traces:     2435820\n",
      "\n",
      "Original cube values:\n",
      "Number of uniques:                    192\n",
      "mean | std:                          0.12 | 1887.29   \n",
      "min | max:                      -47429.45 | 39240.19  \n",
      "q01 | q99:                       -5459.50 | 5118.29   \n",
      "\n",
      "CPU times: user 4min 30s, sys: 16.5 s, total: 4min 47s\n",
      "Wall time: 4min 30s\n"
     ]
    }
   ],
   "source": [
    "%%time\n",
    "geometry_sgy = SeismicGeometry(PATH, collect_stats=True, recollect=True)\n",
    "print(geometry_sgy)"
   ]
  },
  {
   "cell_type": "markdown",
   "metadata": {},
   "source": [
    "# Conversion timings and sizes"
   ]
  },
  {
   "cell_type": "code",
   "execution_count": 4,
   "metadata": {},
   "outputs": [],
   "source": [
    "timings = {}"
   ]
  },
  {
   "cell_type": "code",
   "execution_count": 5,
   "metadata": {},
   "outputs": [
    {
     "data": {
      "application/vnd.jupyter.widget-view+json": {
       "model_id": "00fbd94778594c758c5f1319dbf9733c",
       "version_major": 2,
       "version_minor": 0
      },
      "text/plain": [
       "  0%|                                                                                                         …"
      ]
     },
     "metadata": {},
     "output_type": "display_data"
    },
    {
     "name": "stdout",
     "output_type": "stream",
     "text": [
      "\n",
      "Geometry for cube              /data/seismic_data/seismic_interpretation/CUBE_01_ETP/amplitudes_01_ETP.hdf5\n",
      "Current index:                 ['INLINE_3D', 'CROSSLINE_3D']\n",
      "Cube shape:                    [2563 1409 1501]\n",
      "Time delay:                    50\n",
      "Sample rate:                   2.0\n",
      "\n",
      "Cube size:                     60.579 GB\n",
      "Size of the instance:          0.102 GB\n",
      "\n",
      "Number of traces:              3611267\n",
      "Number of non-zero traces:     2435820\n",
      "\n",
      "Original cube values:\n",
      "Number of uniques:                    192\n",
      "mean | std:                          0.12 | 1887.29   \n",
      "min | max:                      -47429.45 | 39240.19  \n",
      "q01 | q99:                       -5459.50 | 5118.29   \n",
      "\n",
      "CPU times: user 10min 54s, sys: 46 s, total: 11min 40s\n",
      "Wall time: 11min 38s\n"
     ]
    }
   ],
   "source": [
    "%%time\n",
    "start = perf_counter()\n",
    "geometry_hdf5 = geometry_sgy.convert_to_hdf5(quantize=False)\n",
    "timings['HDF5'] = perf_counter() - start\n",
    "\n",
    "print(geometry_hdf5)"
   ]
  },
  {
   "cell_type": "code",
   "execution_count": 6,
   "metadata": {},
   "outputs": [
    {
     "data": {
      "application/vnd.jupyter.widget-view+json": {
       "model_id": "060eefb345154d59ad8b8b793ae8de20",
       "version_major": 2,
       "version_minor": 0
      },
      "text/plain": [
       "  0%|                                                                                                         …"
      ]
     },
     "metadata": {},
     "output_type": "display_data"
    },
    {
     "name": "stdout",
     "output_type": "stream",
     "text": [
      "\n",
      "Geometry for cube              /data/seismic_data/seismic_interpretation/CUBE_01_ETP/amplitudes_01_ETP.qhdf5\n",
      "Current index:                 ['INLINE_3D', 'CROSSLINE_3D']\n",
      "Cube shape:                    [2563 1409 1501]\n",
      "Time delay:                    50\n",
      "Sample rate:                   2.0\n",
      "\n",
      "Cube size:                     15.145 GB\n",
      "Size of the instance:          0.102 GB\n",
      "\n",
      "Number of traces:              3611267\n",
      "Number of non-zero traces:     2435820\n",
      "\n",
      "Original cube values:\n",
      "Number of uniques:                    192\n",
      "mean | std:                          0.12 | 1887.29   \n",
      "min | max:                      -47429.45 | 39240.19  \n",
      "q01 | q99:                       -5459.50 | 5118.29   \n",
      "\n",
      "Quantized cube info:\n",
      "Error of quantization:              0.041\n",
      "Ranges:                          -5118.29 | 5118.29   \n",
      "\n",
      "CPU times: user 17min 46s, sys: 28.9 s, total: 18min 15s\n",
      "Wall time: 18min 11s\n"
     ]
    }
   ],
   "source": [
    "%%time\n",
    "start = perf_counter()\n",
    "geometry_hdf5_q = geometry_sgy.convert_to_hdf5(quantize=True)\n",
    "timings['QHDF5'] = perf_counter() - start\n",
    "\n",
    "print(geometry_hdf5_q)"
   ]
  },
  {
   "cell_type": "code",
   "execution_count": 7,
   "metadata": {},
   "outputs": [
    {
     "data": {
      "application/vnd.jupyter.widget-view+json": {
       "model_id": "2305d27c268d4d2d885ce30af44a3fdd",
       "version_major": 2,
       "version_minor": 0
      },
      "text/plain": [
       "  0%|                                                                                                         …"
      ]
     },
     "metadata": {},
     "output_type": "display_data"
    },
    {
     "name": "stdout",
     "output_type": "stream",
     "text": [
      "\n",
      "Geometry for cube              /data/seismic_data/seismic_interpretation/CUBE_01_ETP/amplitudes_01_ETP.blosc\n",
      "Current index:                 ['INLINE_3D', 'CROSSLINE_3D']\n",
      "Cube shape:                    [2563 1409 1501]\n",
      "Time delay:                    50\n",
      "Sample rate:                   2.0\n",
      "\n",
      "Cube size:                     14.636 GB\n",
      "Size of the instance:          0.102 GB\n",
      "\n",
      "Number of traces:              3611267\n",
      "Number of non-zero traces:     2435820\n",
      "\n",
      "Original cube values:\n",
      "Number of uniques:                    192\n",
      "mean | std:                          0.12 | 1887.29   \n",
      "min | max:                      -47429.45 | 39240.19  \n",
      "q01 | q99:                       -5459.50 | 5118.29   \n",
      "\n",
      "CPU times: user 15min 15s, sys: 17.3 s, total: 15min 32s\n",
      "Wall time: 12min 34s\n"
     ]
    }
   ],
   "source": [
    "%%time\n",
    "start = perf_counter()\n",
    "geometry_blosc = geometry_sgy.convert_to_blosc(quantize=False)\n",
    "timings['BLOSC'] = perf_counter() - start\n",
    "\n",
    "print(geometry_blosc)"
   ]
  },
  {
   "cell_type": "code",
   "execution_count": 8,
   "metadata": {},
   "outputs": [
    {
     "data": {
      "application/vnd.jupyter.widget-view+json": {
       "model_id": "e9d261fef16c4bfb83686aec5085facd",
       "version_major": 2,
       "version_minor": 0
      },
      "text/plain": [
       "  0%|                                                                                                         …"
      ]
     },
     "metadata": {},
     "output_type": "display_data"
    },
    {
     "name": "stdout",
     "output_type": "stream",
     "text": [
      "\n",
      "Geometry for cube              /data/seismic_data/seismic_interpretation/CUBE_01_ETP/amplitudes_01_ETP.qblosc\n",
      "Current index:                 ['INLINE_3D', 'CROSSLINE_3D']\n",
      "Cube shape:                    [2563 1409 1501]\n",
      "Time delay:                    50\n",
      "Sample rate:                   2.0\n",
      "\n",
      "Cube size:                     7.065 GB\n",
      "Size of the instance:          0.102 GB\n",
      "\n",
      "Number of traces:              3611267\n",
      "Number of non-zero traces:     2435820\n",
      "\n",
      "Original cube values:\n",
      "Number of uniques:                    192\n",
      "mean | std:                          0.12 | 1887.29   \n",
      "min | max:                      -47429.45 | 39240.19  \n",
      "q01 | q99:                       -5459.50 | 5118.29   \n",
      "\n",
      "Quantized cube info:\n",
      "Error of quantization:              0.041\n",
      "Ranges:                          -5118.29 | 5118.29   \n",
      "\n",
      "CPU times: user 20min 26s, sys: 17.9 s, total: 20min 43s\n",
      "Wall time: 19min 18s\n"
     ]
    }
   ],
   "source": [
    "%%time\n",
    "start = perf_counter()\n",
    "geometry_blosc_q = geometry_sgy.convert_to_blosc(quantize=True)\n",
    "timings['QBLOSC'] = perf_counter() - start\n",
    "\n",
    "print(geometry_blosc_q)"
   ]
  },
  {
   "cell_type": "code",
   "execution_count": 9,
   "metadata": {},
   "outputs": [
    {
     "name": "stdout",
     "output_type": "stream",
     "text": [
      "     SEG-Y: 21.000 GB\n",
      "      HDF5: 60.579 GB\n",
      "     QHDF5: 15.145 GB\n",
      "     BLOSC: 14.636 GB\n",
      "    QBLOSC: 7.065 GB\n"
     ]
    }
   ],
   "source": [
    "sizes = {}\n",
    "geometries = [geometry_sgy,\n",
    "              geometry_hdf5, geometry_hdf5_q,\n",
    "              geometry_blosc, geometry_blosc_q]\n",
    "\n",
    "for geometry, name in zip(geometries, names):\n",
    "    size = os.path.getsize(geometry.path) / (1024**3)\n",
    "    sizes[name] = size\n",
    "    \n",
    "    print(f'{name:>10}: {size:4.3f} GB')"
   ]
  },
  {
   "cell_type": "code",
   "execution_count": 10,
   "metadata": {},
   "outputs": [
    {
     "data": {
      "image/png": "[encoded data removed]",
      "text/plain": [
       "<Figure size 864x504 with 1 Axes>"
      ]
     },
     "metadata": {
      "needs_background": "light"
     },
     "output_type": "display_data"
    }
   ],
   "source": [
    "plot_chart(sizes, unit='GB', title='File sizes')"
   ]
  },
  {
   "cell_type": "code",
   "execution_count": 11,
   "metadata": {},
   "outputs": [
    {
     "data": {
      "image/png": "[encoded data removed]",
      "text/plain": [
       "<Figure size 864x504 with 1 Axes>"
      ]
     },
     "metadata": {
      "needs_background": "light"
     },
     "output_type": "display_data"
    }
   ],
   "source": [
    "plot_chart(timings, unit='s', title='Creation timings')"
   ]
  },
  {
   "cell_type": "markdown",
   "metadata": {},
   "source": [
    "# Assert data is the same"
   ]
  },
  {
   "cell_type": "code",
   "execution_count": 12,
   "metadata": {
    "scrolled": true
   },
   "outputs": [],
   "source": [
    "geometries = [geometry_sgy, geometry_hdf5, geometry_blosc]"
   ]
  },
  {
   "cell_type": "code",
   "execution_count": 13,
   "metadata": {},
   "outputs": [
    {
     "name": "stdout",
     "output_type": "stream",
     "text": [
      "0 [True, True]\n",
      "1 [True, True]\n",
      "2 [True, True]\n"
     ]
    }
   ],
   "source": [
    "slide_params = [{'loc': 10, 'axis': 0},\n",
    "                {'loc': 10, 'axis': 1},\n",
    "                {'loc': 10, 'axis': 2}]\n",
    "\n",
    "for i, slide_params_ in enumerate(slide_params):\n",
    "    slides = [g.load_slide(**slide_params_) for g in geometries]\n",
    "    \n",
    "    flags = [np.allclose(slide, slides[0]) for slide in slides]\n",
    "    print(i, flags[1:])"
   ]
  },
  {
   "cell_type": "code",
   "execution_count": 14,
   "metadata": {},
   "outputs": [
    {
     "name": "stdout",
     "output_type": "stream",
     "text": [
      "0 [True, True, True]\n",
      "1 [True, True, True]\n",
      "2 [True, True, True]\n"
     ]
    }
   ],
   "source": [
    "crop_locations = [(slice(100, 110), slice(100, 150), slice(100, 200)),\n",
    "                  (slice(100, 200), slice(100, 110), slice(100, 150)),\n",
    "                  (slice(100, 150), slice(100, 200), slice(100, 110)),]\n",
    "\n",
    "for i, location in enumerate(crop_locations):\n",
    "    crops = [g.load_crop(location) for g in geometries]\n",
    "    \n",
    "    flags = [np.allclose(crop, crops[0]) for crop in crops]\n",
    "    print(i, flags)"
   ]
  },
  {
   "cell_type": "markdown",
   "metadata": {},
   "source": [
    "# Load data timings"
   ]
  },
  {
   "cell_type": "code",
   "execution_count": 15,
   "metadata": {},
   "outputs": [],
   "source": [
    "geometries = [geometry_sgy,\n",
    "              geometry_hdf5, geometry_hdf5_q,\n",
    "              geometry_blosc, geometry_blosc_q]"
   ]
  },
  {
   "cell_type": "code",
   "execution_count": 16,
   "metadata": {},
   "outputs": [
    {
     "name": "stdout",
     "output_type": "stream",
     "text": [
      "     SEG-Y: 147.196 ms\n",
      "      HDF5:   3.296 ms\n",
      "     QHDF5:   1.050 ms\n",
      "     BLOSC:   6.476 ms\n",
      "    QBLOSC:   3.126 ms\n"
     ]
    }
   ],
   "source": [
    "N = 300\n",
    "timings = {}\n",
    "\n",
    "for geometry, name in zip(geometries, names):\n",
    "\n",
    "    start = perf_counter()\n",
    "    for _ in range(N):\n",
    "        axis = np.random.randint(3)\n",
    "        loc = np.random.randint(geometry_sgy.cube_shape[axis])\n",
    "        slide = geometry.load_slide(loc, axis)\n",
    "\n",
    "    timings[name] = 1000 * (perf_counter() - start) / N\n",
    "    print(f'{name:>10}: {timings[name]:>7.3f} ms')"
   ]
  },
  {
   "cell_type": "code",
   "execution_count": 17,
   "metadata": {},
   "outputs": [
    {
     "data": {
      "image/png": "[encoded data removed]",
      "text/plain": [
       "<Figure size 864x504 with 1 Axes>"
      ]
     },
     "metadata": {
      "needs_background": "light"
     },
     "output_type": "display_data"
    }
   ],
   "source": [
    "plot_chart(timings, unit='ms', title='Slide loading timings')"
   ]
  },
  {
   "cell_type": "code",
   "execution_count": 18,
   "metadata": {},
   "outputs": [
    {
     "name": "stdout",
     "output_type": "stream",
     "text": [
      "     SEG-Y: 231.172 ms\n",
      "      HDF5: 149.655 ms\n",
      "     QHDF5:  50.585 ms\n",
      "     BLOSC: 298.167 ms\n",
      "    QBLOSC: 132.790 ms\n"
     ]
    }
   ],
   "source": [
    "N = 300\n",
    "timings = {}\n",
    "\n",
    "for geometry, name in zip(geometries, names):\n",
    "\n",
    "    start = perf_counter()\n",
    "    for _ in range(N):\n",
    "        point = np.random.randint(geometry_sgy.cube_shape) // 2\n",
    "        shape = np.random.randint((5, 5, 5), (200, 200, 200))\n",
    "        locations = [slice(start_, start_+shape_)\n",
    "                     for start_, shape_ in zip(point, shape)]\n",
    "        crop = geometry.load_crop(locations)\n",
    "\n",
    "    timings[name] = 1000 * (perf_counter() - start) / N\n",
    "    print(f'{name:>10}: {timings[name]:>7.3f} ms')"
   ]
  },
  {
   "cell_type": "code",
   "execution_count": 19,
   "metadata": {},
   "outputs": [
    {
     "data": {
      "image/png": "[encoded data removed]",
      "text/plain": [
       "<Figure size 864x504 with 1 Axes>"
      ]
     },
     "metadata": {
      "needs_background": "light"
     },
     "output_type": "display_data"
    }
   ],
   "source": [
    "plot_chart(timings, unit='ms', title='Crop loading timings')"
   ]
  }
 ],
 "metadata": {
  "kernelspec": {
   "display_name": "Python 3",
   "language": "python",
   "name": "python3"
  },
  "language_info": {
   "codemirror_mode": {
    "name": "ipython",
    "version": 3
   },
   "file_extension": ".py",
   "mimetype": "text/x-python",
   "name": "python",
   "nbconvert_exporter": "python",
   "pygments_lexer": "ipython3",
   "version": "3.6.10"
  }
 },
 "nbformat": 4,
 "nbformat_minor": 4
}
